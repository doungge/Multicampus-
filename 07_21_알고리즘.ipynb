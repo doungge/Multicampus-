{
  "nbformat": 4,
  "nbformat_minor": 0,
  "metadata": {
    "colab": {
      "name": "07-21 알고리즘.ipynb",
      "provenance": [],
      "collapsed_sections": [],
      "authorship_tag": "ABX9TyN8+VsMgJ48MccaQQHl2SFq",
      "include_colab_link": true
    },
    "kernelspec": {
      "name": "python3",
      "display_name": "Python 3"
    },
    "language_info": {
      "name": "python"
    }
  },
  "cells": [
    {
      "cell_type": "markdown",
      "metadata": {
        "id": "view-in-github",
        "colab_type": "text"
      },
      "source": [
        "<a href=\"https://colab.research.google.com/github/doungge/Multicampus-/blob/master/07_21_%EC%95%8C%EA%B3%A0%EB%A6%AC%EC%A6%98.ipynb\" target=\"_parent\"><img src=\"https://colab.research.google.com/assets/colab-badge.svg\" alt=\"Open In Colab\"/></a>"
      ]
    },
    {
      "cell_type": "markdown",
      "metadata": {
        "id": "l_iWDl-su1Tp"
      },
      "source": [
        "## 선형 리스트(code_03_04)\n",
        "\n"
      ]
    },
    {
      "cell_type": "code",
      "metadata": {
        "id": "7ok1FFNBu0Z6"
      },
      "source": [
        "# 함수부분\n",
        "def add_data(friend): #함수 Function = 기능\n",
        "    katok.append(None)\n",
        "    kLen = len(katok)\n",
        "    katok[kLen-1] = friend\n",
        "\n",
        "def insert_data(position, friend):\n",
        "    katok.append(None)\n",
        "    kLen = len(katok)\n",
        "    for i in range(kLen-1, position, -1):\n",
        "        katok[i] = katok[i-1]\n",
        "        katok[i-1] = None\n",
        "\n",
        "    katok[position] = friend\n",
        "\n",
        "def delete_data(position):\n",
        "    kLen= len(katok)\n",
        "    katok[position] = None\n",
        "    for i in range(position+1, kLen,1):\n",
        "        katok[i-1] = katok[i]\n",
        "        katok[i]= None\n",
        "    del(katok[kLen-1])\n",
        "\n",
        "## 전역\n",
        "katok = []\n",
        "select = -1 #1추가 , 2삽입, 3삭제 4종료\n",
        "## 메인\n",
        "\n",
        "while(select != 4 ):\n",
        "    select  = int(input('선택(1추가, 2삽입, 3삭제, 4종료-->'))\n",
        "\n",
        "    if(select == 1):\n",
        "        data = input('추가할 친구-->')\n",
        "        add_data(data)\n",
        "        print(katok)\n",
        "    elif(select == 2):\n",
        "        pos = int(input('넣을 인덱스값 -->'))\n",
        "        data= input('삽입할 친구-->')\n",
        "        insert_data(pos, data)\n",
        "        print(katok)\n",
        "    elif(select == 3):\n",
        "        pos = int(input('삭제할 친구 위치-->'))\n",
        "        delete_data(pos)\n",
        "        print(katok)\n",
        "    elif(select == 4):\n",
        "        pass\n",
        "    else:\n",
        "        print('잘못입력')"
      ],
      "execution_count": null,
      "outputs": []
    },
    {
      "cell_type": "markdown",
      "metadata": {
        "id": "oSMiuVLUuJOm"
      },
      "source": [
        "##단순 연결 리스트(code_04_01)"
      ]
    },
    {
      "cell_type": "code",
      "metadata": {
        "id": "zJkOENWRuCX3"
      },
      "source": [
        "\n",
        "## 함수, 클래스\n",
        "class Node(): # ex) 붕어빵 틀\n",
        "    def __init__(self):\n",
        "        self.data = None\n",
        "        self.link = None \n",
        "\n",
        "## 전역변수\n",
        "\n",
        "\n",
        "## 메인코드\n",
        "node1 = Node() #ex) 붕어빵\n",
        "node1.data = '다현'\n",
        "\n",
        "node2 = Node()\n",
        "node2.data = '정연'\n",
        "node1.link = node2\n",
        "\n",
        "node3 = Node()\n",
        "node3.data = '쯔위'\n",
        "node2.link = node3\n",
        "\n",
        "node4 = Node()\n",
        "node4.data = '사나'\n",
        "node3.link = node4\n",
        "\n",
        "node5 = Node()\n",
        "node5.data = '지효'\n",
        "node4.link = node5\n",
        "\n",
        "#print(node1.data, end = '  ')\n",
        "#print(node1.link.data, end = '  ')\n",
        "#print(node1.link.link.data, end = '  ')\n",
        "#print(node1.link.link.link.data, end = '  ')\n",
        "#print(node1.link.link.link.link.data, end = '  ')\n",
        "\n",
        "#newNode = Node()\n",
        "#newNode.data = '재남'\n",
        "#newNode.link= node2.link\n",
        "#node2.link = newNode\n",
        "\n",
        "node2.link = node3.link\n",
        "del(node3)\n",
        "\n",
        "current = node1\n",
        "print(current.data, end = '   ')\n",
        "while current.link != None : \n",
        "    current = current.link\n",
        "    print(current.data, end = '   ')"
      ],
      "execution_count": null,
      "outputs": []
    },
    {
      "cell_type": "markdown",
      "metadata": {
        "id": "kV60VQ5UuRbm"
      },
      "source": [
        "## 연결 리스트 (code_04_05)"
      ]
    },
    {
      "cell_type": "code",
      "metadata": {
        "colab": {
          "base_uri": "https://localhost:8080/"
        },
        "id": "_WGhMWb4Y0_N",
        "outputId": "e6c512ae-3310-4e11-928e-4fff8c2aa503"
      },
      "source": [
        "##함수\n",
        "class Node(): \n",
        "    def __init__(self):\n",
        "        self.data = None\n",
        "        self.link = None \n",
        "\n",
        "def printNodes(start):\n",
        "    \n",
        "    current = start\n",
        "    print(current.data, end = '   ')\n",
        "    while current.link != None : \n",
        "         current = current.link\n",
        "         print(current.data, end = '   ')\n",
        "    print()\n",
        "\n",
        "def insert_node(findData, insertData):\n",
        "    global memory, head, current, pre\n",
        "    if (findData == head.data) : \n",
        "        node = Node()\n",
        "        node.data = insertData\n",
        "        node.link = head\n",
        "        head = node\n",
        "        memory.append(node)\n",
        "        return \n",
        "    current = head\n",
        "    while current.link != None :\n",
        "        pre = current\n",
        "        current = current.link\n",
        "        if (current.data == findData):\n",
        "            node = Node()\n",
        "            node.data = insertData\n",
        "            node.link = current\n",
        "            pre.link = node\n",
        "            memory.append(node)\n",
        "            return\n",
        "\n",
        "    node = Node()\n",
        "    node.data = insertData\n",
        "    current.link = node\n",
        "    memory.append(node)\n",
        "    return\n",
        "    \n",
        "def delete_node(delData) :\n",
        "    global memory, head, current, pre\n",
        "    if (head.data == delData) :\n",
        "        current = head\n",
        "        head = head.link\n",
        "        del(current)\n",
        "        return\n",
        "    current = head\n",
        "    while (current.link != None) :\n",
        "        pre = current\n",
        "        current = current.link\n",
        "        if (current.data == delData) :\n",
        "            pre.link = current.link\n",
        "            del(current)\n",
        "            return\n",
        "\n",
        "def find_node(findData):\n",
        "    global memory, head, current, pre\n",
        "    current = head\n",
        "    if(current.data ==findData):\n",
        "        return current\n",
        "    while(current.link != None):\n",
        "        current = current.link\n",
        "        if current.data ==findData:\n",
        "            return current\n",
        "   \n",
        "    return Node() #빈 노드 반환\n",
        "\n",
        "##전역변수\n",
        "memory = []\n",
        "head, current, pre = None, None, None\n",
        "# 데이터 집합(실무 DB, 웹크롤링, 센서신호 ....)\n",
        "dataArray = ['다현', '정현', '쯔위', '사나', '지효']\n",
        "\n",
        "##메인코드\n",
        "# 첫 노드\n",
        "node = Node()\n",
        "node.data = dataArray[0]\n",
        "head = node\n",
        "memory.append(node)\n",
        "\n",
        "#그외 노드\n",
        "for data in dataArray[1:]:\n",
        "    pre = node \n",
        "    node = Node()\n",
        "    node.data = data\n",
        "    pre.link = node\n",
        "    memory.append(node)\n",
        "\n",
        "printNodes(head)\n",
        "\n",
        "\n",
        "insert_node('다현', '화사')\n",
        "printNodes(head)\n",
        "insert_node('사나', '솔라')\n",
        "printNodes(head)\n",
        "insert_node('재남', '문별')\n",
        "printNodes(head)\n",
        "\n",
        "delete_node('화사')\n",
        "printNodes(head)\n",
        "delete_node('사나')\n",
        "printNodes(head)\n",
        "delete_node('재남')\n",
        "printNodes(head)\n",
        "\n",
        "\n",
        "fNode = find_node('다현')\n",
        "print(fNode.data)\n",
        "fNode = find_node('지효')\n",
        "print(fNode.data)\n",
        "fNode = find_node('재남')\n",
        "print(fNode.data)"
      ],
      "execution_count": 22,
      "outputs": [
        {
          "output_type": "stream",
          "text": [
            "다현   정현   쯔위   사나   지효   \n",
            "화사   다현   정현   쯔위   사나   지효   \n",
            "화사   다현   정현   쯔위   솔라   사나   지효   \n",
            "화사   다현   정현   쯔위   솔라   사나   지효   문별   \n",
            "다현   정현   쯔위   솔라   사나   지효   문별   \n",
            "다현   정현   쯔위   솔라   지효   문별   \n",
            "다현   정현   쯔위   솔라   지효   문별   \n",
            "다현\n",
            "지효\n",
            "None\n"
          ],
          "name": "stdout"
        }
      ]
    },
    {
      "cell_type": "markdown",
      "metadata": {
        "id": "5gMKkHn4diP4"
      },
      "source": [
        "## 스택\n",
        "\n",
        "선입후출 후입선출\n"
      ]
    },
    {
      "cell_type": "code",
      "metadata": {
        "colab": {
          "base_uri": "https://localhost:8080/"
        },
        "id": "rjTNq0e1IWux",
        "outputId": "b849d6f4-e70b-4b15-d64c-621d8245ddfd"
      },
      "source": [
        " ## 함수\n",
        "\n",
        "stack = [None,None,None,None,None]\n",
        "top =-1\n",
        "\n",
        "\n",
        " ## 변수\n",
        "\n",
        " ## 메인\n",
        " top +=1\n",
        " stack[top] = '커피'\n",
        " top +=1\n",
        " stack[top] = '녹차'\n",
        "print('바닥 |', stack)\n",
        "\n",
        " data = stack[top]\n",
        " stack[top] = None\n",
        " top -= 1\n",
        " print('추출 -->', data)\n",
        "\n",
        " data = stack[top]\n",
        " stack[top] = None\n",
        " top -= 1\n",
        " print('추출 -->', data)\n",
        "\n",
        " print('바닥 |', stack)"
      ],
      "execution_count": 26,
      "outputs": [
        {
          "output_type": "stream",
          "text": [
            "바닥 | ['커피', '녹차', None, None, None]\n",
            "추출 --> 녹차\n",
            "추출 --> 커피\n",
            "바닥 | [None, None, None, None, None]\n"
          ],
          "name": "stdout"
        }
      ]
    },
    {
      "cell_type": "code",
      "metadata": {
        "colab": {
          "base_uri": "https://localhost:8080/"
        },
        "id": "lZ4MYpqnLGb-",
        "outputId": "19b72655-fd9e-47c5-f778-64293355439c"
      },
      "source": [
        "## 함수\n",
        "def isStackFull() : # 스택 꽉 확인\n",
        "    global SIZE, stack, top\n",
        "    if (top == SIZE-1) :\n",
        "        return True\n",
        "    else :\n",
        "        return False\n",
        "\n",
        "def push(data) : # 푸쉬\n",
        "    global SIZE, stack, top\n",
        "    if (isStackFull() == True) :\n",
        "        print('스택 꽉!')\n",
        "        return\n",
        "    top += 1\n",
        "    stack[top] = data\n",
        "\n",
        "## 전역\n",
        "SIZE = 5\n",
        "stack = [ None for _ in range(SIZE)]\n",
        "top = -1\n",
        "\n",
        "## 메인\n",
        "push('커피1');push('커피2');push('커피3')\n",
        "push('커피4');push('커피5')\n",
        "print( '바닥 |', stack)\n",
        "push('녹차')\n",
        "print( '바닥 |', stack)"
      ],
      "execution_count": 30,
      "outputs": [
        {
          "output_type": "stream",
          "text": [
            "바닥 | ['커피1', '커피2', '커피3', '커피4', '커피5']\n",
            "스택 꽉!\n",
            "바닥 | ['커피1', '커피2', '커피3', '커피4', '커피5']\n"
          ],
          "name": "stdout"
        }
      ]
    },
    {
      "cell_type": "code",
      "metadata": {
        "id": "KNCXPzxaODsg"
      },
      "source": [
        ""
      ],
      "execution_count": null,
      "outputs": []
    }
  ]
}