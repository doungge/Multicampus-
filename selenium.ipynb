{
 "cells": [
  {
   "cell_type": "code",
   "execution_count": 1,
   "metadata": {},
   "outputs": [],
   "source": [
    "from selenium import webdriver"
   ]
  },
  {
   "cell_type": "code",
   "execution_count": 2,
   "metadata": {},
   "outputs": [],
   "source": [
    "driver = webdriver.Chrome('C:/myexam/chromedrive/chromedriver.exe')"
   ]
  },
  {
   "cell_type": "markdown",
   "metadata": {},
   "source": [
    "브라우저 열기 \n",
    "- 방법 1 직접 드라이버의 경로를 지정하여 실행\n",
    "브라우저 열기 \n",
    "- 방법 2 환경변수 설정이 되어 있는 상태에서 실행\n",
    "- 드라이버 파일은 같은 디렉토리에 있는 경우에 실행"
   ]
  },
  {
   "cell_type": "markdown",
   "metadata": {},
   "source": [
    "## Selenium의 기본 사용법\n",
    "1. 셀레니움이란?\n",
    "- 셀레니움은 브라우져를 자동화하는 툴으로 테스팅 목적으로 웹 어프리케이션을 자동화하는 목적으로 만들어졌지만 테스팅에 국한되서 사용 되지는 않습니다.\n",
    "2. 웹 드라이버 객체 만들기 및 페이지 이동\n",
    "- driver의 get 함수를 이용하여 크롬 브라우져에서 페이지를 이동할 수 있습니다.\n",
    "- 아래의 코드는 naver웹 페이지로 이동합니다.\n",
    "- url은 http를 꼭 포함해야한다."
   ]
  },
  {
   "cell_type": "code",
   "execution_count": null,
   "metadata": {},
   "outputs": [],
   "source": [
    "driver.get(\"https://www.naver.com/\")"
   ]
  },
  {
   "cell_type": "markdown",
   "metadata": {},
   "source": [
    "3. 윈도우 사이즈 조절\n",
    "- driver의 set_window_size함수를 이용하여 윈도우 사이즈를 조절할 수 있다.\n",
    "- 함수내의 첫번째 파라미터는 가로 사이즈를 나타내며 두번째 파라미터는 새로 사이즈를 나타낸다.\n",
    "- 사이즈의 단위는 픽셀이다."
   ]
  },
  {
   "cell_type": "code",
   "execution_count": 4,
   "metadata": {},
   "outputs": [],
   "source": [
    "driver.set_window_size(1024,768)\n"
   ]
  },
  {
   "cell_type": "markdown",
   "metadata": {},
   "source": [
    "4. 브라우저의 스크롤 위치 이동\n",
    "- 브라우져의 스크롤 위치 이동은 selenium의 webdriver에 따로 기능이 없기 때문에 javascript 코드를 실행 하여 브라우져 스크롤 위치를 이동시킬 수 있습니다.\n",
    "- javascript의 window.scrollTo 함수의 첫번째 파라미터는 가로축 위치를 나타내며 아래 코드와 같이 200으로 설정을 하면 왼쪽에서 200픽셀만큼의 브라우져 스크롤 위치를 이동함을 의미한다.\n",
    "- 두번쨰 파라미터는 세로축의 위치를 나타내며 아래의 코드와 같이 300으로 지정을 하면 위에서 아래로 300픽셀만큼 스크롤이 내려감을 의미한다."
   ]
  },
  {
   "cell_type": "code",
   "execution_count": 6,
   "metadata": {},
   "outputs": [],
   "source": [
    "driver.execute_script('window.scrollTo(200,300);')"
   ]
  },
  {
   "cell_type": "markdown",
   "metadata": {},
   "source": [
    "5. Alert 다루기\n",
    "- 크롤링이나 자동화를 하는 중간에 alert 메세지가 나오는 경우가 있다.\n",
    "- 이럴때 크롤링이나 자동화를 계속 실행시키기위해 alert메세지를 다룰지 알아야한다.\n"
   ]
  },
  {
   "cell_type": "code",
   "execution_count": 11,
   "metadata": {},
   "outputs": [
    {
     "name": "stdout",
     "output_type": "stream",
     "text": [
      "selenium test\n"
     ]
    }
   ],
   "source": [
    "#alert 다루기\n",
    "try:\n",
    "    alert = driver.switch_to.alert\n",
    "    print(alert.text)\n",
    "except:\n",
    "    print(\"alert 없음\")"
   ]
  },
  {
   "cell_type": "code",
   "execution_count": 9,
   "metadata": {},
   "outputs": [],
   "source": [
    "driver.execute_script(\"alert('selenium test');\")"
   ]
  },
  {
   "cell_type": "code",
   "execution_count": 12,
   "metadata": {},
   "outputs": [],
   "source": [
    "alert.accept() # alert 확인버튼 누르기"
   ]
  },
  {
   "cell_type": "markdown",
   "metadata": {},
   "source": [
    "7. 버튼 클릭하기\n",
    " - selenium driver의 css selector와 click 함수를 이용하여 웹페이지의 input 태그에 문자열을 입력할 수 있다."
   ]
  },
  {
   "cell_type": "code",
   "execution_count": 19,
   "metadata": {},
   "outputs": [],
   "source": [
    "driver.find_element_by_css_selector('.btn_submit').click()"
   ]
  },
  {
   "cell_type": "markdown",
   "metadata": {},
   "source": [
    "8. 텍스트 데이터 가져오기\n",
    " - text 변수를 사용\n",
    " - find_elements_by_css_selector: 여러개의 엘리먼트를 선택\n"
   ]
  },
  {
   "cell_type": "code",
   "execution_count": 20,
   "metadata": {},
   "outputs": [],
   "source": [
    "# 테드 사이트로 접속\n",
    "driver.get('https://www.ted.com/talks')"
   ]
  },
  {
   "cell_type": "code",
   "execution_count": 21,
   "metadata": {},
   "outputs": [
    {
     "data": {
      "text/plain": [
       "'Join TED Recommends to get the best ideas, selected just for you'"
      ]
     },
     "execution_count": 21,
     "metadata": {},
     "output_type": "execute_result"
    }
   ],
   "source": [
    "#메인 베너 타이틀 가져오기\n",
    "driver.find_element_by_css_selector('#banner-secondary').text"
   ]
  },
  {
   "cell_type": "code",
   "execution_count": 24,
   "metadata": {},
   "outputs": [
    {
     "data": {
      "text/plain": [
       "36"
      ]
     },
     "execution_count": 24,
     "metadata": {},
     "output_type": "execute_result"
    }
   ],
   "source": [
    "#컨텐츠 리스트 제목 가져오기\n",
    "contents = driver.find_elements_by_css_selector(\"#browse-results >div>.col\")\n",
    "len(contents)"
   ]
  },
  {
   "cell_type": "code",
   "execution_count": 27,
   "metadata": {},
   "outputs": [
    {
     "data": {
      "text/plain": [
       "'The secret society of the Great Dismal Swamp'"
      ]
     },
     "execution_count": 27,
     "metadata": {},
     "output_type": "execute_result"
    }
   ],
   "source": [
    "#t셀렉터 확인\n",
    "contents[0].find_element_by_css_selector('.media > .media__message .ga-link').text\n"
   ]
  },
  {
   "cell_type": "code",
   "execution_count": 28,
   "metadata": {},
   "outputs": [],
   "source": [
    "titles = []\n",
    "for content in contents:\n",
    "    title = content.find_element_by_css_selector('.media > .media__message .ga-link').text\n",
    "    titles.append(title)\n"
   ]
  },
  {
   "cell_type": "code",
   "execution_count": 30,
   "metadata": {},
   "outputs": [
    {
     "data": {
      "text/plain": [
       "[\"History's deadliest king\",\n",
       " \"A cleanse won't detox your body — but here's what will\",\n",
       " 'What should humans take to space (and leave behind)?',\n",
       " 'Could we build a wooden skyscraper?',\n",
       " \"Why aren't there more Native American restaurants?\"]"
      ]
     },
     "execution_count": 30,
     "metadata": {},
     "output_type": "execute_result"
    }
   ],
   "source": [
    "titles[-5:]"
   ]
  },
  {
   "cell_type": "code",
   "execution_count": 33,
   "metadata": {},
   "outputs": [
    {
     "data": {
      "text/plain": [
       "['English', 'Español', '日本語', 'Português brasileiro', '中文 (繁體)', '한국어']"
      ]
     },
     "execution_count": 33,
     "metadata": {},
     "output_type": "execute_result"
    }
   ],
   "source": [
    "#사용 가능한 언어 옵션 리스트 가져오기 text는 하위 엘리먼트의 문자열까지 가져옵니다.\n",
    "languages = driver.find_element_by_css_selector('#languages').text\n",
    "languages = languages.split(\"\\n\")[1:-1]\n",
    "languages"
   ]
  },
  {
   "cell_type": "code",
   "execution_count": 35,
   "metadata": {},
   "outputs": [],
   "source": [
    "# 한국어 선택 후 결과 컨텐츠의 제목 가져오기\n",
    "\n",
    "#셀렉트 박스를 선택\n",
    "driver.find_element_by_css_selector('#languages [lang=\"ko\"]').click()"
   ]
  },
  {
   "cell_type": "code",
   "execution_count": 36,
   "metadata": {},
   "outputs": [
    {
     "data": {
      "text/plain": [
       "['지역 사회와 가능성을 위해 만들어진 재미있고 멋진 공공 공간',\n",
       " '인테넷에서 마음의 평화를 되찾는 법',\n",
       " '트로이 전쟁의 수수께끼를 풀 수 있나요? - 데니스 E. 샤샤(Dennis E. Shasha)',\n",
       " '똥을 하루에 한 번씩 누지 않아도 되는 이유',\n",
       " '질병 치료법을 바꿔 놓을 전자약']"
      ]
     },
     "execution_count": 36,
     "metadata": {},
     "output_type": "execute_result"
    }
   ],
   "source": [
    "import time\n",
    "#컨텐츠 가져오기\n",
    "time.sleep(3)\n",
    "contents = driver.find_elements_by_css_selector('#browse-results > div > .col')\n",
    "titles = []\n",
    "for content in contents:\n",
    "    title = content.find_element_by_css_selector('.media > .media__message .ga-link').text\n",
    "    titles.append(title)\n",
    "titles[-5:]\n",
    "\n"
   ]
  },
  {
   "cell_type": "markdown",
   "metadata": {},
   "source": [
    "9. 속성 데이터 가져오기\n",
    " - get_attribute 함수를 사용하기\n",
    " "
   ]
  },
  {
   "cell_type": "code",
   "execution_count": 37,
   "metadata": {},
   "outputs": [
    {
     "data": {
      "text/plain": [
       "['https://www.ted.com/talks/matthew_mazzotta_playful_wondrous_public_spaces_built_for_community_and_possibility?language=ko',\n",
       " 'https://www.ted.com/talks/naomi_shimada_tips_for_reclaiming_your_peace_of_mind_online?language=ko',\n",
       " 'https://www.ted.com/talks/dennis_shasha_can_you_solve_the_trojan_war_riddle?language=ko',\n",
       " 'https://www.ted.com/talks/jen_gunter_why_you_shouldn_t_worry_about_pooping_once_a_day?language=ko',\n",
       " 'https://www.ted.com/talks/khalil_ramadi_electronic_pills_that_could_transform_how_we_treat_disease?language=ko']"
      ]
     },
     "execution_count": 37,
     "metadata": {},
     "output_type": "execute_result"
    }
   ],
   "source": [
    "# 테드에서 컨텐츠 링크 리스트 가져오기\n",
    "time.sleep(3)\n",
    "contents = driver.find_elements_by_css_selector('#browse-results > div > .col')\n",
    "links = []\n",
    "for content in contents:\n",
    "    link = content.find_element_by_css_selector('.media > .media__message .ga-link').get_attribute('href')\n",
    "    links.append(link)\n",
    "links[-5:]\n"
   ]
  },
  {
   "cell_type": "markdown",
   "metadata": {},
   "source": [
    "10. 윈도우 및 브라우져 종료하기\n",
    " - selenium dirver의 quit 함수를 이용하여 윈도우 창을 닫을 수 있습니다."
   ]
  },
  {
   "cell_type": "code",
   "execution_count": 39,
   "metadata": {},
   "outputs": [],
   "source": [
    "driver.quit()"
   ]
  },
  {
   "cell_type": "code",
   "execution_count": null,
   "metadata": {},
   "outputs": [],
   "source": []
  }
 ],
 "metadata": {
  "kernelspec": {
   "display_name": "Python 3",
   "language": "python",
   "name": "python3"
  },
  "language_info": {
   "codemirror_mode": {
    "name": "ipython",
    "version": 3
   },
   "file_extension": ".py",
   "mimetype": "text/x-python",
   "name": "python",
   "nbconvert_exporter": "python",
   "pygments_lexer": "ipython3",
   "version": "3.8.5"
  }
 },
 "nbformat": 4,
 "nbformat_minor": 4
}
