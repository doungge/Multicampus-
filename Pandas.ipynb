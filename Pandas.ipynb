{
  "nbformat": 4,
  "nbformat_minor": 0,
  "metadata": {
    "colab": {
      "name": "Pandas.ipynb",
      "provenance": [],
      "collapsed_sections": [],
      "authorship_tag": "ABX9TyNE7EJGTMcps6wwgVlCiG5l",
      "include_colab_link": true
    },
    "kernelspec": {
      "name": "python3",
      "display_name": "Python 3"
    },
    "language_info": {
      "name": "python"
    }
  },
  "cells": [
    {
      "cell_type": "markdown",
      "metadata": {
        "id": "view-in-github",
        "colab_type": "text"
      },
      "source": [
        "<a href=\"https://colab.research.google.com/github/doungge/Multicampus-/blob/master/Pandas.ipynb\" target=\"_parent\"><img src=\"https://colab.research.google.com/assets/colab-badge.svg\" alt=\"Open In Colab\"/></a>"
      ]
    },
    {
      "cell_type": "markdown",
      "metadata": {
        "id": "dA7g9yP1oCmc"
      },
      "source": [
        "# 구조적 데이터 표시와 처리에 강한 pandas\n",
        "\n",
        "- 파이썬을 이용하면 다량의 데이터를 손쉽게 처리할 수 있음\n",
        "- 파이썬에서 데이터 분석과 처리를 쉽게 할 수 있게 도와주는 것이 바로 pandas 라이브러리\n",
        "- pandas는 NumPy를 기반으로 만들어졌지만 좀 더 복잡한 데이터 분석에 특화\n",
        "- NumPy가 같은 데이터 타입의 배열만 처리할 수 있는데 반해 \n",
        "- pandas는 데이터 타입이 다양하게 섞여 있을 대도 처리할 수 있음\n",
        "- pandas 홈페이지(https://pandas.pydata.org)\n",
        "\n",
        "## 구조적 데이터 생성하기\n",
        "\n",
        "### Series를 활용한 데이터 생성\n",
        "\n",
        "- NumPy 처럼 pandas도 보통 다음과 같이 `import ~as~`형식으로 불러옴\n",
        "``` \n",
        "import pandas as pd\n",
        "```\n",
        "- pandas를 불러오면 이제 pandas를 이용할때 pandas 대신 pd를 이용할 수 있다.\n",
        "- pandas에서 데이터를 생성하는 가장 기본적인 방법은 Series()을 이용하는 것이다.\n",
        "- Series()을 이용하면 Series형식의 구조적 데이터(라벨을 갖는 1차원 데이터)를 생성할 수 있음\n",
        "- Serise()를 이용해 Series형식의 데이터를 생성하는 방법\n",
        "- s=pd.Series(seq_data)\n",
        "- Series()의 인자로는 시퀀스데이터가 들어감\n",
        "- 시퀀스데이터(seq_data)로는 리스트와 튜플 타입의 데이터를 모두 사용할 수 있지만 주로 리스트 데이터를 이용\n",
        "- 지정하면 인자로 넣은 시퀀스 데이터(seq_data)에 순서로 표시하는 라벨이 자동으로 부여\n",
        "- Series() 데이터에서는 세로출 라벨을 Index라고 하고, 입력한 시퀀스 데이터를 values라고한다.\n",
        "\n",
        "\n",
        "\n"
      ]
    },
    {
      "cell_type": "code",
      "metadata": {
        "colab": {
          "base_uri": "https://localhost:8080/"
        },
        "id": "9PZw0rqaqUvl",
        "outputId": "40f6eda1-38b7-4400-850c-9241db3b2646"
      },
      "source": [
        "import pandas as pd #pandas 호출\n",
        "#Seires() 데이터의 구조\n",
        "s1 = pd.Series([10,20,30,40,50])\n",
        "s1"
      ],
      "execution_count": 4,
      "outputs": [
        {
          "output_type": "execute_result",
          "data": {
            "text/plain": [
              "0    10\n",
              "1    20\n",
              "2    30\n",
              "3    40\n",
              "4    50\n",
              "dtype: int64"
            ]
          },
          "metadata": {
            "tags": []
          },
          "execution_count": 4
        }
      ]
    },
    {
      "cell_type": "markdown",
      "metadata": {
        "id": "GmvLExLaqZgg"
      },
      "source": [
        "- Series 데이터를 출력하면 데이터 앞에 index가 함게 표시된다.\n",
        "- index는 Series데이터 생성시 자동으로 만들어진 것으로 데이터를 처리할 때 이용\n",
        "- Series 데이터는 index와 values를 분리해서 가져올 수 있음\n",
        "- Series데이터를 s라고 할때 indexsms `s.index`로 values는 `s.values`로 가져올 수 있음\n"
      ]
    },
    {
      "cell_type": "code",
      "metadata": {
        "colab": {
          "base_uri": "https://localhost:8080/"
        },
        "id": "AEm2yjR-q0nr",
        "outputId": "4fa0a99f-62cc-422a-c27f-d7b1816ab805"
      },
      "source": [
        "#Series 데이터에서 index를 가져온 예\n",
        "s1.index\n",
        "print(s1.index)"
      ],
      "execution_count": null,
      "outputs": [
        {
          "output_type": "stream",
          "text": [
            "RangeIndex(start=0, stop=5, step=1)\n"
          ],
          "name": "stdout"
        }
      ]
    },
    {
      "cell_type": "markdown",
      "metadata": {
        "id": "H_cpjQ4Pq7V4"
      },
      "source": [
        "- RangeIndex는 index를 범위로 표시했음을 의미\n",
        "- index의 범위는 `start ~stop-1`이며 간격은 step만큼씩 증가\n"
      ]
    },
    {
      "cell_type": "code",
      "metadata": {
        "colab": {
          "base_uri": "https://localhost:8080/"
        },
        "id": "7c16mXu9rHjv",
        "outputId": "68f63728-49b6-4f64-f55a-13c59987711b"
      },
      "source": [
        "#Series데이터에서 values를 가져온 예\n",
        "print(s1.values)"
      ],
      "execution_count": null,
      "outputs": [
        {
          "output_type": "stream",
          "text": [
            "[10 20 30 40 50]\n"
          ],
          "name": "stdout"
        }
      ]
    },
    {
      "cell_type": "markdown",
      "metadata": {
        "id": "oy-QumUWrNBc"
      },
      "source": [
        "- Numpy의 배열과 형식이 같다.\n",
        "\n",
        "- NumPy의 경우 배열의 모든 원소가 데이터 타입이 같아야 했지만 pandas의 경우에는 원소의 데이터 타입이 달라도 됨\n"
      ]
    },
    {
      "cell_type": "code",
      "metadata": {
        "colab": {
          "base_uri": "https://localhost:8080/"
        },
        "id": "whB1CokzrjWo",
        "outputId": "9f6af17a-1e66-44be-d989-18aad82df4d4"
      },
      "source": [
        "#Series()로 데이터를 생성할 때 문자와 숫자가 혼합된 리스트를 인자로 이용\n",
        "s2 = pd.Series(['a','b','c',1,2,3])\n",
        "s2"
      ],
      "execution_count": null,
      "outputs": [
        {
          "output_type": "execute_result",
          "data": {
            "text/plain": [
              "0    a\n",
              "1    b\n",
              "2    c\n",
              "3    1\n",
              "4    2\n",
              "5    3\n",
              "dtype: object"
            ]
          },
          "metadata": {
            "tags": []
          },
          "execution_count": 5
        }
      ]
    },
    {
      "cell_type": "code",
      "metadata": {
        "colab": {
          "base_uri": "https://localhost:8080/"
        },
        "id": "1ZyeaJJ_rp31",
        "outputId": "638ee7cc-efc6-4b1d-a30c-e15caea78461"
      },
      "source": [
        "#데이터 가 없으면 NumPy를 임포트한 후 np.nan으로 데이터가 없다고 표시할 수 있음\n",
        "#np.nan을 이용해서 Series에 데이터에 특정 원소가 없음을 표시한 예\n",
        "import numpy as np\n",
        "s3 = pd.Series([np.nan,10,30])\n",
        "s3"
      ],
      "execution_count": null,
      "outputs": [
        {
          "output_type": "execute_result",
          "data": {
            "text/plain": [
              "0     NaN\n",
              "1    10.0\n",
              "2    30.0\n",
              "dtype: float64"
            ]
          },
          "metadata": {
            "tags": []
          },
          "execution_count": 6
        }
      ]
    },
    {
      "cell_type": "markdown",
      "metadata": {
        "id": "qcpqpx_Hr-u1"
      },
      "source": [
        "- NaN은 데이터가 없다는 것을 의미\n",
        "- 데이터를 위한 자리(index)는 있지만 실제 값은 없다는 의미이다.\n",
        "\n",
        "\n",
        "- Series 데이터를 생성할때 다음과 같이 인자로 index를 추가할 수 있음\n",
        "- s=pd.Series(seq_data, index = index_seq)\n",
        "- 인자로 index를 명시적으로 입력하면 Series 변수(s)의 index에는 자동 생성되는 index대신 index_seq가 들어가게 됨\n",
        "- index_seq도 리스트와 튜플 타입의 데이터를 모두 사용할 수있지만 주로 리스트 데이터를 이용\n",
        "- seq_data의 항목 개수와 index_seq의 항목 개수는 같아야 한다는 것\n",
        "\n",
        "\n",
        "- 어느 가게의 날짜별 판매량을 pandas의 Series()형식으로 입력\n",
        "- 하루는 판매량 데이터가 없어서 np.nan을 입력"
      ]
    },
    {
      "cell_type": "code",
      "metadata": {
        "colab": {
          "base_uri": "https://localhost:8080/"
        },
        "id": "7X3QHouxsFYd",
        "outputId": "9752a949-da7f-48a4-bd69-c9ec199d89da"
      },
      "source": [
        "index_data = ['2018-10-07','2018-10-08','2018-10-09','2018-10-10']\n",
        "s4 = pd.Series([200,195, np.nan, 205], index=index_data)\n",
        "s4"
      ],
      "execution_count": null,
      "outputs": [
        {
          "output_type": "execute_result",
          "data": {
            "text/plain": [
              "2018-10-07    200.0\n",
              "2018-10-08    195.0\n",
              "2018-10-09      NaN\n",
              "2018-10-10    205.0\n",
              "dtype: float64"
            ]
          },
          "metadata": {
            "tags": []
          },
          "execution_count": 8
        }
      ]
    },
    {
      "cell_type": "markdown",
      "metadata": {
        "id": "Rtq-eCKYtToH"
      },
      "source": [
        "- index에는 입력 인자 index의 리스트 데이터가 지정됐음을 확인\n",
        "\n",
        "\n",
        "- 리스트 형식의 데이터와 index를 따로 입력했지만 파이썬의 딕셔너리를 이요하면 데이터와 index를 합께 입력할 수 있음\n",
        "- s=pd.Series(dict_data)\n",
        "- 입력 인자로 딕셔너리 데이터를 입력하면 딕셔너리 데이터의 키(keys)와 값(values)이 각각 Series 데이터의 index와 values로 들어감\n",
        "\n"
      ]
    },
    {
      "cell_type": "code",
      "metadata": {
        "colab": {
          "base_uri": "https://localhost:8080/"
        },
        "id": "D1OLBhbutuD3",
        "outputId": "00c3f2b0-4867-42df-daa9-54b509d41bd2"
      },
      "source": [
        "#Series 데이터의 index는 국어, 영어, 수학으로 지정됐고 values는 100.95,90으로 지정된 것을 확인\n",
        "s5 = pd.Series({'국어':100,'영어':95,'수학':90})\n",
        "s5"
      ],
      "execution_count": null,
      "outputs": [
        {
          "output_type": "execute_result",
          "data": {
            "text/plain": [
              "국어    100\n",
              "영어     95\n",
              "수학     90\n",
              "dtype: int64"
            ]
          },
          "metadata": {
            "tags": []
          },
          "execution_count": 11
        }
      ]
    },
    {
      "cell_type": "markdown",
      "metadata": {
        "id": "oQpxuBPHuBK0"
      },
      "source": [
        "### 날짜 자동생성 : data_range\n",
        "\n",
        "\n",
        "- index에 날짜를 입력할때 `index = ['2018-10-07','2018-10-08','2018-10-09','2018-10-10']`처럼 문자열을 하나씩 입력\n",
        "- pandas에서 제공하는 data_range()\n",
        "- 원하는 날짜를 자동으로 생성하므로 날짜 데이터를 입력할때 편리\n",
        "- pd.data_range(start=None,end=None,periods=None,freq='D)\n",
        "- start는 시작 날짜, end는 끝 날짜, periods는 날짜 데이터 생성 기간, freq는 날짜 데이터 생성 주기를 나타냄\n",
        "- start는 반드시 있어야하며 periods는 둘 중 하나만 있어도 됨\n",
        "- freq를 입력하지 않으면 'D'옵션이 설정돼 달력 기준으로 하루씩 증가\n",
        "\n",
        "\n",
        "- 시작 날짜와 끝 날짜를 지정해 날짜 데이터를 생성\n"
      ]
    },
    {
      "cell_type": "code",
      "metadata": {
        "colab": {
          "base_uri": "https://localhost:8080/"
        },
        "id": "RS2jmv9w9LTw",
        "outputId": "fc2cfc3a-0361-4fdb-e71b-2f317ec22070"
      },
      "source": [
        "import pandas as pd\n",
        "#시작 날짜에서 끝 날짜 까지 하루씩 증가한 날짜 데이터 생성의 예\n",
        "pd.date_range(start='2019-01-01', end = '2019-01-07')"
      ],
      "execution_count": 8,
      "outputs": [
        {
          "output_type": "execute_result",
          "data": {
            "text/plain": [
              "DatetimeIndex(['2019-01-01', '2019-01-02', '2019-01-03', '2019-01-04',\n",
              "               '2019-01-05', '2019-01-06', '2019-01-07'],\n",
              "              dtype='datetime64[ns]', freq='D')"
            ]
          },
          "metadata": {
            "tags": []
          },
          "execution_count": 8
        }
      ]
    },
    {
      "cell_type": "code",
      "metadata": {
        "colab": {
          "base_uri": "https://localhost:8080/"
        },
        "id": "rJb94GH59WQG",
        "outputId": "586ae347-a9ee-464e-d260-d9879c6241ff"
      },
      "source": [
        "#생성된 날짜의 데이터형식은 모두 yyyy-mm-dd\n",
        "print(pd.date_range(start='2019/01/01',end='2019/01/07'))\n",
        "print(pd.date_range(start='01-01-2019',end='01-07-2019'))\n",
        "print(pd.date_range(start='2019-01-01',end='01.07.2019'))"
      ],
      "execution_count": 11,
      "outputs": [
        {
          "output_type": "stream",
          "text": [
            "DatetimeIndex(['2019-01-01', '2019-01-02', '2019-01-03', '2019-01-04',\n",
            "               '2019-01-05', '2019-01-06', '2019-01-07'],\n",
            "              dtype='datetime64[ns]', freq='D')\n",
            "DatetimeIndex(['2019-01-01', '2019-01-02', '2019-01-03', '2019-01-04',\n",
            "               '2019-01-05', '2019-01-06', '2019-01-07'],\n",
            "              dtype='datetime64[ns]', freq='D')\n",
            "DatetimeIndex(['2019-01-01', '2019-01-02', '2019-01-03', '2019-01-04',\n",
            "               '2019-01-05', '2019-01-06', '2019-01-07'],\n",
            "              dtype='datetime64[ns]', freq='D')\n"
          ],
          "name": "stdout"
        }
      ]
    },
    {
      "cell_type": "markdown",
      "metadata": {
        "id": "loqm0Iz6-zB1"
      },
      "source": [
        "- 시작 날짜와 끝 날짜를 지정해 날짜 데이터를 생성했는데 끝 날짜를 지정하지 않고 periods를 입력해서 날짜를 생성\n",
        "- 시작 날짜로부터 7개의 날짜가 하루씩 증가해 생성\n",
        "- freq 옵션을 쓰지 않으면 기본적으로 'D'가 저장되어 하루씩 날짜가 증가\n"
      ]
    },
    {
      "cell_type": "code",
      "metadata": {
        "colab": {
          "base_uri": "https://localhost:8080/"
        },
        "id": "vYrpWaJl_a1R",
        "outputId": "e8de12ec-ed93-4de1-bc9a-a9009a1dbe27"
      },
      "source": [
        "pd.date_range(start = '2019-01-01',periods=7)"
      ],
      "execution_count": 12,
      "outputs": [
        {
          "output_type": "execute_result",
          "data": {
            "text/plain": [
              "DatetimeIndex(['2019-01-01', '2019-01-02', '2019-01-03', '2019-01-04',\n",
              "               '2019-01-05', '2019-01-06', '2019-01-07'],\n",
              "              dtype='datetime64[ns]', freq='D')"
            ]
          },
          "metadata": {
            "tags": []
          },
          "execution_count": 12
        }
      ]
    },
    {
      "cell_type": "code",
      "metadata": {
        "colab": {
          "base_uri": "https://localhost:8080/"
        },
        "id": "XnhFl587_i6m",
        "outputId": "f2020109-6970-4126-ed3d-a973f330bc35"
      },
      "source": [
        "#2일씩 증가하는 날짜 생성\n",
        "pd.date_range(start = '2019-01-01', periods=4,freq='2D')"
      ],
      "execution_count": 15,
      "outputs": [
        {
          "output_type": "execute_result",
          "data": {
            "text/plain": [
              "DatetimeIndex(['2019-01-01', '2019-01-03', '2019-01-05', '2019-01-07'], dtype='datetime64[ns]', freq='2D')"
            ]
          },
          "metadata": {
            "tags": []
          },
          "execution_count": 15
        }
      ]
    },
    {
      "cell_type": "code",
      "metadata": {
        "colab": {
          "base_uri": "https://localhost:8080/"
        },
        "id": "Evp40Zg4_vU1",
        "outputId": "b4a26fc6-60f2-4f0b-afca-b27a90093c8c"
      },
      "source": [
        "#달력의 요일을 기준으로 일주일씩 증가하는 날짜를 생성\n",
        "pd.date_range(start = '2019-01-01',periods=4, freq='W')\n"
      ],
      "execution_count": 19,
      "outputs": [
        {
          "output_type": "execute_result",
          "data": {
            "text/plain": [
              "DatetimeIndex(['2019-01-06', '2019-01-13', '2019-01-20', '2019-01-27'], dtype='datetime64[ns]', freq='W-SUN')"
            ]
          },
          "metadata": {
            "tags": []
          },
          "execution_count": 19
        }
      ]
    },
    {
      "cell_type": "code",
      "metadata": {
        "colab": {
          "base_uri": "https://localhost:8080/"
        },
        "id": "kFgTisJFACqX",
        "outputId": "aea1dae4-54f1-4e33-daf4-e941b43cb67a"
      },
      "source": [
        "#업무일 기준 2개월 월말 주기로 12개의 날짜를 생성한 예 비즈데이 기준으로 공휴일을 제외\n",
        "pd.date_range(start = '2019-01-01', periods=12, freq='2BM')"
      ],
      "execution_count": 20,
      "outputs": [
        {
          "output_type": "execute_result",
          "data": {
            "text/plain": [
              "DatetimeIndex(['2019-01-31', '2019-03-29', '2019-05-31', '2019-07-31',\n",
              "               '2019-09-30', '2019-11-29', '2020-01-31', '2020-03-31',\n",
              "               '2020-05-29', '2020-07-31', '2020-09-30', '2020-11-30'],\n",
              "              dtype='datetime64[ns]', freq='2BM')"
            ]
          },
          "metadata": {
            "tags": []
          },
          "execution_count": 20
        }
      ]
    },
    {
      "cell_type": "code",
      "metadata": {
        "colab": {
          "base_uri": "https://localhost:8080/"
        },
        "id": "Apj8QvotAjg5",
        "outputId": "4cdcffe4-ba52-4c42-939d-d91683036157"
      },
      "source": [
        "#분기 시작일 기준으로 4개의 날짜를 생성한 예\n",
        "pd.date_range(start= '2019-01-01', periods=4, freq='QS')"
      ],
      "execution_count": 22,
      "outputs": [
        {
          "output_type": "execute_result",
          "data": {
            "text/plain": [
              "DatetimeIndex(['2019-01-01', '2019-04-01', '2019-07-01', '2019-10-01'], dtype='datetime64[ns]', freq='QS-JAN')"
            ]
          },
          "metadata": {
            "tags": []
          },
          "execution_count": 22
        }
      ]
    },
    {
      "cell_type": "code",
      "metadata": {
        "colab": {
          "base_uri": "https://localhost:8080/"
        },
        "id": "2iEMWkrbA33V",
        "outputId": "dd990ee6-ca5f-4365-e8d6-32f280e9da55"
      },
      "source": [
        "#연도의 첫날을 기준으로 1년 주기로 3개의 날짜를 생성한 예\n",
        "pd.date_range(start = '2019-01-01',periods=3, freq ='AS')"
      ],
      "execution_count": 24,
      "outputs": [
        {
          "output_type": "execute_result",
          "data": {
            "text/plain": [
              "DatetimeIndex(['2019-01-01', '2020-01-01', '2021-01-01'], dtype='datetime64[ns]', freq='AS-JAN')"
            ]
          },
          "metadata": {
            "tags": []
          },
          "execution_count": 24
        }
      ]
    },
    {
      "cell_type": "markdown",
      "metadata": {
        "id": "nrdmY24YBIbM"
      },
      "source": [
        "- date_range()를 이용해 날짜뿐만 아니라 시간을 생성하는 방법"
      ]
    },
    {
      "cell_type": "code",
      "metadata": {
        "colab": {
          "base_uri": "https://localhost:8080/"
        },
        "id": "n8Rai7DjBaez",
        "outputId": "4ae61daa-fbd5-4066-e666-3143f2ae035c"
      },
      "source": [
        "# 1시간 주기로 10개의 시간을 생성한 예\n",
        "pd.date_range(start='2019-01-01 08:00', periods=10, freq ='H')"
      ],
      "execution_count": 26,
      "outputs": [
        {
          "output_type": "execute_result",
          "data": {
            "text/plain": [
              "DatetimeIndex(['2019-01-01 08:00:00', '2019-01-01 09:00:00',\n",
              "               '2019-01-01 10:00:00', '2019-01-01 11:00:00',\n",
              "               '2019-01-01 12:00:00', '2019-01-01 13:00:00',\n",
              "               '2019-01-01 14:00:00', '2019-01-01 15:00:00',\n",
              "               '2019-01-01 16:00:00', '2019-01-01 17:00:00'],\n",
              "              dtype='datetime64[ns]', freq='H')"
            ]
          },
          "metadata": {
            "tags": []
          },
          "execution_count": 26
        }
      ]
    },
    {
      "cell_type": "code",
      "metadata": {
        "colab": {
          "base_uri": "https://localhost:8080/"
        },
        "id": "P2Rq7xVlBiqc",
        "outputId": "47ef7dc1-e6c4-4090-d99f-ed4237f0bb50"
      },
      "source": [
        "#업무 시간을 기준으로(한시간 앞) 1시간 주기로 10개의 시간을 생성하는 예\n",
        "pd.date_range(start='2019-01-01 08:00', periods=10, freq ='BH')"
      ],
      "execution_count": 27,
      "outputs": [
        {
          "output_type": "execute_result",
          "data": {
            "text/plain": [
              "DatetimeIndex(['2019-01-01 09:00:00', '2019-01-01 10:00:00',\n",
              "               '2019-01-01 11:00:00', '2019-01-01 12:00:00',\n",
              "               '2019-01-01 13:00:00', '2019-01-01 14:00:00',\n",
              "               '2019-01-01 15:00:00', '2019-01-01 16:00:00',\n",
              "               '2019-01-02 09:00:00', '2019-01-02 10:00:00'],\n",
              "              dtype='datetime64[ns]', freq='BH')"
            ]
          },
          "metadata": {
            "tags": []
          },
          "execution_count": 27
        }
      ]
    },
    {
      "cell_type": "code",
      "metadata": {
        "colab": {
          "base_uri": "https://localhost:8080/"
        },
        "id": "mWDDldgLB7Sx",
        "outputId": "d8bf9de2-c86a-4c5d-cb63-7fd4b51c9e65"
      },
      "source": [
        "# 30분 단위로 4개의 시간을 생성한 예\n",
        "pd.date_range(start='2019-01-01 10:00', periods=4, freq ='30min')"
      ],
      "execution_count": 28,
      "outputs": [
        {
          "output_type": "execute_result",
          "data": {
            "text/plain": [
              "DatetimeIndex(['2019-01-01 10:00:00', '2019-01-01 10:30:00',\n",
              "               '2019-01-01 11:00:00', '2019-01-01 11:30:00'],\n",
              "              dtype='datetime64[ns]', freq='30T')"
            ]
          },
          "metadata": {
            "tags": []
          },
          "execution_count": 28
        }
      ]
    },
    {
      "cell_type": "code",
      "metadata": {
        "colab": {
          "base_uri": "https://localhost:8080/"
        },
        "id": "dMfRqjirCKmx",
        "outputId": "645b65b3-80b5-47c7-984a-36135f116332"
      },
      "source": [
        "# 분 단위를 'T'로 입력해도 결과는 같음\n",
        "pd.date_range(start='2019-01-01 10:00', periods=4, freq ='30T')"
      ],
      "execution_count": 29,
      "outputs": [
        {
          "output_type": "execute_result",
          "data": {
            "text/plain": [
              "DatetimeIndex(['2019-01-01 10:00:00', '2019-01-01 10:30:00',\n",
              "               '2019-01-01 11:00:00', '2019-01-01 11:30:00'],\n",
              "              dtype='datetime64[ns]', freq='30T')"
            ]
          },
          "metadata": {
            "tags": []
          },
          "execution_count": 29
        }
      ]
    },
    {
      "cell_type": "code",
      "metadata": {
        "colab": {
          "base_uri": "https://localhost:8080/"
        },
        "id": "QOGNf-DwCT0C",
        "outputId": "907e19ca-9055-486a-b8b0-815f168f8eb1"
      },
      "source": [
        "#10초 단위로 증가하면서 4개의 시간을 생성\n",
        "pd.date_range(start='2019-01-01 10:00', periods=4, freq ='10S')\n"
      ],
      "execution_count": 30,
      "outputs": [
        {
          "output_type": "execute_result",
          "data": {
            "text/plain": [
              "DatetimeIndex(['2019-01-01 10:00:00', '2019-01-01 10:00:10',\n",
              "               '2019-01-01 10:00:20', '2019-01-01 10:00:30'],\n",
              "              dtype='datetime64[ns]', freq='10S')"
            ]
          },
          "metadata": {
            "tags": []
          },
          "execution_count": 30
        }
      ]
    },
    {
      "cell_type": "code",
      "metadata": {
        "colab": {
          "base_uri": "https://localhost:8080/"
        },
        "id": "0IBJB7LXCdhG",
        "outputId": "5c312527-ea7b-4cfb-fe55-5a95d2cbbae9"
      },
      "source": [
        "#date_range()를 이용해 Series의 index를 지정한 예\n",
        "#특정 날짜로부터 5일간의 판매량을 표시하려면 다음과 같이 입력\n",
        "index_data = pd.date_range(start='2019-03-01', periods=5, freq ='D')\n",
        "pd.Series([51,62,55,49,58], index = index_data)"
      ],
      "execution_count": 31,
      "outputs": [
        {
          "output_type": "execute_result",
          "data": {
            "text/plain": [
              "2019-03-01    51\n",
              "2019-03-02    62\n",
              "2019-03-03    55\n",
              "2019-03-04    49\n",
              "2019-03-05    58\n",
              "Freq: D, dtype: int64"
            ]
          },
          "metadata": {
            "tags": []
          },
          "execution_count": 31
        }
      ]
    },
    {
      "cell_type": "markdown",
      "metadata": {
        "id": "8Gclq_hwC16e"
      },
      "source": [
        "## DataFrame을 활용한 데이터 생성\n",
        "\n",
        "\n",
        "- Series를 이용해 1차원 데이터를 생성\n",
        "\n",
        "\n",
        "- pandas에서는 표(Table)와 같은 2차원 데이터 처리를 위해 DataFrame을 제공\n",
        "- DataFrame은 이름에서 알 수 있듯이 자료를 담는 틀임\n",
        "- DataFrame을 이용하면 라벨이 있는 2차원 데이터를 생성하고 처리할 수 있음\n",
        "\n",
        "\n",
        "- DataFrame을 이용해 데이터를 생성하는 방법\n",
        "- df=pd.DataFrame(data[,index=index_data, colums=columns_data])\n",
        "- DataFrame()의 인자인 data에는 리스트와 형태가 유사한 데이터 형태가 유사한 데이터 타입은 모두 사용할 수 있음\n",
        "\n",
        "\n",
        "- DataFrame의 세로축 라벨을 index라고 하고 가로축 라벨을 columns라고 함\n",
        "- index와 columns를 제외한 부분을 values라고함\n",
        "\n",
        "\n",
        "- index와 columns에는 1차원 배열과 유사한 데이터 타입(리스트, NumPy의 배열 데이터, Series 데이터 등)의 데이터를 입력할 수 있음\n",
        "- DataFrame의 data의 행 개수와 index요소의 개수, data 열의 개수와 columns 요소의 개수가 일치해야 한다는 것\n",
        "- index와 columns는 선택 사항이므로 입력하지 않을 수 잇는데 그러면 index와 columns에는 자동으로 0부터 숫자가 생성되어 채워짐\n",
        "\n",
        "\n"
      ]
    },
    {
      "cell_type": "code",
      "metadata": {
        "colab": {
          "base_uri": "https://localhost:8080/",
          "height": 142
        },
        "id": "kXaL8FGJFAca",
        "outputId": "e9819e6b-8277-4939-cef3-084d87940ee3"
      },
      "source": [
        "#리스트를 이용해 DataFrame의 데이터를 생성하는 예\n",
        "import pandas as pd\n",
        "\n",
        "pd.DataFrame([[1,2,3],[4,5,6],[7,8,9]])\n",
        "\n"
      ],
      "execution_count": 32,
      "outputs": [
        {
          "output_type": "execute_result",
          "data": {
            "text/html": [
              "<div>\n",
              "<style scoped>\n",
              "    .dataframe tbody tr th:only-of-type {\n",
              "        vertical-align: middle;\n",
              "    }\n",
              "\n",
              "    .dataframe tbody tr th {\n",
              "        vertical-align: top;\n",
              "    }\n",
              "\n",
              "    .dataframe thead th {\n",
              "        text-align: right;\n",
              "    }\n",
              "</style>\n",
              "<table border=\"1\" class=\"dataframe\">\n",
              "  <thead>\n",
              "    <tr style=\"text-align: right;\">\n",
              "      <th></th>\n",
              "      <th>0</th>\n",
              "      <th>1</th>\n",
              "      <th>2</th>\n",
              "    </tr>\n",
              "  </thead>\n",
              "  <tbody>\n",
              "    <tr>\n",
              "      <th>0</th>\n",
              "      <td>1</td>\n",
              "      <td>2</td>\n",
              "      <td>3</td>\n",
              "    </tr>\n",
              "    <tr>\n",
              "      <th>1</th>\n",
              "      <td>4</td>\n",
              "      <td>5</td>\n",
              "      <td>6</td>\n",
              "    </tr>\n",
              "    <tr>\n",
              "      <th>2</th>\n",
              "      <td>7</td>\n",
              "      <td>8</td>\n",
              "      <td>9</td>\n",
              "    </tr>\n",
              "  </tbody>\n",
              "</table>\n",
              "</div>"
            ],
            "text/plain": [
              "   0  1  2\n",
              "0  1  2  3\n",
              "1  4  5  6\n",
              "2  7  8  9"
            ]
          },
          "metadata": {
            "tags": []
          },
          "execution_count": 32
        }
      ]
    },
    {
      "cell_type": "markdown",
      "metadata": {
        "id": "2zzyHyNRFRPU"
      },
      "source": [
        "- values 부분에는 입력한 data가 순서대로 입력돼 있고\n",
        "- 가장 좌측의 열과 가장 윗줄의 행에는 각각 숫자가 자동으로 생성되어 index와 columns가 생성됨\n"
      ]
    },
    {
      "cell_type": "code",
      "metadata": {
        "colab": {
          "base_uri": "https://localhost:8080/",
          "height": 142
        },
        "id": "8f2r6nv6Fdpx",
        "outputId": "ca5cb91e-caba-4661-eadd-919c51acc442"
      },
      "source": [
        "#NumPy의 배열 데이터를 입력해 생성한 DataFrame 데이터의 예\n",
        "\n",
        "import numpy as np\n",
        "data_list = np.array([[10,20,30],[40,50,60],[70,80,90]])\n",
        "pd.DataFrame(data_list)"
      ],
      "execution_count": 34,
      "outputs": [
        {
          "output_type": "execute_result",
          "data": {
            "text/html": [
              "<div>\n",
              "<style scoped>\n",
              "    .dataframe tbody tr th:only-of-type {\n",
              "        vertical-align: middle;\n",
              "    }\n",
              "\n",
              "    .dataframe tbody tr th {\n",
              "        vertical-align: top;\n",
              "    }\n",
              "\n",
              "    .dataframe thead th {\n",
              "        text-align: right;\n",
              "    }\n",
              "</style>\n",
              "<table border=\"1\" class=\"dataframe\">\n",
              "  <thead>\n",
              "    <tr style=\"text-align: right;\">\n",
              "      <th></th>\n",
              "      <th>0</th>\n",
              "      <th>1</th>\n",
              "      <th>2</th>\n",
              "    </tr>\n",
              "  </thead>\n",
              "  <tbody>\n",
              "    <tr>\n",
              "      <th>0</th>\n",
              "      <td>10</td>\n",
              "      <td>20</td>\n",
              "      <td>30</td>\n",
              "    </tr>\n",
              "    <tr>\n",
              "      <th>1</th>\n",
              "      <td>40</td>\n",
              "      <td>50</td>\n",
              "      <td>60</td>\n",
              "    </tr>\n",
              "    <tr>\n",
              "      <th>2</th>\n",
              "      <td>70</td>\n",
              "      <td>80</td>\n",
              "      <td>90</td>\n",
              "    </tr>\n",
              "  </tbody>\n",
              "</table>\n",
              "</div>"
            ],
            "text/plain": [
              "    0   1   2\n",
              "0  10  20  30\n",
              "1  40  50  60\n",
              "2  70  80  90"
            ]
          },
          "metadata": {
            "tags": []
          },
          "execution_count": 34
        }
      ]
    },
    {
      "cell_type": "code",
      "metadata": {
        "colab": {
          "base_uri": "https://localhost:8080/",
          "height": 142
        },
        "id": "QBkB-q3zFxS9",
        "outputId": "06be6806-ccd8-403c-e8bc-5f5fc28bfed6"
      },
      "source": [
        "#data 뿐만 아니라 index와 columns도 지정 가능\n",
        "data = np.array([[1,2,3],[4,5,6],[7,8,9]])\n",
        "index_data = pd.date_range(start = '2019-09-01', periods=3)#date_range()로 생성된 날짜 입력\n",
        "columns_list= ['A','B','C']\n",
        "pd.DataFrame(data, index=index_data, columns=columns_list)#리스트 데이터 입력"
      ],
      "execution_count": 37,
      "outputs": [
        {
          "output_type": "execute_result",
          "data": {
            "text/html": [
              "<div>\n",
              "<style scoped>\n",
              "    .dataframe tbody tr th:only-of-type {\n",
              "        vertical-align: middle;\n",
              "    }\n",
              "\n",
              "    .dataframe tbody tr th {\n",
              "        vertical-align: top;\n",
              "    }\n",
              "\n",
              "    .dataframe thead th {\n",
              "        text-align: right;\n",
              "    }\n",
              "</style>\n",
              "<table border=\"1\" class=\"dataframe\">\n",
              "  <thead>\n",
              "    <tr style=\"text-align: right;\">\n",
              "      <th></th>\n",
              "      <th>A</th>\n",
              "      <th>B</th>\n",
              "      <th>C</th>\n",
              "    </tr>\n",
              "  </thead>\n",
              "  <tbody>\n",
              "    <tr>\n",
              "      <th>2019-09-01</th>\n",
              "      <td>1</td>\n",
              "      <td>2</td>\n",
              "      <td>3</td>\n",
              "    </tr>\n",
              "    <tr>\n",
              "      <th>2019-09-02</th>\n",
              "      <td>4</td>\n",
              "      <td>5</td>\n",
              "      <td>6</td>\n",
              "    </tr>\n",
              "    <tr>\n",
              "      <th>2019-09-03</th>\n",
              "      <td>7</td>\n",
              "      <td>8</td>\n",
              "      <td>9</td>\n",
              "    </tr>\n",
              "  </tbody>\n",
              "</table>\n",
              "</div>"
            ],
            "text/plain": [
              "            A  B  C\n",
              "2019-09-01  1  2  3\n",
              "2019-09-02  4  5  6\n",
              "2019-09-03  7  8  9"
            ]
          },
          "metadata": {
            "tags": []
          },
          "execution_count": 37
        }
      ]
    },
    {
      "cell_type": "code",
      "metadata": {
        "colab": {
          "base_uri": "https://localhost:8080/"
        },
        "id": "WGNjS7nhGfIa",
        "outputId": "f9fb2815-2f79-49aa-ef05-9cc53df78260"
      },
      "source": [
        "#딕셔너리 타입으로 2차원 데이터를 입력한 예\n",
        "table_data = {'연도' : pd.date_range(start='2015', periods=5, freq =\"AS\"),\n",
        "              '지사' : ['한국','한국','미국','한국','미국'], \n",
        "              '고객수' : [200,250,540,300,500]}\n",
        "table_data"
      ],
      "execution_count": 39,
      "outputs": [
        {
          "output_type": "execute_result",
          "data": {
            "text/plain": [
              "{'고객수': [200, 250, 540, 300, 500],\n",
              " '연도': DatetimeIndex(['2015-01-01', '2016-01-01', '2017-01-01', '2018-01-01',\n",
              "                '2019-01-01'],\n",
              "               dtype='datetime64[ns]', freq='AS-JAN'),\n",
              " '지사': ['한국', '한국', '미국', '한국', '미국']}"
            ]
          },
          "metadata": {
            "tags": []
          },
          "execution_count": 39
        }
      ]
    },
    {
      "cell_type": "code",
      "metadata": {
        "colab": {
          "base_uri": "https://localhost:8080/",
          "height": 204
        },
        "id": "Qh1yWPC-Hjqi",
        "outputId": "add40c74-add7-4182-883e-1b4b2fbe0998"
      },
      "source": [
        "#만든 딕셔너리 데이터를 이용해 DataFrame 형식의 데이터를 생성\n",
        "pd.DataFrame(table_data)"
      ],
      "execution_count": 40,
      "outputs": [
        {
          "output_type": "execute_result",
          "data": {
            "text/html": [
              "<div>\n",
              "<style scoped>\n",
              "    .dataframe tbody tr th:only-of-type {\n",
              "        vertical-align: middle;\n",
              "    }\n",
              "\n",
              "    .dataframe tbody tr th {\n",
              "        vertical-align: top;\n",
              "    }\n",
              "\n",
              "    .dataframe thead th {\n",
              "        text-align: right;\n",
              "    }\n",
              "</style>\n",
              "<table border=\"1\" class=\"dataframe\">\n",
              "  <thead>\n",
              "    <tr style=\"text-align: right;\">\n",
              "      <th></th>\n",
              "      <th>연도</th>\n",
              "      <th>지사</th>\n",
              "      <th>고객수</th>\n",
              "    </tr>\n",
              "  </thead>\n",
              "  <tbody>\n",
              "    <tr>\n",
              "      <th>0</th>\n",
              "      <td>2015-01-01</td>\n",
              "      <td>한국</td>\n",
              "      <td>200</td>\n",
              "    </tr>\n",
              "    <tr>\n",
              "      <th>1</th>\n",
              "      <td>2016-01-01</td>\n",
              "      <td>한국</td>\n",
              "      <td>250</td>\n",
              "    </tr>\n",
              "    <tr>\n",
              "      <th>2</th>\n",
              "      <td>2017-01-01</td>\n",
              "      <td>미국</td>\n",
              "      <td>540</td>\n",
              "    </tr>\n",
              "    <tr>\n",
              "      <th>3</th>\n",
              "      <td>2018-01-01</td>\n",
              "      <td>한국</td>\n",
              "      <td>300</td>\n",
              "    </tr>\n",
              "    <tr>\n",
              "      <th>4</th>\n",
              "      <td>2019-01-01</td>\n",
              "      <td>미국</td>\n",
              "      <td>500</td>\n",
              "    </tr>\n",
              "  </tbody>\n",
              "</table>\n",
              "</div>"
            ],
            "text/plain": [
              "          연도  지사  고객수\n",
              "0 2015-01-01  한국  200\n",
              "1 2016-01-01  한국  250\n",
              "2 2017-01-01  미국  540\n",
              "3 2018-01-01  한국  300\n",
              "4 2019-01-01  미국  500"
            ]
          },
          "metadata": {
            "tags": []
          },
          "execution_count": 40
        }
      ]
    },
    {
      "cell_type": "markdown",
      "metadata": {
        "id": "vDFGIp5fHvkp"
      },
      "source": [
        "- index는 자동으로 생성됐고 딕셔너리 데이터의 키(keys)는 DataFrame에서 columns로 지정됨\n",
        "- 표에서 각 열의 제목(고객수, 연도,지사)처럼 들어감\n",
        "\n",
        "\n",
        "- DataFrame 데이터의 열은 입력한 데이터의 순서대로 생성되지 않았음\n",
        "- 딕셔너리 데이터가 키(keys)에 따라서 자동으로 정렬됐기 때문이다.\n",
        "-한글은 가나다순으로 영어는 알페벳 순으로 정렬\n",
        "\n",
        "\n",
        "\n"
      ]
    },
    {
      "cell_type": "code",
      "metadata": {
        "colab": {
          "base_uri": "https://localhost:8080/",
          "height": 204
        },
        "id": "1FBHLsaTJy5l",
        "outputId": "2bbc5e8c-7d01-43d0-8edd-79a2d272bb1f"
      },
      "source": [
        "# 데이터의 정렬 순서는 다음과 같이 `columns=columns_list`를 이용해 키의 순서를 지정할 수 있음\n",
        "df = pd.DataFrame(table_data, columns=['연도', '지사', '고객수'])\n",
        "df"
      ],
      "execution_count": 42,
      "outputs": [
        {
          "output_type": "execute_result",
          "data": {
            "text/html": [
              "<div>\n",
              "<style scoped>\n",
              "    .dataframe tbody tr th:only-of-type {\n",
              "        vertical-align: middle;\n",
              "    }\n",
              "\n",
              "    .dataframe tbody tr th {\n",
              "        vertical-align: top;\n",
              "    }\n",
              "\n",
              "    .dataframe thead th {\n",
              "        text-align: right;\n",
              "    }\n",
              "</style>\n",
              "<table border=\"1\" class=\"dataframe\">\n",
              "  <thead>\n",
              "    <tr style=\"text-align: right;\">\n",
              "      <th></th>\n",
              "      <th>연도</th>\n",
              "      <th>지사</th>\n",
              "      <th>고객수</th>\n",
              "    </tr>\n",
              "  </thead>\n",
              "  <tbody>\n",
              "    <tr>\n",
              "      <th>0</th>\n",
              "      <td>2015-01-01</td>\n",
              "      <td>한국</td>\n",
              "      <td>200</td>\n",
              "    </tr>\n",
              "    <tr>\n",
              "      <th>1</th>\n",
              "      <td>2016-01-01</td>\n",
              "      <td>한국</td>\n",
              "      <td>250</td>\n",
              "    </tr>\n",
              "    <tr>\n",
              "      <th>2</th>\n",
              "      <td>2017-01-01</td>\n",
              "      <td>미국</td>\n",
              "      <td>540</td>\n",
              "    </tr>\n",
              "    <tr>\n",
              "      <th>3</th>\n",
              "      <td>2018-01-01</td>\n",
              "      <td>한국</td>\n",
              "      <td>300</td>\n",
              "    </tr>\n",
              "    <tr>\n",
              "      <th>4</th>\n",
              "      <td>2019-01-01</td>\n",
              "      <td>미국</td>\n",
              "      <td>500</td>\n",
              "    </tr>\n",
              "  </tbody>\n",
              "</table>\n",
              "</div>"
            ],
            "text/plain": [
              "          연도  지사  고객수\n",
              "0 2015-01-01  한국  200\n",
              "1 2016-01-01  한국  250\n",
              "2 2017-01-01  미국  540\n",
              "3 2018-01-01  한국  300\n",
              "4 2019-01-01  미국  500"
            ]
          },
          "metadata": {
            "tags": []
          },
          "execution_count": 42
        }
      ]
    },
    {
      "cell_type": "markdown",
      "metadata": {
        "id": "LLx7J8fHKAuZ"
      },
      "source": [
        "- DataFrame 데이터에서 index, columnsm values는\n",
        "- 각각 DataFrame_data.index, DataFrame_data.columns, DataFrame_data.values로 확인할 수 있음 "
      ]
    },
    {
      "cell_type": "code",
      "metadata": {
        "colab": {
          "base_uri": "https://localhost:8080/"
        },
        "id": "nZN-DrL_LDH5",
        "outputId": "65466a05-b5ff-41b1-af55-0a24a11f2735"
      },
      "source": [
        "# DataFrame 데이터에서 index, columns, values를 각각 구한 예\n",
        "print(df.index)\n",
        "print('***************************************************')\n",
        "print(df.columns)\n",
        "print('***************************************************')\n",
        "print(df.values)"
      ],
      "execution_count": 72,
      "outputs": [
        {
          "output_type": "stream",
          "text": [
            "RangeIndex(start=0, stop=5, step=1)\n",
            "***************************************************\n",
            "Index(['연도', '지사', '고객수'], dtype='object')\n",
            "***************************************************\n",
            "[[Timestamp('2015-01-01 00:00:00') '한국' 200]\n",
            " [Timestamp('2016-01-01 00:00:00') '한국' 250]\n",
            " [Timestamp('2017-01-01 00:00:00') '미국' 540]\n",
            " [Timestamp('2018-01-01 00:00:00') '한국' 300]\n",
            " [Timestamp('2019-01-01 00:00:00') '미국' 500]]\n"
          ],
          "name": "stdout"
        }
      ]
    },
    {
      "cell_type": "markdown",
      "metadata": {
        "id": "Wq205p4aLPEM"
      },
      "source": [
        "## 데이터 연산\n",
        "\n",
        "\n",
        "- pandas의 Series()와 DataFrame()으로 생성한 데이터 끼리는 사칙 연산을 할 수 있다.\n"
      ]
    },
    {
      "cell_type": "code",
      "metadata": {
        "colab": {
          "base_uri": "https://localhost:8080/"
        },
        "id": "LUs-yu1EODb0",
        "outputId": "d7eb37b3-a196-4869-f9fb-00bea0a07eda"
      },
      "source": [
        "# Series()로 생성한 Series 데이터의 예\n",
        "\n",
        "s1 = pd.Series([1,2,3,4,5])\n",
        "s2 = pd.Series([10,11,12,13,14])\n",
        "\n",
        "print(s2-s1)\n",
        "print('***************************************************')\n",
        "print(s1*s2)\n",
        "print('***************************************************')\n",
        "print(s2/s1)\n",
        "print('***************************************************')\n",
        "print(s1-s2)"
      ],
      "execution_count": 71,
      "outputs": [
        {
          "output_type": "stream",
          "text": [
            "0    9\n",
            "1    9\n",
            "2    9\n",
            "3    9\n",
            "4    9\n",
            "dtype: int64\n",
            "***************************************************\n",
            "0    10\n",
            "1    22\n",
            "2    36\n",
            "3    52\n",
            "4    70\n",
            "dtype: int64\n",
            "***************************************************\n",
            "0    10.00\n",
            "1     5.50\n",
            "2     4.00\n",
            "3     3.25\n",
            "4     2.80\n",
            "dtype: float64\n",
            "***************************************************\n",
            "0   -9\n",
            "1   -9\n",
            "2   -9\n",
            "3   -9\n",
            "4   -9\n",
            "dtype: int64\n"
          ],
          "name": "stdout"
        }
      ]
    },
    {
      "cell_type": "markdown",
      "metadata": {
        "id": "UKAGxQYxORFc"
      },
      "source": [
        "- 파이썬의 리스트와 NumPy의 배열과 달리 pandas의 데이터 끼리는 서로 크기가 달라도 연산할 수 있음"
      ]
    },
    {
      "cell_type": "code",
      "metadata": {
        "colab": {
          "base_uri": "https://localhost:8080/"
        },
        "id": "iPX054ESQuUW",
        "outputId": "ecec5cf7-b830-4a65-c73c-141a1e07b621"
      },
      "source": [
        "# pandas는 연산할 수 있는 항목만 연산을 수행\n",
        "s3 = pd.Series([1,2,3,4])\n",
        "s4 = pd.Series([10,20,30,40,50])\n",
        "print(s4-s3)\n",
        "print('***************************************************')\n",
        "print(s3*s4)\n",
        "print('***************************************************')\n",
        "print(s4/s3)"
      ],
      "execution_count": 70,
      "outputs": [
        {
          "output_type": "stream",
          "text": [
            "0     9.0\n",
            "1    18.0\n",
            "2    27.0\n",
            "3    36.0\n",
            "4     NaN\n",
            "dtype: float64\n",
            "***************************************************\n",
            "0     10.0\n",
            "1     40.0\n",
            "2     90.0\n",
            "3    160.0\n",
            "4      NaN\n",
            "dtype: float64\n",
            "***************************************************\n",
            "0    10.0\n",
            "1    10.0\n",
            "2    10.0\n",
            "3    10.0\n",
            "4     NaN\n",
            "dtype: float64\n"
          ],
          "name": "stdout"
        }
      ]
    },
    {
      "cell_type": "markdown",
      "metadata": {
        "id": "LD7S07A7aiVM"
      },
      "source": [
        "- s3와 s4의 데이터 크기는 다름\n",
        "- 이 경우 연산할 수 있는 부분만 연산해 결과를 보여주고 연산할 수 없는 부분은 NaN으로 표시\n"
      ]
    },
    {
      "cell_type": "code",
      "metadata": {
        "colab": {
          "base_uri": "https://localhost:8080/",
          "height": 204
        },
        "id": "o9RjuNhPaukx",
        "outputId": "4f421b57-424a-45d2-bc0b-51e4324ecb76"
      },
      "source": [
        "#DataFrame()으로 생성한 DataFrame 데이터끼리도 사칙 연산을 할 수 있음\n",
        "table_data1 = {'A': [1,2,3,4,5],\n",
        "               'B': [10,20,30,40,50],\n",
        "               'C': [100,200,300,400,500]}\n",
        "\n",
        "df1 = pd.DataFrame(table_data1)\n",
        "df1"
      ],
      "execution_count": 47,
      "outputs": [
        {
          "output_type": "execute_result",
          "data": {
            "text/html": [
              "<div>\n",
              "<style scoped>\n",
              "    .dataframe tbody tr th:only-of-type {\n",
              "        vertical-align: middle;\n",
              "    }\n",
              "\n",
              "    .dataframe tbody tr th {\n",
              "        vertical-align: top;\n",
              "    }\n",
              "\n",
              "    .dataframe thead th {\n",
              "        text-align: right;\n",
              "    }\n",
              "</style>\n",
              "<table border=\"1\" class=\"dataframe\">\n",
              "  <thead>\n",
              "    <tr style=\"text-align: right;\">\n",
              "      <th></th>\n",
              "      <th>A</th>\n",
              "      <th>B</th>\n",
              "      <th>C</th>\n",
              "    </tr>\n",
              "  </thead>\n",
              "  <tbody>\n",
              "    <tr>\n",
              "      <th>0</th>\n",
              "      <td>1</td>\n",
              "      <td>10</td>\n",
              "      <td>100</td>\n",
              "    </tr>\n",
              "    <tr>\n",
              "      <th>1</th>\n",
              "      <td>2</td>\n",
              "      <td>20</td>\n",
              "      <td>200</td>\n",
              "    </tr>\n",
              "    <tr>\n",
              "      <th>2</th>\n",
              "      <td>3</td>\n",
              "      <td>30</td>\n",
              "      <td>300</td>\n",
              "    </tr>\n",
              "    <tr>\n",
              "      <th>3</th>\n",
              "      <td>4</td>\n",
              "      <td>40</td>\n",
              "      <td>400</td>\n",
              "    </tr>\n",
              "    <tr>\n",
              "      <th>4</th>\n",
              "      <td>5</td>\n",
              "      <td>50</td>\n",
              "      <td>500</td>\n",
              "    </tr>\n",
              "  </tbody>\n",
              "</table>\n",
              "</div>"
            ],
            "text/plain": [
              "   A   B    C\n",
              "0  1  10  100\n",
              "1  2  20  200\n",
              "2  3  30  300\n",
              "3  4  40  400\n",
              "4  5  50  500"
            ]
          },
          "metadata": {
            "tags": []
          },
          "execution_count": 47
        }
      ]
    },
    {
      "cell_type": "code",
      "metadata": {
        "colab": {
          "base_uri": "https://localhost:8080/",
          "height": 142
        },
        "id": "D_YX7gwubByx",
        "outputId": "f68231c9-6673-40bd-ef13-b0dd0c568153"
      },
      "source": [
        "table_data2 = {'A':[6,7,8],\n",
        "               'B':[60,70,80],\n",
        "               'C':[600,700,800]}\n",
        "\n",
        "df2 = pd.DataFrame(table_data2)\n",
        "df2"
      ],
      "execution_count": 50,
      "outputs": [
        {
          "output_type": "execute_result",
          "data": {
            "text/html": [
              "<div>\n",
              "<style scoped>\n",
              "    .dataframe tbody tr th:only-of-type {\n",
              "        vertical-align: middle;\n",
              "    }\n",
              "\n",
              "    .dataframe tbody tr th {\n",
              "        vertical-align: top;\n",
              "    }\n",
              "\n",
              "    .dataframe thead th {\n",
              "        text-align: right;\n",
              "    }\n",
              "</style>\n",
              "<table border=\"1\" class=\"dataframe\">\n",
              "  <thead>\n",
              "    <tr style=\"text-align: right;\">\n",
              "      <th></th>\n",
              "      <th>A</th>\n",
              "      <th>B</th>\n",
              "      <th>C</th>\n",
              "    </tr>\n",
              "  </thead>\n",
              "  <tbody>\n",
              "    <tr>\n",
              "      <th>0</th>\n",
              "      <td>6</td>\n",
              "      <td>60</td>\n",
              "      <td>600</td>\n",
              "    </tr>\n",
              "    <tr>\n",
              "      <th>1</th>\n",
              "      <td>7</td>\n",
              "      <td>70</td>\n",
              "      <td>700</td>\n",
              "    </tr>\n",
              "    <tr>\n",
              "      <th>2</th>\n",
              "      <td>8</td>\n",
              "      <td>80</td>\n",
              "      <td>800</td>\n",
              "    </tr>\n",
              "  </tbody>\n",
              "</table>\n",
              "</div>"
            ],
            "text/plain": [
              "   A   B    C\n",
              "0  6  60  600\n",
              "1  7  70  700\n",
              "2  8  80  800"
            ]
          },
          "metadata": {
            "tags": []
          },
          "execution_count": 50
        }
      ]
    },
    {
      "cell_type": "code",
      "metadata": {
        "colab": {
          "base_uri": "https://localhost:8080/",
          "height": 204
        },
        "id": "QrhFRWDnbRG6",
        "outputId": "69d62f14-f3d4-486c-dad1-5b453a59f6a8"
      },
      "source": [
        "# 두 개의 DataFrame 데이터 길이가 같지 않다.\n",
        "# 두개의 데이터 길이가 같지 않더라도 앞의 Series처럼 DataFrame도 계산이 가능하다.\n",
        "df1+df2"
      ],
      "execution_count": 51,
      "outputs": [
        {
          "output_type": "execute_result",
          "data": {
            "text/html": [
              "<div>\n",
              "<style scoped>\n",
              "    .dataframe tbody tr th:only-of-type {\n",
              "        vertical-align: middle;\n",
              "    }\n",
              "\n",
              "    .dataframe tbody tr th {\n",
              "        vertical-align: top;\n",
              "    }\n",
              "\n",
              "    .dataframe thead th {\n",
              "        text-align: right;\n",
              "    }\n",
              "</style>\n",
              "<table border=\"1\" class=\"dataframe\">\n",
              "  <thead>\n",
              "    <tr style=\"text-align: right;\">\n",
              "      <th></th>\n",
              "      <th>A</th>\n",
              "      <th>B</th>\n",
              "      <th>C</th>\n",
              "    </tr>\n",
              "  </thead>\n",
              "  <tbody>\n",
              "    <tr>\n",
              "      <th>0</th>\n",
              "      <td>7.0</td>\n",
              "      <td>70.0</td>\n",
              "      <td>700.0</td>\n",
              "    </tr>\n",
              "    <tr>\n",
              "      <th>1</th>\n",
              "      <td>9.0</td>\n",
              "      <td>90.0</td>\n",
              "      <td>900.0</td>\n",
              "    </tr>\n",
              "    <tr>\n",
              "      <th>2</th>\n",
              "      <td>11.0</td>\n",
              "      <td>110.0</td>\n",
              "      <td>1100.0</td>\n",
              "    </tr>\n",
              "    <tr>\n",
              "      <th>3</th>\n",
              "      <td>NaN</td>\n",
              "      <td>NaN</td>\n",
              "      <td>NaN</td>\n",
              "    </tr>\n",
              "    <tr>\n",
              "      <th>4</th>\n",
              "      <td>NaN</td>\n",
              "      <td>NaN</td>\n",
              "      <td>NaN</td>\n",
              "    </tr>\n",
              "  </tbody>\n",
              "</table>\n",
              "</div>"
            ],
            "text/plain": [
              "      A      B       C\n",
              "0   7.0   70.0   700.0\n",
              "1   9.0   90.0   900.0\n",
              "2  11.0  110.0  1100.0\n",
              "3   NaN    NaN     NaN\n",
              "4   NaN    NaN     NaN"
            ]
          },
          "metadata": {
            "tags": []
          },
          "execution_count": 51
        }
      ]
    },
    {
      "cell_type": "markdown",
      "metadata": {
        "id": "fjPM3ixHbZQL"
      },
      "source": [
        "- Series 데이터의 경우와 마찬가지로 DataFrame 데이터의 경우도 연산할 수 있는 항목 끼리만 연하하고 그렇지 못한 항목은 NaN으로 표시\n",
        "\n",
        "\n",
        "- pandas에는 데이터 통계 분석을 위한 다양한 메서드가 있어서 테이터의 총합, 평균, 표준 편차 등을 쉽게 구할 수 있음\n",
        "\n",
        "\n"
      ]
    },
    {
      "cell_type": "code",
      "metadata": {
        "colab": {
          "base_uri": "https://localhost:8080/",
          "height": 204
        },
        "id": "lRRDm0SRb_4h",
        "outputId": "0022a40f-3d75-4d8e-8081-833ee08eb5be"
      },
      "source": [
        "# pandas의 메서드로 통계 분석하는 방법\n",
        "# 2012년 부터 2016년 까지 우리나라의 계절별 강수량(단위 mm)\n",
        "\n",
        "table_data3 = {'봄':[256.5, 264.3,215.9,223.2,312.8],\n",
        "               '여름':[770.6,567.5,599.8,387.1, 446.2],\n",
        "               '가을':[363.3,231.2,293.1,247.7,381.6],\n",
        "               '겨울': [39.3,59.9,76.9,109.1,108.1]}\n",
        "columns_list = ['봄','여름','가을','겨울']\n",
        "index_list = ['2012','2013','2014','2015','2016']\n",
        "\n",
        "df3 = pd.DataFrame(table_data3, index=index_list, columns=columns_list)\n",
        "df3"
      ],
      "execution_count": 54,
      "outputs": [
        {
          "output_type": "execute_result",
          "data": {
            "text/html": [
              "<div>\n",
              "<style scoped>\n",
              "    .dataframe tbody tr th:only-of-type {\n",
              "        vertical-align: middle;\n",
              "    }\n",
              "\n",
              "    .dataframe tbody tr th {\n",
              "        vertical-align: top;\n",
              "    }\n",
              "\n",
              "    .dataframe thead th {\n",
              "        text-align: right;\n",
              "    }\n",
              "</style>\n",
              "<table border=\"1\" class=\"dataframe\">\n",
              "  <thead>\n",
              "    <tr style=\"text-align: right;\">\n",
              "      <th></th>\n",
              "      <th>봄</th>\n",
              "      <th>여름</th>\n",
              "      <th>가을</th>\n",
              "      <th>겨울</th>\n",
              "    </tr>\n",
              "  </thead>\n",
              "  <tbody>\n",
              "    <tr>\n",
              "      <th>2012</th>\n",
              "      <td>256.5</td>\n",
              "      <td>770.6</td>\n",
              "      <td>363.3</td>\n",
              "      <td>39.3</td>\n",
              "    </tr>\n",
              "    <tr>\n",
              "      <th>2013</th>\n",
              "      <td>264.3</td>\n",
              "      <td>567.5</td>\n",
              "      <td>231.2</td>\n",
              "      <td>59.9</td>\n",
              "    </tr>\n",
              "    <tr>\n",
              "      <th>2014</th>\n",
              "      <td>215.9</td>\n",
              "      <td>599.8</td>\n",
              "      <td>293.1</td>\n",
              "      <td>76.9</td>\n",
              "    </tr>\n",
              "    <tr>\n",
              "      <th>2015</th>\n",
              "      <td>223.2</td>\n",
              "      <td>387.1</td>\n",
              "      <td>247.7</td>\n",
              "      <td>109.1</td>\n",
              "    </tr>\n",
              "    <tr>\n",
              "      <th>2016</th>\n",
              "      <td>312.8</td>\n",
              "      <td>446.2</td>\n",
              "      <td>381.6</td>\n",
              "      <td>108.1</td>\n",
              "    </tr>\n",
              "  </tbody>\n",
              "</table>\n",
              "</div>"
            ],
            "text/plain": [
              "          봄     여름     가을     겨울\n",
              "2012  256.5  770.6  363.3   39.3\n",
              "2013  264.3  567.5  231.2   59.9\n",
              "2014  215.9  599.8  293.1   76.9\n",
              "2015  223.2  387.1  247.7  109.1\n",
              "2016  312.8  446.2  381.6  108.1"
            ]
          },
          "metadata": {
            "tags": []
          },
          "execution_count": 54
        }
      ]
    },
    {
      "cell_type": "markdown",
      "metadata": {
        "id": "76jHOo69eNHv"
      },
      "source": [
        "- DataFrame 데이터(df3)를 이용한 통계\n",
        "- pandas에서 제공하는 통계 메서드는 원소의 합을 구하는 sum(), 평균 mean(), 표준편차 std(), 분산 var(), 최솟값 min(), 최댓값 max() 원소의 누적 합cumsum(), 각 원소의 누적 곱 cumprod()"
      ]
    },
    {
      "cell_type": "code",
      "metadata": {
        "colab": {
          "base_uri": "https://localhost:8080/"
        },
        "id": "1hFAaqrifLtg",
        "outputId": "1d3e086a-c760-40d7-f0b8-20d01dae4960"
      },
      "source": [
        "df3.mean()"
      ],
      "execution_count": 57,
      "outputs": [
        {
          "output_type": "execute_result",
          "data": {
            "text/plain": [
              "봄     254.54\n",
              "여름    554.24\n",
              "가을    303.38\n",
              "겨울     78.66\n",
              "dtype: float64"
            ]
          },
          "metadata": {
            "tags": []
          },
          "execution_count": 57
        }
      ]
    },
    {
      "cell_type": "code",
      "metadata": {
        "colab": {
          "base_uri": "https://localhost:8080/",
          "height": 204
        },
        "id": "6kAS-SW11_9I",
        "outputId": "aabce363-6046-4dda-d074-ee503fa98549"
      },
      "source": [
        "df3.cumsum(axis=0)"
      ],
      "execution_count": 79,
      "outputs": [
        {
          "output_type": "execute_result",
          "data": {
            "text/html": [
              "<div>\n",
              "<style scoped>\n",
              "    .dataframe tbody tr th:only-of-type {\n",
              "        vertical-align: middle;\n",
              "    }\n",
              "\n",
              "    .dataframe tbody tr th {\n",
              "        vertical-align: top;\n",
              "    }\n",
              "\n",
              "    .dataframe thead th {\n",
              "        text-align: right;\n",
              "    }\n",
              "</style>\n",
              "<table border=\"1\" class=\"dataframe\">\n",
              "  <thead>\n",
              "    <tr style=\"text-align: right;\">\n",
              "      <th></th>\n",
              "      <th>봄</th>\n",
              "      <th>여름</th>\n",
              "      <th>가을</th>\n",
              "      <th>겨울</th>\n",
              "    </tr>\n",
              "  </thead>\n",
              "  <tbody>\n",
              "    <tr>\n",
              "      <th>2012</th>\n",
              "      <td>256.5</td>\n",
              "      <td>770.6</td>\n",
              "      <td>363.3</td>\n",
              "      <td>39.3</td>\n",
              "    </tr>\n",
              "    <tr>\n",
              "      <th>2013</th>\n",
              "      <td>520.8</td>\n",
              "      <td>1338.1</td>\n",
              "      <td>594.5</td>\n",
              "      <td>99.2</td>\n",
              "    </tr>\n",
              "    <tr>\n",
              "      <th>2014</th>\n",
              "      <td>736.7</td>\n",
              "      <td>1937.9</td>\n",
              "      <td>887.6</td>\n",
              "      <td>176.1</td>\n",
              "    </tr>\n",
              "    <tr>\n",
              "      <th>2015</th>\n",
              "      <td>959.9</td>\n",
              "      <td>2325.0</td>\n",
              "      <td>1135.3</td>\n",
              "      <td>285.2</td>\n",
              "    </tr>\n",
              "    <tr>\n",
              "      <th>2016</th>\n",
              "      <td>1272.7</td>\n",
              "      <td>2771.2</td>\n",
              "      <td>1516.9</td>\n",
              "      <td>393.3</td>\n",
              "    </tr>\n",
              "  </tbody>\n",
              "</table>\n",
              "</div>"
            ],
            "text/plain": [
              "           봄      여름      가을     겨울\n",
              "2012   256.5   770.6   363.3   39.3\n",
              "2013   520.8  1338.1   594.5   99.2\n",
              "2014   736.7  1937.9   887.6  176.1\n",
              "2015   959.9  2325.0  1135.3  285.2\n",
              "2016  1272.7  2771.2  1516.9  393.3"
            ]
          },
          "metadata": {
            "tags": []
          },
          "execution_count": 79
        }
      ]
    },
    {
      "cell_type": "code",
      "metadata": {
        "colab": {
          "base_uri": "https://localhost:8080/"
        },
        "id": "ib6F0mF_fQAB",
        "outputId": "77b6a6e3-1816-4cfd-a40e-9825f6779c44"
      },
      "source": [
        "df3.std()"
      ],
      "execution_count": 58,
      "outputs": [
        {
          "output_type": "execute_result",
          "data": {
            "text/plain": [
              "봄      38.628267\n",
              "여름    148.888895\n",
              "가을     67.313944\n",
              "겨울     30.403750\n",
              "dtype: float64"
            ]
          },
          "metadata": {
            "tags": []
          },
          "execution_count": 58
        }
      ]
    },
    {
      "cell_type": "markdown",
      "metadata": {
        "id": "KG66eYe8fgxz"
      },
      "source": [
        "- mean()과 std()는 연산의 방향을 설정하기 위해 axis 인자를 추가 할 수 있음\n",
        "- 인자 axis가 0이면 DataFrame의 values에서 열별로 연산을 수행하고, 1이면 행별로 연산을 수행\n",
        "- axis 인자를 설정하지 않으면 기본값으로 0이 설정\n"
      ]
    },
    {
      "cell_type": "code",
      "metadata": {
        "colab": {
          "base_uri": "https://localhost:8080/"
        },
        "id": "H6WIEdJlf768",
        "outputId": "c234563d-6d37-4d05-cd98-75e588023cf2"
      },
      "source": [
        "# 연산의 방향을 행 방향으로 설정\n",
        "df3.mean(axis=1)"
      ],
      "execution_count": 61,
      "outputs": [
        {
          "output_type": "execute_result",
          "data": {
            "text/plain": [
              "2012    357.425\n",
              "2013    280.725\n",
              "2014    296.425\n",
              "2015    241.775\n",
              "2016    312.175\n",
              "dtype: float64"
            ]
          },
          "metadata": {
            "tags": []
          },
          "execution_count": 61
        }
      ]
    },
    {
      "cell_type": "code",
      "metadata": {
        "colab": {
          "base_uri": "https://localhost:8080/"
        },
        "id": "dR-GW8iIf_nN",
        "outputId": "a523a783-0c6b-4921-9338-e6affe473e80"
      },
      "source": [
        "df3.sum(axis=1)"
      ],
      "execution_count": 60,
      "outputs": [
        {
          "output_type": "execute_result",
          "data": {
            "text/plain": [
              "2012    1429.7\n",
              "2013    1122.9\n",
              "2014    1185.7\n",
              "2015     967.1\n",
              "2016    1248.7\n",
              "dtype: float64"
            ]
          },
          "metadata": {
            "tags": []
          },
          "execution_count": 60
        }
      ]
    },
    {
      "cell_type": "code",
      "metadata": {
        "colab": {
          "base_uri": "https://localhost:8080/"
        },
        "id": "1TaYfcLLgLiW",
        "outputId": "da77abb6-8772-435f-b2b7-551f6f0a43c7"
      },
      "source": [
        "# describe()를 이용하면 평균, 표준편차, 최솟값, 최댓 값 등을 한번에 구할 수 있음\n",
        "\n",
        "print(df3.describe())\n",
        "\n",
        "print('*******************')\n",
        "\n",
        "print(df3.describe().T) #열기준이 아닌 행기준으로 볼때 전치.T사용"
      ],
      "execution_count": 92,
      "outputs": [
        {
          "output_type": "stream",
          "text": [
            "                봄          여름          가을         겨울\n",
            "count    5.000000    5.000000    5.000000    5.00000\n",
            "mean   254.540000  554.240000  303.380000   78.66000\n",
            "std     38.628267  148.888895   67.313944   30.40375\n",
            "min    215.900000  387.100000  231.200000   39.30000\n",
            "25%    223.200000  446.200000  247.700000   59.90000\n",
            "50%    256.500000  567.500000  293.100000   76.90000\n",
            "75%    264.300000  599.800000  363.300000  108.10000\n",
            "max    312.800000  770.600000  381.600000  109.10000\n",
            "*******************\n",
            "    count    mean         std    min    25%    50%    75%    max\n",
            "봄     5.0  254.54   38.628267  215.9  223.2  256.5  264.3  312.8\n",
            "여름    5.0  554.24  148.888895  387.1  446.2  567.5  599.8  770.6\n",
            "가을    5.0  303.38   67.313944  231.2  247.7  293.1  363.3  381.6\n",
            "겨울    5.0   78.66   30.403750   39.3   59.9   76.9  108.1  109.1\n"
          ],
          "name": "stdout"
        }
      ]
    },
    {
      "cell_type": "markdown",
      "metadata": {
        "id": "9KO6C58lgY7s"
      },
      "source": [
        "## 데이터를 원하는 대로 선택하기\n",
        "- pandas의 DataFrame 데이터를 원본 훼손 없이 원하는 부분만 선택하는 방법\n"
      ]
    },
    {
      "cell_type": "code",
      "metadata": {
        "colab": {
          "base_uri": "https://localhost:8080/",
          "height": 266
        },
        "id": "KpMX5dMRuyjb",
        "outputId": "561306c7-032d-424d-ade6-6f312e73e385"
      },
      "source": [
        "# 데이터를 이용해 다음과 같이 DataFrame 데이터를 생성\n",
        "\n",
        "KTX_data = {'경부선 KTX': [39060, 39896,42005, 43621, 41702, 41266, 32427],\n",
        "            '호남선 KTX': [7313,6967,6873,6626,8675,10622,9228],\n",
        "            '경전선 KTX' : [3627,4168,4088,4424,4606,4984,5570],\n",
        "            '전라선 KTX': [309,1771,1954,2244,3146,3945,5766],\n",
        "            '동해선 KTX': [np.nan,np.nan,np.nan,np.nan,2395,3786,6667]}\n",
        "col_list = ['경부선 KTX','호남선 KTX', '경전선 KTX','전라선 KTX', '동해선 KTX']\n",
        "index_list = ['2011','2012','2013','2014','2015','2016','2017']\n",
        "\n",
        "df_KTX = pd.DataFrame(KTX_data, index = index_list, columns= col_list)\n",
        "df_KTX"
      ],
      "execution_count": 63,
      "outputs": [
        {
          "output_type": "execute_result",
          "data": {
            "text/html": [
              "<div>\n",
              "<style scoped>\n",
              "    .dataframe tbody tr th:only-of-type {\n",
              "        vertical-align: middle;\n",
              "    }\n",
              "\n",
              "    .dataframe tbody tr th {\n",
              "        vertical-align: top;\n",
              "    }\n",
              "\n",
              "    .dataframe thead th {\n",
              "        text-align: right;\n",
              "    }\n",
              "</style>\n",
              "<table border=\"1\" class=\"dataframe\">\n",
              "  <thead>\n",
              "    <tr style=\"text-align: right;\">\n",
              "      <th></th>\n",
              "      <th>경부선 KTX</th>\n",
              "      <th>호남선 KTX</th>\n",
              "      <th>경전선 KTX</th>\n",
              "      <th>전라선 KTX</th>\n",
              "      <th>동해선 KTX</th>\n",
              "    </tr>\n",
              "  </thead>\n",
              "  <tbody>\n",
              "    <tr>\n",
              "      <th>2011</th>\n",
              "      <td>39060</td>\n",
              "      <td>7313</td>\n",
              "      <td>3627</td>\n",
              "      <td>309</td>\n",
              "      <td>NaN</td>\n",
              "    </tr>\n",
              "    <tr>\n",
              "      <th>2012</th>\n",
              "      <td>39896</td>\n",
              "      <td>6967</td>\n",
              "      <td>4168</td>\n",
              "      <td>1771</td>\n",
              "      <td>NaN</td>\n",
              "    </tr>\n",
              "    <tr>\n",
              "      <th>2013</th>\n",
              "      <td>42005</td>\n",
              "      <td>6873</td>\n",
              "      <td>4088</td>\n",
              "      <td>1954</td>\n",
              "      <td>NaN</td>\n",
              "    </tr>\n",
              "    <tr>\n",
              "      <th>2014</th>\n",
              "      <td>43621</td>\n",
              "      <td>6626</td>\n",
              "      <td>4424</td>\n",
              "      <td>2244</td>\n",
              "      <td>NaN</td>\n",
              "    </tr>\n",
              "    <tr>\n",
              "      <th>2015</th>\n",
              "      <td>41702</td>\n",
              "      <td>8675</td>\n",
              "      <td>4606</td>\n",
              "      <td>3146</td>\n",
              "      <td>2395.0</td>\n",
              "    </tr>\n",
              "    <tr>\n",
              "      <th>2016</th>\n",
              "      <td>41266</td>\n",
              "      <td>10622</td>\n",
              "      <td>4984</td>\n",
              "      <td>3945</td>\n",
              "      <td>3786.0</td>\n",
              "    </tr>\n",
              "    <tr>\n",
              "      <th>2017</th>\n",
              "      <td>32427</td>\n",
              "      <td>9228</td>\n",
              "      <td>5570</td>\n",
              "      <td>5766</td>\n",
              "      <td>6667.0</td>\n",
              "    </tr>\n",
              "  </tbody>\n",
              "</table>\n",
              "</div>"
            ],
            "text/plain": [
              "      경부선 KTX  호남선 KTX  경전선 KTX  전라선 KTX  동해선 KTX\n",
              "2011    39060     7313     3627      309      NaN\n",
              "2012    39896     6967     4168     1771      NaN\n",
              "2013    42005     6873     4088     1954      NaN\n",
              "2014    43621     6626     4424     2244      NaN\n",
              "2015    41702     8675     4606     3146   2395.0\n",
              "2016    41266    10622     4984     3945   3786.0\n",
              "2017    32427     9228     5570     5766   6667.0"
            ]
          },
          "metadata": {
            "tags": []
          },
          "execution_count": 63
        }
      ]
    },
    {
      "cell_type": "code",
      "metadata": {
        "colab": {
          "base_uri": "https://localhost:8080/"
        },
        "id": "kiQoN1v_wJnT",
        "outputId": "d2a9bdd1-27d2-426b-a213-5a036ca1e70d"
      },
      "source": [
        "# DataFrame 데이터의 index, columns, values를 확인하려면 다음과같이 작성\n",
        "print(df_KTX.index)\n",
        "print('***************************************************')\n",
        "print(df_KTX.columns)\n",
        "print('***************************************************')\n",
        "print(df_KTX.values)"
      ],
      "execution_count": 69,
      "outputs": [
        {
          "output_type": "stream",
          "text": [
            "Index(['2011', '2012', '2013', '2014', '2015', '2016', '2017'], dtype='object')\n",
            "***************************************************\n",
            "Index(['경부선 KTX', '호남선 KTX', '경전선 KTX', '전라선 KTX', '동해선 KTX'], dtype='object')\n",
            "***************************************************\n",
            "[[39060.  7313.  3627.   309.    nan]\n",
            " [39896.  6967.  4168.  1771.    nan]\n",
            " [42005.  6873.  4088.  1954.    nan]\n",
            " [43621.  6626.  4424.  2244.    nan]\n",
            " [41702.  8675.  4606.  3146.  2395.]\n",
            " [41266. 10622.  4984.  3945.  3786.]\n",
            " [32427.  9228.  5570.  5766.  6667.]]\n"
          ],
          "name": "stdout"
        }
      ]
    },
    {
      "cell_type": "markdown",
      "metadata": {
        "id": "q_4W_Z28wrTC"
      },
      "source": [
        "- pandas에서는 다음과 같이 head()와 tail()을 이용해 DataFrame의 전체 데이터 중 처음 일부 분과 끝 이부분만을 반환하는 것이 가능하다.\n",
        "- DataFrame_data.head([n])\n",
        "- DataFrame_data.tail([n])\n",
        "- 인자 n을 지정하면 head(n)의 경우에는 처음 n개의 행의 데이터를 반환한다. \n",
        "- tail(n)의 경우에는 마지막 n개의 행 데이터를 반환한다.\n",
        "- 인자 n을 지정하지 않으면 기본값으로 5가 지정\n",
        "\n"
      ]
    },
    {
      "cell_type": "code",
      "metadata": {
        "colab": {
          "base_uri": "https://localhost:8080/"
        },
        "id": "z1-JD6uZxX5f",
        "outputId": "80f21157-8b71-4c75-d6ba-0bbc411b1f71"
      },
      "source": [
        "#인자 n 없이 DataFrame_data.head() or tail() 을 수행\n",
        "print(df_KTX.head())\n",
        "print('***************************************************')\n",
        "\n",
        "print(df_KTX.tail())"
      ],
      "execution_count": 67,
      "outputs": [
        {
          "output_type": "stream",
          "text": [
            "      경부선 KTX  호남선 KTX  경전선 KTX  전라선 KTX  동해선 KTX\n",
            "2011    39060     7313     3627      309      NaN\n",
            "2012    39896     6967     4168     1771      NaN\n",
            "2013    42005     6873     4088     1954      NaN\n",
            "2014    43621     6626     4424     2244      NaN\n",
            "2015    41702     8675     4606     3146   2395.0\n",
            "***************************************************\n",
            "      경부선 KTX  호남선 KTX  경전선 KTX  전라선 KTX  동해선 KTX\n",
            "2013    42005     6873     4088     1954      NaN\n",
            "2014    43621     6626     4424     2244      NaN\n",
            "2015    41702     8675     4606     3146   2395.0\n",
            "2016    41266    10622     4984     3945   3786.0\n",
            "2017    32427     9228     5570     5766   6667.0\n"
          ],
          "name": "stdout"
        }
      ]
    },
    {
      "cell_type": "code",
      "metadata": {
        "colab": {
          "base_uri": "https://localhost:8080/"
        },
        "id": "Pdx0UkH1xhmX",
        "outputId": "de39f19d-ea17-4f2d-ab54-0a11b2c6375d"
      },
      "source": [
        "#인자 n을 넣고 DataFrame_data.head() or tail() 을 수행\n",
        "print(df_KTX.head(3))\n",
        "print('***************************************************')\n",
        "\n",
        "print(df_KTX.tail(2))"
      ],
      "execution_count": 68,
      "outputs": [
        {
          "output_type": "stream",
          "text": [
            "      경부선 KTX  호남선 KTX  경전선 KTX  전라선 KTX  동해선 KTX\n",
            "2011    39060     7313     3627      309      NaN\n",
            "2012    39896     6967     4168     1771      NaN\n",
            "2013    42005     6873     4088     1954      NaN\n",
            "***************************************************\n",
            "      경부선 KTX  호남선 KTX  경전선 KTX  전라선 KTX  동해선 KTX\n",
            "2016    41266    10622     4984     3945   3786.0\n",
            "2017    32427     9228     5570     5766   6667.0\n"
          ],
          "name": "stdout"
        }
      ]
    },
    {
      "cell_type": "markdown",
      "metadata": {
        "id": "OeHVs3b3xx2N"
      },
      "source": [
        "- DataFrame 데이터에서 연속된 구간의 행 데이터를 선택하려면 다음과 같이 `행 시작 위치`와 `끝 위치`를 지정\n",
        "- DataFrame_data[행_시작_위치: 행_끝 _위치]\n",
        "- DataFrame 데이터 중에서 `행시작위치 ~ 행끝위치-1`까지의 행 데이터를 반환\n",
        "- 행의 위치는 0부터 시작"
      ]
    },
    {
      "cell_type": "code",
      "metadata": {
        "colab": {
          "base_uri": "https://localhost:8080/",
          "height": 80
        },
        "id": "2DqPZjOsyK_k",
        "outputId": "6ca5a6b4-dd03-4bd9-b475-739831a8c211"
      },
      "source": [
        "# df_KTX에서 행 위치 1의 행 데이터 하나를 선택\n",
        "df_KTX[1:2]"
      ],
      "execution_count": 80,
      "outputs": [
        {
          "output_type": "execute_result",
          "data": {
            "text/html": [
              "<div>\n",
              "<style scoped>\n",
              "    .dataframe tbody tr th:only-of-type {\n",
              "        vertical-align: middle;\n",
              "    }\n",
              "\n",
              "    .dataframe tbody tr th {\n",
              "        vertical-align: top;\n",
              "    }\n",
              "\n",
              "    .dataframe thead th {\n",
              "        text-align: right;\n",
              "    }\n",
              "</style>\n",
              "<table border=\"1\" class=\"dataframe\">\n",
              "  <thead>\n",
              "    <tr style=\"text-align: right;\">\n",
              "      <th></th>\n",
              "      <th>경부선 KTX</th>\n",
              "      <th>호남선 KTX</th>\n",
              "      <th>경전선 KTX</th>\n",
              "      <th>전라선 KTX</th>\n",
              "      <th>동해선 KTX</th>\n",
              "    </tr>\n",
              "  </thead>\n",
              "  <tbody>\n",
              "    <tr>\n",
              "      <th>2012</th>\n",
              "      <td>39896</td>\n",
              "      <td>6967</td>\n",
              "      <td>4168</td>\n",
              "      <td>1771</td>\n",
              "      <td>NaN</td>\n",
              "    </tr>\n",
              "  </tbody>\n",
              "</table>\n",
              "</div>"
            ],
            "text/plain": [
              "      경부선 KTX  호남선 KTX  경전선 KTX  전라선 KTX  동해선 KTX\n",
              "2012    39896     6967     4168     1771      NaN"
            ]
          },
          "metadata": {
            "tags": []
          },
          "execution_count": 80
        }
      ]
    },
    {
      "cell_type": "code",
      "metadata": {
        "colab": {
          "base_uri": "https://localhost:8080/",
          "height": 142
        },
        "id": "yetzQSiC3Ahp",
        "outputId": "e9250fb1-ca72-4352-c596-a9d2020c9f12"
      },
      "source": [
        "# 변수 df_KTX에서 행 위치 2에서 4까지의 행 데이터 선택\n",
        "df_KTX[2:5]"
      ],
      "execution_count": 81,
      "outputs": [
        {
          "output_type": "execute_result",
          "data": {
            "text/html": [
              "<div>\n",
              "<style scoped>\n",
              "    .dataframe tbody tr th:only-of-type {\n",
              "        vertical-align: middle;\n",
              "    }\n",
              "\n",
              "    .dataframe tbody tr th {\n",
              "        vertical-align: top;\n",
              "    }\n",
              "\n",
              "    .dataframe thead th {\n",
              "        text-align: right;\n",
              "    }\n",
              "</style>\n",
              "<table border=\"1\" class=\"dataframe\">\n",
              "  <thead>\n",
              "    <tr style=\"text-align: right;\">\n",
              "      <th></th>\n",
              "      <th>경부선 KTX</th>\n",
              "      <th>호남선 KTX</th>\n",
              "      <th>경전선 KTX</th>\n",
              "      <th>전라선 KTX</th>\n",
              "      <th>동해선 KTX</th>\n",
              "    </tr>\n",
              "  </thead>\n",
              "  <tbody>\n",
              "    <tr>\n",
              "      <th>2013</th>\n",
              "      <td>42005</td>\n",
              "      <td>6873</td>\n",
              "      <td>4088</td>\n",
              "      <td>1954</td>\n",
              "      <td>NaN</td>\n",
              "    </tr>\n",
              "    <tr>\n",
              "      <th>2014</th>\n",
              "      <td>43621</td>\n",
              "      <td>6626</td>\n",
              "      <td>4424</td>\n",
              "      <td>2244</td>\n",
              "      <td>NaN</td>\n",
              "    </tr>\n",
              "    <tr>\n",
              "      <th>2015</th>\n",
              "      <td>41702</td>\n",
              "      <td>8675</td>\n",
              "      <td>4606</td>\n",
              "      <td>3146</td>\n",
              "      <td>2395.0</td>\n",
              "    </tr>\n",
              "  </tbody>\n",
              "</table>\n",
              "</div>"
            ],
            "text/plain": [
              "      경부선 KTX  호남선 KTX  경전선 KTX  전라선 KTX  동해선 KTX\n",
              "2013    42005     6873     4088     1954      NaN\n",
              "2014    43621     6626     4424     2244      NaN\n",
              "2015    41702     8675     4606     3146   2395.0"
            ]
          },
          "metadata": {
            "tags": []
          },
          "execution_count": 81
        }
      ]
    },
    {
      "cell_type": "markdown",
      "metadata": {
        "id": "_tR7RSRC3NSO"
      },
      "source": [
        "- DataFrame 데이터에서 다음과 같이 index 항목 이름으로 구간을 지정해서 연속된 구간의 행을 선택할 수도 있음\n",
        "- DataFrame_data.loc[start_index:end_index_name]\n",
        "- DataFrmae_data의 데이터 중 index가 start_index_name에서 end_index_name가지 구간의 행 데이터를 선택"
      ]
    },
    {
      "cell_type": "code",
      "metadata": {
        "colab": {
          "base_uri": "https://localhost:8080/"
        },
        "id": "h3-mOTQG3xUG",
        "outputId": "7fda6a6e-f414-447f-9641-0b7b1b60e1a6"
      },
      "source": [
        "# df_KTX에서 index로 지정한 항목 중 2013년부터 2016까지의 행 데이터를 선택한 예\n",
        "print(df_KTX['2013':'2016'])\n",
        "print('****************************************************')\n",
        "print(df_KTX.loc['2013':'2016'])\n",
        "\n"
      ],
      "execution_count": 98,
      "outputs": [
        {
          "output_type": "stream",
          "text": [
            "      경부선 KTX  호남선 KTX  경전선 KTX  전라선 KTX  동해선 KTX\n",
            "2013    42005     6873     4088     1954      NaN\n",
            "2014    43621     6626     4424     2244      NaN\n",
            "2015    41702     8675     4606     3146   2395.0\n",
            "2016    41266    10622     4984     3945   3786.0\n",
            "****************************************************\n",
            "      경부선 KTX  호남선 KTX  경전선 KTX  전라선 KTX  동해선 KTX\n",
            "2013    42005     6873     4088     1954      NaN\n",
            "2014    43621     6626     4424     2244      NaN\n",
            "2015    41702     8675     4606     3146   2395.0\n",
            "2016    41266    10622     4984     3945   3786.0\n"
          ],
          "name": "stdout"
        }
      ]
    },
    {
      "cell_type": "markdown",
      "metadata": {
        "id": "Oj1Cg2HU3970"
      },
      "source": [
        "- 데이터에서 하나의 열만 선택하려면 다음과 같이 하나의 columns 항목 이름을 지정\n",
        "- DataFrame_data[columns_name]\n",
        "- DataFrame_data 에서 column_name으로 지정한 열이 선택\n"
      ]
    },
    {
      "cell_type": "code",
      "metadata": {
        "colab": {
          "base_uri": "https://localhost:8080/"
        },
        "id": "HtHr6Hax_M9J",
        "outputId": "02ec1da4-fa2c-40a2-fc60-dfd13f0c3456"
      },
      "source": [
        "# df_KTX에서 columns의 항목 중 경부선 KTX를 지정해 하나의 열 데이터만 선택한 예 하나의 열만 지정가능\n",
        "df_KTX['경부선 KTX']"
      ],
      "execution_count": 96,
      "outputs": [
        {
          "output_type": "execute_result",
          "data": {
            "text/plain": [
              "2011    39060\n",
              "2012    39896\n",
              "2013    42005\n",
              "2014    43621\n",
              "2015    41702\n",
              "2016    41266\n",
              "2017    32427\n",
              "Name: 경부선 KTX, dtype: int64"
            ]
          },
          "metadata": {
            "tags": []
          },
          "execution_count": 96
        }
      ]
    },
    {
      "cell_type": "markdown",
      "metadata": {
        "id": "uS-tEIAX_XAd"
      },
      "source": [
        "- DataFrame 데이터에서 하나의 열을 선택한 후 index의 범위를 지정해 원하는 데이터만 선택할 수도 있음\n",
        "- DataFrame_data[columns_name][start_index_name:end_index_name]\n",
        "- DataFrmae_data[columns_name][start_index_pos:end_index_pos]\n",
        "- columns_name으로 하나의 열을 선택한 후 `start_index_name:end_index_name`으로 index의 이름을 지정해 index의 범위를 선택할 수도 있다.\n",
        "- `start_index_pos:end_index_pos`로 index의 위치를 지정해 index의 범위를 선택할 수도 있음\n",
        "- index의 위치는 0부터 시작"
      ]
    },
    {
      "cell_type": "code",
      "metadata": {
        "colab": {
          "base_uri": "https://localhost:8080/"
        },
        "id": "OZE4d_RaA2H3",
        "outputId": "7e66261f-574c-423e-9923-a54bcdc4bbae"
      },
      "source": [
        "# df_KTX에서 경부선 KTX로 열을 선택한 후 2012susdptj 2014년 까지 index의 범위를 index의 이름으로 지정한예\n",
        "df_KTX['경부선 KTX']['2012':'2014']"
      ],
      "execution_count": 99,
      "outputs": [
        {
          "output_type": "execute_result",
          "data": {
            "text/plain": [
              "2012    39896\n",
              "2013    42005\n",
              "2014    43621\n",
              "Name: 경부선 KTX, dtype: int64"
            ]
          },
          "metadata": {
            "tags": []
          },
          "execution_count": 99
        }
      ]
    },
    {
      "cell_type": "code",
      "metadata": {
        "colab": {
          "base_uri": "https://localhost:8080/"
        },
        "id": "bzfnkqI3Bj0U",
        "outputId": "e6d6a947-ea3c-456a-ee90-c6bb1f90364a"
      },
      "source": [
        "# index의 위치로 범위를 지정한 예\n",
        "df_KTX['경부선 KTX'][2:5]"
      ],
      "execution_count": 100,
      "outputs": [
        {
          "output_type": "execute_result",
          "data": {
            "text/plain": [
              "2013    42005\n",
              "2014    43621\n",
              "2015    41702\n",
              "Name: 경부선 KTX, dtype: int64"
            ]
          },
          "metadata": {
            "tags": []
          },
          "execution_count": 100
        }
      ]
    },
    {
      "cell_type": "markdown",
      "metadata": {
        "id": "4-GVFsSVBtoR"
      },
      "source": [
        "- DataFrame 데이터 중 하나의 원소만 선택하려면 다음 방법 중 하나를 이용\n",
        "    1. DataFrame_data.loc[index_name][columns_name]\n",
        "    2. DataFrame_data.loc[index_name,columns_name]\n",
        "    3. DataFrame_data[columns_name][index_name]\n",
        "    4. DataFrame_data[columns_name][index_pos]\n",
        "    5. DataFrame_data[columns_name].loc[index_name] "
      ]
    },
    {
      "cell_type": "code",
      "metadata": {
        "colab": {
          "base_uri": "https://localhost:8080/"
        },
        "id": "4gQOgYmeCut1",
        "outputId": "ad0a96b4-f6e4-48e6-e1d7-736317f67074"
      },
      "source": [
        "# df_KTX에서 2016년의 호남선 KTX의 이용자 수를 선택하려면 다음과 같이 여러 방법으로 수행\n",
        "print(df_KTX.loc['2016']['호남선 KTX'])\n",
        "print('*************************')\n",
        "print(df_KTX.loc['2016', '호남선 KTX'])\n",
        "print('*************************')\n",
        "print(df_KTX['호남선 KTX']['2016'])\n",
        "print('*************************')\n",
        "print(df_KTX['호남선 KTX'][5])\n",
        "print('*************************')\n",
        "print(df_KTX['호남선 KTX'].loc['2016'])"
      ],
      "execution_count": 103,
      "outputs": [
        {
          "output_type": "stream",
          "text": [
            "10622.0\n",
            "*************************\n",
            "10622\n",
            "*************************\n",
            "10622\n",
            "*************************\n",
            "10622\n",
            "*************************\n",
            "10622\n"
          ],
          "name": "stdout"
        }
      ]
    },
    {
      "cell_type": "markdown",
      "metadata": {
        "id": "wRO51xm0MUVe"
      },
      "source": [
        "- DataFrame 데이터의 행과 열을 바꾸는 방법\n",
        "- 행렬에서 행과 열을 바꾸는 것을 전치(transpose)\n",
        "- pandas에서는 다음과 같은 방법으로 DataFrame 데이터의 전치를 구할 수 있음\n",
        "- DataFrame_data.T\n",
        "\n"
      ]
    },
    {
      "cell_type": "code",
      "metadata": {
        "colab": {
          "base_uri": "https://localhost:8080/"
        },
        "id": "hbLr3GeINCY7",
        "outputId": "abb58198-8c20-40d2-f9f3-0dc28b4867eb"
      },
      "source": [
        "# df_KTX의 전치를 구하는 예\n",
        "print(df_KTX.T)\n",
        "print('*************************')\n",
        "print(df_KTX) #완전 전치되는 것이 아니다.\n"
      ],
      "execution_count": 106,
      "outputs": [
        {
          "output_type": "stream",
          "text": [
            "            2011     2012     2013     2014     2015     2016     2017\n",
            "경부선 KTX  39060.0  39896.0  42005.0  43621.0  41702.0  41266.0  32427.0\n",
            "호남선 KTX   7313.0   6967.0   6873.0   6626.0   8675.0  10622.0   9228.0\n",
            "경전선 KTX   3627.0   4168.0   4088.0   4424.0   4606.0   4984.0   5570.0\n",
            "전라선 KTX    309.0   1771.0   1954.0   2244.0   3146.0   3945.0   5766.0\n",
            "동해선 KTX      NaN      NaN      NaN      NaN   2395.0   3786.0   6667.0\n",
            "*************************\n",
            "      경부선 KTX  호남선 KTX  경전선 KTX  전라선 KTX  동해선 KTX\n",
            "2011    39060     7313     3627      309      NaN\n",
            "2012    39896     6967     4168     1771      NaN\n",
            "2013    42005     6873     4088     1954      NaN\n",
            "2014    43621     6626     4424     2244      NaN\n",
            "2015    41702     8675     4606     3146   2395.0\n",
            "2016    41266    10622     4984     3945   3786.0\n",
            "2017    32427     9228     5570     5766   6667.0\n"
          ],
          "name": "stdout"
        }
      ]
    },
    {
      "cell_type": "code",
      "metadata": {
        "colab": {
          "base_uri": "https://localhost:8080/",
          "height": 266
        },
        "id": "K2BMXUXDNG4M",
        "outputId": "123534ef-b209-4408-8812-4ac60c9998ea"
      },
      "source": [
        "# DataFrame 데이터 변수 df_KTX에 열의 항목을 지정해 열의 순서를 다음과 같이 변경\n",
        "df_KTX[['동해선 KTX', '전라선 KTX', '경전선 KTX', '호남선 KTX', '경부선 KTX']]"
      ],
      "execution_count": 107,
      "outputs": [
        {
          "output_type": "execute_result",
          "data": {
            "text/html": [
              "<div>\n",
              "<style scoped>\n",
              "    .dataframe tbody tr th:only-of-type {\n",
              "        vertical-align: middle;\n",
              "    }\n",
              "\n",
              "    .dataframe tbody tr th {\n",
              "        vertical-align: top;\n",
              "    }\n",
              "\n",
              "    .dataframe thead th {\n",
              "        text-align: right;\n",
              "    }\n",
              "</style>\n",
              "<table border=\"1\" class=\"dataframe\">\n",
              "  <thead>\n",
              "    <tr style=\"text-align: right;\">\n",
              "      <th></th>\n",
              "      <th>동해선 KTX</th>\n",
              "      <th>전라선 KTX</th>\n",
              "      <th>경전선 KTX</th>\n",
              "      <th>호남선 KTX</th>\n",
              "      <th>경부선 KTX</th>\n",
              "    </tr>\n",
              "  </thead>\n",
              "  <tbody>\n",
              "    <tr>\n",
              "      <th>2011</th>\n",
              "      <td>NaN</td>\n",
              "      <td>309</td>\n",
              "      <td>3627</td>\n",
              "      <td>7313</td>\n",
              "      <td>39060</td>\n",
              "    </tr>\n",
              "    <tr>\n",
              "      <th>2012</th>\n",
              "      <td>NaN</td>\n",
              "      <td>1771</td>\n",
              "      <td>4168</td>\n",
              "      <td>6967</td>\n",
              "      <td>39896</td>\n",
              "    </tr>\n",
              "    <tr>\n",
              "      <th>2013</th>\n",
              "      <td>NaN</td>\n",
              "      <td>1954</td>\n",
              "      <td>4088</td>\n",
              "      <td>6873</td>\n",
              "      <td>42005</td>\n",
              "    </tr>\n",
              "    <tr>\n",
              "      <th>2014</th>\n",
              "      <td>NaN</td>\n",
              "      <td>2244</td>\n",
              "      <td>4424</td>\n",
              "      <td>6626</td>\n",
              "      <td>43621</td>\n",
              "    </tr>\n",
              "    <tr>\n",
              "      <th>2015</th>\n",
              "      <td>2395.0</td>\n",
              "      <td>3146</td>\n",
              "      <td>4606</td>\n",
              "      <td>8675</td>\n",
              "      <td>41702</td>\n",
              "    </tr>\n",
              "    <tr>\n",
              "      <th>2016</th>\n",
              "      <td>3786.0</td>\n",
              "      <td>3945</td>\n",
              "      <td>4984</td>\n",
              "      <td>10622</td>\n",
              "      <td>41266</td>\n",
              "    </tr>\n",
              "    <tr>\n",
              "      <th>2017</th>\n",
              "      <td>6667.0</td>\n",
              "      <td>5766</td>\n",
              "      <td>5570</td>\n",
              "      <td>9228</td>\n",
              "      <td>32427</td>\n",
              "    </tr>\n",
              "  </tbody>\n",
              "</table>\n",
              "</div>"
            ],
            "text/plain": [
              "      동해선 KTX  전라선 KTX  경전선 KTX  호남선 KTX  경부선 KTX\n",
              "2011      NaN      309     3627     7313    39060\n",
              "2012      NaN     1771     4168     6967    39896\n",
              "2013      NaN     1954     4088     6873    42005\n",
              "2014      NaN     2244     4424     6626    43621\n",
              "2015   2395.0     3146     4606     8675    41702\n",
              "2016   3786.0     3945     4984    10622    41266\n",
              "2017   6667.0     5766     5570     9228    32427"
            ]
          },
          "metadata": {
            "tags": []
          },
          "execution_count": 107
        }
      ]
    },
    {
      "cell_type": "markdown",
      "metadata": {
        "id": "cwn4OZ9MNn8n"
      },
      "source": [
        "## 데이터 통합하기\n",
        "- 두개의 데이터를 하나로 통합하는 방법\n",
        "- 통합 방법에는 세로로 증가하는 방향으로 통합하기\n",
        "- 가로로 증가하는 방향으로 통합하기\n",
        "- 특정 열을 기준으로 통합하는 방법\n",
        "\n",
        "### 세로 방향으로 통합하기 \n",
        "- DataFrame에서 columns가 같은 두 데이터를 세로 방향(index 증가 방향)으로 합하려면 `append()`사용\n",
        "- data_Frame_data1.append(DataFrame_data2[,ignore_index=True])\n",
        "- 세로 방향으로 DataFrame_data1 다음에 DataFrame_data2가 추가돼서 DataFrame 데이터로 변환\n",
        "- `ignore_index = True`를입력하지 않으면 기존의 데이터 index가 그대로 유지되고, 입력한다면 생성된 DataFrame 데이터에는 데이터 순서대로 새로운 index가 할당"
      ]
    },
    {
      "cell_type": "code",
      "metadata": {
        "colab": {
          "base_uri": "https://localhost:8080/",
          "height": 173
        },
        "id": "Xm28xV-kOoKs",
        "outputId": "9c56f540-e053-48b2-eb3e-3756ecc55855"
      },
      "source": [
        "# 두 학급의 시험 점수가 담긴 DataFrame 데이터(df1)를 다음과 같이 생성\n",
        "import pandas as pd\n",
        "import numpy as np\n",
        "\n",
        "df1 = pd.DataFrame({'class1': [5,92,98,100],\n",
        "                    'class2': [91,93,97,99]})\n",
        "df1"
      ],
      "execution_count": 108,
      "outputs": [
        {
          "output_type": "execute_result",
          "data": {
            "text/html": [
              "<div>\n",
              "<style scoped>\n",
              "    .dataframe tbody tr th:only-of-type {\n",
              "        vertical-align: middle;\n",
              "    }\n",
              "\n",
              "    .dataframe tbody tr th {\n",
              "        vertical-align: top;\n",
              "    }\n",
              "\n",
              "    .dataframe thead th {\n",
              "        text-align: right;\n",
              "    }\n",
              "</style>\n",
              "<table border=\"1\" class=\"dataframe\">\n",
              "  <thead>\n",
              "    <tr style=\"text-align: right;\">\n",
              "      <th></th>\n",
              "      <th>class1</th>\n",
              "      <th>class2</th>\n",
              "    </tr>\n",
              "  </thead>\n",
              "  <tbody>\n",
              "    <tr>\n",
              "      <th>0</th>\n",
              "      <td>5</td>\n",
              "      <td>91</td>\n",
              "    </tr>\n",
              "    <tr>\n",
              "      <th>1</th>\n",
              "      <td>92</td>\n",
              "      <td>93</td>\n",
              "    </tr>\n",
              "    <tr>\n",
              "      <th>2</th>\n",
              "      <td>98</td>\n",
              "      <td>97</td>\n",
              "    </tr>\n",
              "    <tr>\n",
              "      <th>3</th>\n",
              "      <td>100</td>\n",
              "      <td>99</td>\n",
              "    </tr>\n",
              "  </tbody>\n",
              "</table>\n",
              "</div>"
            ],
            "text/plain": [
              "   class1  class2\n",
              "0       5      91\n",
              "1      92      93\n",
              "2      98      97\n",
              "3     100      99"
            ]
          },
          "metadata": {
            "tags": []
          },
          "execution_count": 108
        }
      ]
    },
    {
      "cell_type": "code",
      "metadata": {
        "colab": {
          "base_uri": "https://localhost:8080/",
          "height": 111
        },
        "id": "oScUKjPhO8G5",
        "outputId": "ff9cc678-df03-403b-b355-64dcbc690f19"
      },
      "source": [
        "# 각각 두명의 학생이 전학을 와서 다음과 같이 Dataframe 데이터를 추가로 생성\n",
        "df2 = pd.DataFrame({'class1': [87,89],\n",
        "                    'class2' : [85,90]})\n",
        "df2"
      ],
      "execution_count": 109,
      "outputs": [
        {
          "output_type": "execute_result",
          "data": {
            "text/html": [
              "<div>\n",
              "<style scoped>\n",
              "    .dataframe tbody tr th:only-of-type {\n",
              "        vertical-align: middle;\n",
              "    }\n",
              "\n",
              "    .dataframe tbody tr th {\n",
              "        vertical-align: top;\n",
              "    }\n",
              "\n",
              "    .dataframe thead th {\n",
              "        text-align: right;\n",
              "    }\n",
              "</style>\n",
              "<table border=\"1\" class=\"dataframe\">\n",
              "  <thead>\n",
              "    <tr style=\"text-align: right;\">\n",
              "      <th></th>\n",
              "      <th>class1</th>\n",
              "      <th>class2</th>\n",
              "    </tr>\n",
              "  </thead>\n",
              "  <tbody>\n",
              "    <tr>\n",
              "      <th>0</th>\n",
              "      <td>87</td>\n",
              "      <td>85</td>\n",
              "    </tr>\n",
              "    <tr>\n",
              "      <th>1</th>\n",
              "      <td>89</td>\n",
              "      <td>90</td>\n",
              "    </tr>\n",
              "  </tbody>\n",
              "</table>\n",
              "</div>"
            ],
            "text/plain": [
              "   class1  class2\n",
              "0      87      85\n",
              "1      89      90"
            ]
          },
          "metadata": {
            "tags": []
          },
          "execution_count": 109
        }
      ]
    },
    {
      "cell_type": "code",
      "metadata": {
        "colab": {
          "base_uri": "https://localhost:8080/",
          "height": 235
        },
        "id": "eZDKfEQ2PO5u",
        "outputId": "6425a470-d82d-4ab5-eebd-4670d08941c6"
      },
      "source": [
        "# append()를 이용해 df1에 df2를 추가해서 데이터를 하나로 만든다.\n",
        "df1.append(df2)"
      ],
      "execution_count": 110,
      "outputs": [
        {
          "output_type": "execute_result",
          "data": {
            "text/html": [
              "<div>\n",
              "<style scoped>\n",
              "    .dataframe tbody tr th:only-of-type {\n",
              "        vertical-align: middle;\n",
              "    }\n",
              "\n",
              "    .dataframe tbody tr th {\n",
              "        vertical-align: top;\n",
              "    }\n",
              "\n",
              "    .dataframe thead th {\n",
              "        text-align: right;\n",
              "    }\n",
              "</style>\n",
              "<table border=\"1\" class=\"dataframe\">\n",
              "  <thead>\n",
              "    <tr style=\"text-align: right;\">\n",
              "      <th></th>\n",
              "      <th>class1</th>\n",
              "      <th>class2</th>\n",
              "    </tr>\n",
              "  </thead>\n",
              "  <tbody>\n",
              "    <tr>\n",
              "      <th>0</th>\n",
              "      <td>5</td>\n",
              "      <td>91</td>\n",
              "    </tr>\n",
              "    <tr>\n",
              "      <th>1</th>\n",
              "      <td>92</td>\n",
              "      <td>93</td>\n",
              "    </tr>\n",
              "    <tr>\n",
              "      <th>2</th>\n",
              "      <td>98</td>\n",
              "      <td>97</td>\n",
              "    </tr>\n",
              "    <tr>\n",
              "      <th>3</th>\n",
              "      <td>100</td>\n",
              "      <td>99</td>\n",
              "    </tr>\n",
              "    <tr>\n",
              "      <th>0</th>\n",
              "      <td>87</td>\n",
              "      <td>85</td>\n",
              "    </tr>\n",
              "    <tr>\n",
              "      <th>1</th>\n",
              "      <td>89</td>\n",
              "      <td>90</td>\n",
              "    </tr>\n",
              "  </tbody>\n",
              "</table>\n",
              "</div>"
            ],
            "text/plain": [
              "   class1  class2\n",
              "0       5      91\n",
              "1      92      93\n",
              "2      98      97\n",
              "3     100      99\n",
              "0      87      85\n",
              "1      89      90"
            ]
          },
          "metadata": {
            "tags": []
          },
          "execution_count": 110
        }
      ]
    },
    {
      "cell_type": "code",
      "metadata": {
        "colab": {
          "base_uri": "https://localhost:8080/",
          "height": 235
        },
        "id": "MwoWG_AaPVtp",
        "outputId": "a3545a49-1374-4f48-d0d1-6e3550ccba23"
      },
      "source": [
        "#위의 DataFrame은 ignore_index=True를 쓰지않아 기존의 index를 가져옴\n",
        "df1.append(df2,ignore_index=True)"
      ],
      "execution_count": 111,
      "outputs": [
        {
          "output_type": "execute_result",
          "data": {
            "text/html": [
              "<div>\n",
              "<style scoped>\n",
              "    .dataframe tbody tr th:only-of-type {\n",
              "        vertical-align: middle;\n",
              "    }\n",
              "\n",
              "    .dataframe tbody tr th {\n",
              "        vertical-align: top;\n",
              "    }\n",
              "\n",
              "    .dataframe thead th {\n",
              "        text-align: right;\n",
              "    }\n",
              "</style>\n",
              "<table border=\"1\" class=\"dataframe\">\n",
              "  <thead>\n",
              "    <tr style=\"text-align: right;\">\n",
              "      <th></th>\n",
              "      <th>class1</th>\n",
              "      <th>class2</th>\n",
              "    </tr>\n",
              "  </thead>\n",
              "  <tbody>\n",
              "    <tr>\n",
              "      <th>0</th>\n",
              "      <td>5</td>\n",
              "      <td>91</td>\n",
              "    </tr>\n",
              "    <tr>\n",
              "      <th>1</th>\n",
              "      <td>92</td>\n",
              "      <td>93</td>\n",
              "    </tr>\n",
              "    <tr>\n",
              "      <th>2</th>\n",
              "      <td>98</td>\n",
              "      <td>97</td>\n",
              "    </tr>\n",
              "    <tr>\n",
              "      <th>3</th>\n",
              "      <td>100</td>\n",
              "      <td>99</td>\n",
              "    </tr>\n",
              "    <tr>\n",
              "      <th>4</th>\n",
              "      <td>87</td>\n",
              "      <td>85</td>\n",
              "    </tr>\n",
              "    <tr>\n",
              "      <th>5</th>\n",
              "      <td>89</td>\n",
              "      <td>90</td>\n",
              "    </tr>\n",
              "  </tbody>\n",
              "</table>\n",
              "</div>"
            ],
            "text/plain": [
              "   class1  class2\n",
              "0       5      91\n",
              "1      92      93\n",
              "2      98      97\n",
              "3     100      99\n",
              "4      87      85\n",
              "5      89      90"
            ]
          },
          "metadata": {
            "tags": []
          },
          "execution_count": 111
        }
      ]
    },
    {
      "cell_type": "code",
      "metadata": {
        "colab": {
          "base_uri": "https://localhost:8080/",
          "height": 173
        },
        "id": "kvxyoRiEPq9b",
        "outputId": "04f7fa64-4547-475f-eb29-0b624ef5e7f7"
      },
      "source": [
        "#columns가 같지 않음 DataFrame 데이터를 append()를 이용해 추가한다면 데이터가 없는 부분은 NAN으로 채워짐\n",
        "df3 = pd.DataFrame({'class1': [96,83]})\n",
        "#열이 두개인 df2에 열이 하나인df3를 추가\n",
        "df2.append(df3,ignore_index=True)"
      ],
      "execution_count": 112,
      "outputs": [
        {
          "output_type": "execute_result",
          "data": {
            "text/html": [
              "<div>\n",
              "<style scoped>\n",
              "    .dataframe tbody tr th:only-of-type {\n",
              "        vertical-align: middle;\n",
              "    }\n",
              "\n",
              "    .dataframe tbody tr th {\n",
              "        vertical-align: top;\n",
              "    }\n",
              "\n",
              "    .dataframe thead th {\n",
              "        text-align: right;\n",
              "    }\n",
              "</style>\n",
              "<table border=\"1\" class=\"dataframe\">\n",
              "  <thead>\n",
              "    <tr style=\"text-align: right;\">\n",
              "      <th></th>\n",
              "      <th>class1</th>\n",
              "      <th>class2</th>\n",
              "    </tr>\n",
              "  </thead>\n",
              "  <tbody>\n",
              "    <tr>\n",
              "      <th>0</th>\n",
              "      <td>87</td>\n",
              "      <td>85.0</td>\n",
              "    </tr>\n",
              "    <tr>\n",
              "      <th>1</th>\n",
              "      <td>89</td>\n",
              "      <td>90.0</td>\n",
              "    </tr>\n",
              "    <tr>\n",
              "      <th>2</th>\n",
              "      <td>96</td>\n",
              "      <td>NaN</td>\n",
              "    </tr>\n",
              "    <tr>\n",
              "      <th>3</th>\n",
              "      <td>83</td>\n",
              "      <td>NaN</td>\n",
              "    </tr>\n",
              "  </tbody>\n",
              "</table>\n",
              "</div>"
            ],
            "text/plain": [
              "   class1  class2\n",
              "0      87    85.0\n",
              "1      89    90.0\n",
              "2      96     NaN\n",
              "3      83     NaN"
            ]
          },
          "metadata": {
            "tags": []
          },
          "execution_count": 112
        }
      ]
    },
    {
      "cell_type": "markdown",
      "metadata": {
        "id": "r74PDKirP-xZ"
      },
      "source": [
        "### 가로 방향으로 통합하기\n",
        "- index가 같은 두 DataFrame 데이터에 대해 가로방향(columns 증가방향)에 새로운 데이터를 추가하는 방법\n",
        "- 두개의 DataFrame 데이터를 가로 방향으로 합치려면 다음과 같이 `join()`을 이용\n",
        "dataFrame_data1.join(dataFrame_data2)\n",
        "- DataFrame_data1 다음에 가로방향으로 DataFrame_data2가 추가돼서 DataFrame데이터로 반환"
      ]
    },
    {
      "cell_type": "code",
      "metadata": {
        "colab": {
          "base_uri": "https://localhost:8080/",
          "height": 173
        },
        "id": "W7cjSW06RMQ_",
        "outputId": "2ac03676-38c3-4b3d-9c0f-045959fd21dd"
      },
      "source": [
        "#df1과 index 방향으로 크기가 같은 DataFrame 데이터 하나를 생성\n",
        "df4 = pd.DataFrame({'class3':[93,91,95,98]})\n",
        "df1.join(df4)"
      ],
      "execution_count": 113,
      "outputs": [
        {
          "output_type": "execute_result",
          "data": {
            "text/html": [
              "<div>\n",
              "<style scoped>\n",
              "    .dataframe tbody tr th:only-of-type {\n",
              "        vertical-align: middle;\n",
              "    }\n",
              "\n",
              "    .dataframe tbody tr th {\n",
              "        vertical-align: top;\n",
              "    }\n",
              "\n",
              "    .dataframe thead th {\n",
              "        text-align: right;\n",
              "    }\n",
              "</style>\n",
              "<table border=\"1\" class=\"dataframe\">\n",
              "  <thead>\n",
              "    <tr style=\"text-align: right;\">\n",
              "      <th></th>\n",
              "      <th>class1</th>\n",
              "      <th>class2</th>\n",
              "      <th>class3</th>\n",
              "    </tr>\n",
              "  </thead>\n",
              "  <tbody>\n",
              "    <tr>\n",
              "      <th>0</th>\n",
              "      <td>5</td>\n",
              "      <td>91</td>\n",
              "      <td>93</td>\n",
              "    </tr>\n",
              "    <tr>\n",
              "      <th>1</th>\n",
              "      <td>92</td>\n",
              "      <td>93</td>\n",
              "      <td>91</td>\n",
              "    </tr>\n",
              "    <tr>\n",
              "      <th>2</th>\n",
              "      <td>98</td>\n",
              "      <td>97</td>\n",
              "      <td>95</td>\n",
              "    </tr>\n",
              "    <tr>\n",
              "      <th>3</th>\n",
              "      <td>100</td>\n",
              "      <td>99</td>\n",
              "      <td>98</td>\n",
              "    </tr>\n",
              "  </tbody>\n",
              "</table>\n",
              "</div>"
            ],
            "text/plain": [
              "   class1  class2  class3\n",
              "0       5      91      93\n",
              "1      92      93      91\n",
              "2      98      97      95\n",
              "3     100      99      98"
            ]
          },
          "metadata": {
            "tags": []
          },
          "execution_count": 113
        }
      ]
    },
    {
      "cell_type": "markdown",
      "metadata": {
        "id": "9jtnvqKkR0Mc"
      },
      "source": [
        "index 라벨을 지정한 DataFrame의 데이터의 경우에도 index가 같으면 `join()`을 이용해 가로방향으로 데이터를 추가할 수 있다."
      ]
    },
    {
      "cell_type": "code",
      "metadata": {
        "colab": {
          "base_uri": "https://localhost:8080/",
          "height": 173
        },
        "id": "orIcNlIXxX5j",
        "outputId": "f09cf50f-3c88-42d1-dc4c-451e689a29b0"
      },
      "source": [
        "index_label = ['a','b','c','d']\n",
        "df1a = pd.DataFrame({'Class1': [95, 92, 98, 100],\n",
        "                    'Class2': [91, 93, 97, 99]}, index= index_label)\n",
        "df4a = pd.DataFrame({'Class3': [93, 91, 95, 98]}, index=index_label)\n",
        "\n",
        "df1a.join(df4a)"
      ],
      "execution_count": 128,
      "outputs": [
        {
          "output_type": "execute_result",
          "data": {
            "text/html": [
              "<div>\n",
              "<style scoped>\n",
              "    .dataframe tbody tr th:only-of-type {\n",
              "        vertical-align: middle;\n",
              "    }\n",
              "\n",
              "    .dataframe tbody tr th {\n",
              "        vertical-align: top;\n",
              "    }\n",
              "\n",
              "    .dataframe thead th {\n",
              "        text-align: right;\n",
              "    }\n",
              "</style>\n",
              "<table border=\"1\" class=\"dataframe\">\n",
              "  <thead>\n",
              "    <tr style=\"text-align: right;\">\n",
              "      <th></th>\n",
              "      <th>Class1</th>\n",
              "      <th>Class2</th>\n",
              "      <th>Class3</th>\n",
              "    </tr>\n",
              "  </thead>\n",
              "  <tbody>\n",
              "    <tr>\n",
              "      <th>a</th>\n",
              "      <td>95</td>\n",
              "      <td>91</td>\n",
              "      <td>93</td>\n",
              "    </tr>\n",
              "    <tr>\n",
              "      <th>b</th>\n",
              "      <td>92</td>\n",
              "      <td>93</td>\n",
              "      <td>91</td>\n",
              "    </tr>\n",
              "    <tr>\n",
              "      <th>c</th>\n",
              "      <td>98</td>\n",
              "      <td>97</td>\n",
              "      <td>95</td>\n",
              "    </tr>\n",
              "    <tr>\n",
              "      <th>d</th>\n",
              "      <td>100</td>\n",
              "      <td>99</td>\n",
              "      <td>98</td>\n",
              "    </tr>\n",
              "  </tbody>\n",
              "</table>\n",
              "</div>"
            ],
            "text/plain": [
              "   Class1  Class2  Class3\n",
              "a      95      91      93\n",
              "b      92      93      91\n",
              "c      98      97      95\n",
              "d     100      99      98"
            ]
          },
          "metadata": {
            "tags": []
          },
          "execution_count": 128
        }
      ]
    },
    {
      "cell_type": "code",
      "metadata": {
        "colab": {
          "base_uri": "https://localhost:8080/",
          "height": 173
        },
        "id": "xnHNIe00yAz7",
        "outputId": "bf149ec5-d392-472a-c7ac-bf97879a0875"
      },
      "source": [
        "#index의 크기가 다른 DataFrame 데이터를 `join()`을 이용해 추가한다면 데이터가 없는 부분은 NaN으로 채워짐\n",
        "df5 = pd.DataFrame({'class4':[82,92]})\n",
        "df1.join(df5)"
      ],
      "execution_count": 130,
      "outputs": [
        {
          "output_type": "execute_result",
          "data": {
            "text/html": [
              "<div>\n",
              "<style scoped>\n",
              "    .dataframe tbody tr th:only-of-type {\n",
              "        vertical-align: middle;\n",
              "    }\n",
              "\n",
              "    .dataframe tbody tr th {\n",
              "        vertical-align: top;\n",
              "    }\n",
              "\n",
              "    .dataframe thead th {\n",
              "        text-align: right;\n",
              "    }\n",
              "</style>\n",
              "<table border=\"1\" class=\"dataframe\">\n",
              "  <thead>\n",
              "    <tr style=\"text-align: right;\">\n",
              "      <th></th>\n",
              "      <th>class1</th>\n",
              "      <th>class2</th>\n",
              "      <th>class4</th>\n",
              "    </tr>\n",
              "  </thead>\n",
              "  <tbody>\n",
              "    <tr>\n",
              "      <th>0</th>\n",
              "      <td>5</td>\n",
              "      <td>91</td>\n",
              "      <td>82.0</td>\n",
              "    </tr>\n",
              "    <tr>\n",
              "      <th>1</th>\n",
              "      <td>92</td>\n",
              "      <td>93</td>\n",
              "      <td>92.0</td>\n",
              "    </tr>\n",
              "    <tr>\n",
              "      <th>2</th>\n",
              "      <td>98</td>\n",
              "      <td>97</td>\n",
              "      <td>NaN</td>\n",
              "    </tr>\n",
              "    <tr>\n",
              "      <th>3</th>\n",
              "      <td>100</td>\n",
              "      <td>99</td>\n",
              "      <td>NaN</td>\n",
              "    </tr>\n",
              "  </tbody>\n",
              "</table>\n",
              "</div>"
            ],
            "text/plain": [
              "   class1  class2  class4\n",
              "0       5      91    82.0\n",
              "1      92      93    92.0\n",
              "2      98      97     NaN\n",
              "3     100      99     NaN"
            ]
          },
          "metadata": {
            "tags": []
          },
          "execution_count": 130
        }
      ]
    },
    {
      "cell_type": "markdown",
      "metadata": {
        "id": "W5fdZOr0yeX0"
      },
      "source": [
        "### 특정 열을 기준으로 통합하기\n",
        "\n",
        "- 두개의 DataFrame 데이터를 특정 열을 기준으로 통합\n",
        "- 특정 열을 키(key)라고함\n",
        "- 두 개의 DataFrame 데이터에 공통된 열이 있다면 이 열을 기준으로 두데이터를 다음과 같은 방법으로 통합\n",
        "- DataFrame_left_data.merge(DataFrame_right_data)\n",
        "- 왼쪽 데이터와 오른쪽 데이터가 공통된 열을 중심으로 좌우로 통합된다."
      ]
    },
    {
      "cell_type": "code",
      "metadata": {
        "id": "UKrgLxUiy_kx"
      },
      "source": [
        "# 두개의 DataFrame 데이터 생성\n",
        "df_A_B = pd.DataFrame({'판매월': ['1월', '2월', '3월', '4월'],\n",
        "                       '제품A': [100, 150, 200, 130],\n",
        "                       '제품B': [90, 110, 140, 170]})\n",
        "df_C_D = pd.DataFrame({'판매월': ['1월', '2월', '3월', '4월'],\n",
        "                       '제품C': [112, 141, 203, 134],\n",
        "                       '제품D': [90, 110, 140, 170]})"
      ],
      "execution_count": 131,
      "outputs": []
    },
    {
      "cell_type": "code",
      "metadata": {
        "colab": {
          "base_uri": "https://localhost:8080/",
          "height": 173
        },
        "id": "lFEMwuizy_8j",
        "outputId": "448693fd-02f7-47bf-f004-b3b55fab1827"
      },
      "source": [
        "#DataFrame 데이터 df_A_B와 df_C_D에 모두 있는 것이 판매월 인 열 데이터이므로 이를 중심으로 두데이터를 통합\n",
        "df_A_B.merge(df_C_D)"
      ],
      "execution_count": 132,
      "outputs": [
        {
          "output_type": "execute_result",
          "data": {
            "text/html": [
              "<div>\n",
              "<style scoped>\n",
              "    .dataframe tbody tr th:only-of-type {\n",
              "        vertical-align: middle;\n",
              "    }\n",
              "\n",
              "    .dataframe tbody tr th {\n",
              "        vertical-align: top;\n",
              "    }\n",
              "\n",
              "    .dataframe thead th {\n",
              "        text-align: right;\n",
              "    }\n",
              "</style>\n",
              "<table border=\"1\" class=\"dataframe\">\n",
              "  <thead>\n",
              "    <tr style=\"text-align: right;\">\n",
              "      <th></th>\n",
              "      <th>판매월</th>\n",
              "      <th>제품A</th>\n",
              "      <th>제품B</th>\n",
              "      <th>제품C</th>\n",
              "      <th>제품D</th>\n",
              "    </tr>\n",
              "  </thead>\n",
              "  <tbody>\n",
              "    <tr>\n",
              "      <th>0</th>\n",
              "      <td>1월</td>\n",
              "      <td>100</td>\n",
              "      <td>90</td>\n",
              "      <td>112</td>\n",
              "      <td>90</td>\n",
              "    </tr>\n",
              "    <tr>\n",
              "      <th>1</th>\n",
              "      <td>2월</td>\n",
              "      <td>150</td>\n",
              "      <td>110</td>\n",
              "      <td>141</td>\n",
              "      <td>110</td>\n",
              "    </tr>\n",
              "    <tr>\n",
              "      <th>2</th>\n",
              "      <td>3월</td>\n",
              "      <td>200</td>\n",
              "      <td>140</td>\n",
              "      <td>203</td>\n",
              "      <td>140</td>\n",
              "    </tr>\n",
              "    <tr>\n",
              "      <th>3</th>\n",
              "      <td>4월</td>\n",
              "      <td>130</td>\n",
              "      <td>170</td>\n",
              "      <td>134</td>\n",
              "      <td>170</td>\n",
              "    </tr>\n",
              "  </tbody>\n",
              "</table>\n",
              "</div>"
            ],
            "text/plain": [
              "  판매월  제품A  제품B  제품C  제품D\n",
              "0  1월  100   90  112   90\n",
              "1  2월  150  110  141  110\n",
              "2  3월  200  140  203  140\n",
              "3  4월  130  170  134  170"
            ]
          },
          "metadata": {
            "tags": []
          },
          "execution_count": 132
        }
      ]
    },
    {
      "cell_type": "markdown",
      "metadata": {
        "id": "Zr1uQNKKzAJt"
      },
      "source": [
        "- 두 데이터가 판매월을 기준으로 통합\n",
        "- 특정 열을 기준으로 두 DataFrame 데이터가 모두 값을 갖고 있을대 특정 열을 기준으로 통합\n",
        "\n",
        "\n",
        "- 두 개의 DataFrame 데이터가 특정 열을 기준으로 일부만 공통된 값을 갖는 경우에 통합\n",
        "- DataFrame_left_data.merge(DataFrame_right_data,how=merge_method, on = key_label)\n",
        "- on 인자에는 통합하려는 기준이 되는 특정열의 라벨 이름을 입력\n",
        "- on 인자를 입력하지 않으면 자동으로 두 데이터에서 공통적으로 포함된 열이 선택\n",
        "- how 인자에는 지정된 특정 열(key)을 기준으로 통합 방법을 지정\n"
      ]
    },
    {
      "cell_type": "code",
      "metadata": {
        "colab": {
          "base_uri": "https://localhost:8080/"
        },
        "id": "aahgGOpwzoJF",
        "outputId": "f354430e-3e2e-47ca-d578-9ebcc7e5f38f"
      },
      "source": [
        "# 두개의 DataFrame 데이터를 생성\n",
        "df_left = pd.DataFrame({'key':['A','B','C'], 'left': [1, 2, 3]})\n",
        "df_right = pd.DataFrame({'key':['A','B','D'], 'right': [4, 5, 6]})\n",
        "\n",
        "#두개의 데이터에서 특정 열의 일부 데이터는 공통으로 있고 나머지는 각각 한쪽에만 있다.\n",
        "print(df_left.merge(df_right, how='left', on = 'key')) #left 기준\n",
        "print('***************************************')\n",
        "print(df_left.merge(df_right, how='right', on = 'key'))# rignt 기준\n",
        "print('***************************************')\n",
        "print(df_left.merge(df_right, how='outer', on = 'key')) # 합집합\n",
        "print('***************************************')\n",
        "print(df_left.merge(df_right, how='inner', on = 'key')) #교집합"
      ],
      "execution_count": 133,
      "outputs": [
        {
          "output_type": "stream",
          "text": [
            "  key  left  right\n",
            "0   A     1    4.0\n",
            "1   B     2    5.0\n",
            "2   C     3    NaN\n",
            "***************************************\n",
            "  key  left  right\n",
            "0   A   1.0      4\n",
            "1   B   2.0      5\n",
            "2   D   NaN      6\n",
            "***************************************\n",
            "  key  left  right\n",
            "0   A   1.0    4.0\n",
            "1   B   2.0    5.0\n",
            "2   C   3.0    NaN\n",
            "3   D   NaN    6.0\n",
            "***************************************\n",
            "  key  left  right\n",
            "0   A     1      4\n",
            "1   B     2      5\n"
          ],
          "name": "stdout"
        }
      ]
    },
    {
      "cell_type": "code",
      "metadata": {
        "colab": {
          "base_uri": "https://localhost:8080/"
        },
        "id": "mGnQZQCfRdYP",
        "outputId": "e6470c01-11bf-4092-fe17-7ddffc26ec93"
      },
      "source": [
        "!cat sea_rain1.csv"
      ],
      "execution_count": 114,
      "outputs": [
        {
          "output_type": "stream",
          "text": [
            "연도,동해,남해,서해,전체\n",
            "1996,17.4629,17.2288,14.436,15.9067\n",
            "1997,17.4116,17.4092,14.8248,16.1526\n",
            "1998,17.5944,18.011,15.2512,16.6044\n",
            "1999,18.1495,18.3175,14.8979,16.6284\n",
            "2000,17.9288,18.1766,15.0504,16.6178"
          ],
          "name": "stdout"
        }
      ]
    },
    {
      "cell_type": "code",
      "metadata": {
        "colab": {
          "base_uri": "https://localhost:8080/",
          "height": 204
        },
        "id": "-BcAyjcJRxEP",
        "outputId": "a193ea04-90e5-4cb1-f023-550e2110d191"
      },
      "source": [
        "import pandas as pd\n",
        "\n",
        "pd.read_csv('sea_rain1.csv')"
      ],
      "execution_count": 115,
      "outputs": [
        {
          "output_type": "execute_result",
          "data": {
            "text/html": [
              "<div>\n",
              "<style scoped>\n",
              "    .dataframe tbody tr th:only-of-type {\n",
              "        vertical-align: middle;\n",
              "    }\n",
              "\n",
              "    .dataframe tbody tr th {\n",
              "        vertical-align: top;\n",
              "    }\n",
              "\n",
              "    .dataframe thead th {\n",
              "        text-align: right;\n",
              "    }\n",
              "</style>\n",
              "<table border=\"1\" class=\"dataframe\">\n",
              "  <thead>\n",
              "    <tr style=\"text-align: right;\">\n",
              "      <th></th>\n",
              "      <th>연도</th>\n",
              "      <th>동해</th>\n",
              "      <th>남해</th>\n",
              "      <th>서해</th>\n",
              "      <th>전체</th>\n",
              "    </tr>\n",
              "  </thead>\n",
              "  <tbody>\n",
              "    <tr>\n",
              "      <th>0</th>\n",
              "      <td>1996</td>\n",
              "      <td>17.4629</td>\n",
              "      <td>17.2288</td>\n",
              "      <td>14.4360</td>\n",
              "      <td>15.9067</td>\n",
              "    </tr>\n",
              "    <tr>\n",
              "      <th>1</th>\n",
              "      <td>1997</td>\n",
              "      <td>17.4116</td>\n",
              "      <td>17.4092</td>\n",
              "      <td>14.8248</td>\n",
              "      <td>16.1526</td>\n",
              "    </tr>\n",
              "    <tr>\n",
              "      <th>2</th>\n",
              "      <td>1998</td>\n",
              "      <td>17.5944</td>\n",
              "      <td>18.0110</td>\n",
              "      <td>15.2512</td>\n",
              "      <td>16.6044</td>\n",
              "    </tr>\n",
              "    <tr>\n",
              "      <th>3</th>\n",
              "      <td>1999</td>\n",
              "      <td>18.1495</td>\n",
              "      <td>18.3175</td>\n",
              "      <td>14.8979</td>\n",
              "      <td>16.6284</td>\n",
              "    </tr>\n",
              "    <tr>\n",
              "      <th>4</th>\n",
              "      <td>2000</td>\n",
              "      <td>17.9288</td>\n",
              "      <td>18.1766</td>\n",
              "      <td>15.0504</td>\n",
              "      <td>16.6178</td>\n",
              "    </tr>\n",
              "  </tbody>\n",
              "</table>\n",
              "</div>"
            ],
            "text/plain": [
              "     연도       동해       남해       서해       전체\n",
              "0  1996  17.4629  17.2288  14.4360  15.9067\n",
              "1  1997  17.4116  17.4092  14.8248  16.1526\n",
              "2  1998  17.5944  18.0110  15.2512  16.6044\n",
              "3  1999  18.1495  18.3175  14.8979  16.6284\n",
              "4  2000  17.9288  18.1766  15.0504  16.6178"
            ]
          },
          "metadata": {
            "tags": []
          },
          "execution_count": 115
        }
      ]
    },
    {
      "cell_type": "code",
      "metadata": {
        "colab": {
          "base_uri": "https://localhost:8080/",
          "height": 204
        },
        "id": "IK4LeNvSR_eR",
        "outputId": "633ac10d-e965-478c-91e3-2298890691e6"
      },
      "source": [
        "#메모장에서 읽어올때 cp949로 인코딩해온다.\n",
        "pd.read_csv('sea_rain1_from_notepad.csv', encoding=\"cp949\")"
      ],
      "execution_count": 117,
      "outputs": [
        {
          "output_type": "execute_result",
          "data": {
            "text/html": [
              "<div>\n",
              "<style scoped>\n",
              "    .dataframe tbody tr th:only-of-type {\n",
              "        vertical-align: middle;\n",
              "    }\n",
              "\n",
              "    .dataframe tbody tr th {\n",
              "        vertical-align: top;\n",
              "    }\n",
              "\n",
              "    .dataframe thead th {\n",
              "        text-align: right;\n",
              "    }\n",
              "</style>\n",
              "<table border=\"1\" class=\"dataframe\">\n",
              "  <thead>\n",
              "    <tr style=\"text-align: right;\">\n",
              "      <th></th>\n",
              "      <th>연도</th>\n",
              "      <th>동해</th>\n",
              "      <th>남해</th>\n",
              "      <th>서해</th>\n",
              "      <th>전체</th>\n",
              "    </tr>\n",
              "  </thead>\n",
              "  <tbody>\n",
              "    <tr>\n",
              "      <th>0</th>\n",
              "      <td>1996</td>\n",
              "      <td>17.4629</td>\n",
              "      <td>17.2288</td>\n",
              "      <td>14.4360</td>\n",
              "      <td>15.9067</td>\n",
              "    </tr>\n",
              "    <tr>\n",
              "      <th>1</th>\n",
              "      <td>1997</td>\n",
              "      <td>17.4116</td>\n",
              "      <td>17.4092</td>\n",
              "      <td>14.8248</td>\n",
              "      <td>16.1526</td>\n",
              "    </tr>\n",
              "    <tr>\n",
              "      <th>2</th>\n",
              "      <td>1998</td>\n",
              "      <td>17.5944</td>\n",
              "      <td>18.0110</td>\n",
              "      <td>15.2512</td>\n",
              "      <td>16.6044</td>\n",
              "    </tr>\n",
              "    <tr>\n",
              "      <th>3</th>\n",
              "      <td>1999</td>\n",
              "      <td>18.1495</td>\n",
              "      <td>18.3175</td>\n",
              "      <td>14.8979</td>\n",
              "      <td>16.6284</td>\n",
              "    </tr>\n",
              "    <tr>\n",
              "      <th>4</th>\n",
              "      <td>2000</td>\n",
              "      <td>17.9288</td>\n",
              "      <td>18.1766</td>\n",
              "      <td>15.0504</td>\n",
              "      <td>16.6178</td>\n",
              "    </tr>\n",
              "  </tbody>\n",
              "</table>\n",
              "</div>"
            ],
            "text/plain": [
              "     연도       동해       남해       서해       전체\n",
              "0  1996  17.4629  17.2288  14.4360  15.9067\n",
              "1  1997  17.4116  17.4092  14.8248  16.1526\n",
              "2  1998  17.5944  18.0110  15.2512  16.6044\n",
              "3  1999  18.1495  18.3175  14.8979  16.6284\n",
              "4  2000  17.9288  18.1766  15.0504  16.6178"
            ]
          },
          "metadata": {
            "tags": []
          },
          "execution_count": 117
        }
      ]
    },
    {
      "cell_type": "markdown",
      "metadata": {
        "id": "qlmE-vp9SM8z"
      },
      "source": [
        "### 표 형식의 데이터를 파일로 쓰기\n",
        "- pandas에서 제공하는 to_csv()를 이용해 DataFrame 형식의 데이터를 텍스트 파일로 저장하는 방법\n",
        "- DataFrame_data.to_csv(file_name[,options])\n",
        "- file_name은 텍스트 파일 이름으로 경로를 포함\n",
        "- 선택사항인 options 에는 구분자와 문자의 인코딩 방식 등을 지정할 수 있는데 지정하지 않으면 구분자는 콤마가 되고 문자의 인코딩 방식은 `utf-8`\n",
        "\n",
        "\n",
        "- DataFrame 데이터를 파일로 저장하기 위해 \n",
        "- 네 명의 몸무게와 키 데이터를 DataFrame형식으로 생성\n",
        "- DataFrame데이터에서 index에 이름을 추가하고 싶으면 `df.index.name=문자열`과 같이 작성"
      ]
    },
    {
      "cell_type": "code",
      "metadata": {
        "colab": {
          "base_uri": "https://localhost:8080/",
          "height": 204
        },
        "id": "LWc3ZvXdTq12",
        "outputId": "ac7fe50d-9920-4d42-bab2-ea63737ace80"
      },
      "source": [
        "df_WH = pd.DataFrame({'Weight':[62,67,55,74],\n",
        "                      'Height': [165,177,160,180]},\n",
        "                     index = ['ID_1', 'ID_2','ID_3','ID_4'])\n",
        "df_WH.index.name = 'Users'\n",
        "df_WH"
      ],
      "execution_count": 118,
      "outputs": [
        {
          "output_type": "execute_result",
          "data": {
            "text/html": [
              "<div>\n",
              "<style scoped>\n",
              "    .dataframe tbody tr th:only-of-type {\n",
              "        vertical-align: middle;\n",
              "    }\n",
              "\n",
              "    .dataframe tbody tr th {\n",
              "        vertical-align: top;\n",
              "    }\n",
              "\n",
              "    .dataframe thead th {\n",
              "        text-align: right;\n",
              "    }\n",
              "</style>\n",
              "<table border=\"1\" class=\"dataframe\">\n",
              "  <thead>\n",
              "    <tr style=\"text-align: right;\">\n",
              "      <th></th>\n",
              "      <th>Weight</th>\n",
              "      <th>Height</th>\n",
              "    </tr>\n",
              "    <tr>\n",
              "      <th>Users</th>\n",
              "      <th></th>\n",
              "      <th></th>\n",
              "    </tr>\n",
              "  </thead>\n",
              "  <tbody>\n",
              "    <tr>\n",
              "      <th>ID_1</th>\n",
              "      <td>62</td>\n",
              "      <td>165</td>\n",
              "    </tr>\n",
              "    <tr>\n",
              "      <th>ID_2</th>\n",
              "      <td>67</td>\n",
              "      <td>177</td>\n",
              "    </tr>\n",
              "    <tr>\n",
              "      <th>ID_3</th>\n",
              "      <td>55</td>\n",
              "      <td>160</td>\n",
              "    </tr>\n",
              "    <tr>\n",
              "      <th>ID_4</th>\n",
              "      <td>74</td>\n",
              "      <td>180</td>\n",
              "    </tr>\n",
              "  </tbody>\n",
              "</table>\n",
              "</div>"
            ],
            "text/plain": [
              "       Weight  Height\n",
              "Users                \n",
              "ID_1       62     165\n",
              "ID_2       67     177\n",
              "ID_3       55     160\n",
              "ID_4       74     180"
            ]
          },
          "metadata": {
            "tags": []
          },
          "execution_count": 118
        }
      ]
    },
    {
      "cell_type": "markdown",
      "metadata": {
        "id": "G0URqR60UIhk"
      },
      "source": [
        "- 파일로 저장하기 전에 몸무게와 키를 이용해 체질량 지수(BMI)를 구해서 dtWH에 추가 \n",
        "- df_WH의 몸무게와 키 데이터를 이용해 체질량 지수를 구함\n"
      ]
    },
    {
      "cell_type": "code",
      "metadata": {
        "colab": {
          "base_uri": "https://localhost:8080/",
          "height": 204
        },
        "id": "yWlhJau-UYxM",
        "outputId": "98b96c1d-fa87-48e6-df31-c1c70e3f522f"
      },
      "source": [
        "#- 키의 경우 입력한 데이터는 cm단위여서 m단위로 변경하기 위해 100으로나눔\n",
        "bmi = df_WH['Weight']/(df_WH['Height']/100)**2\n",
        "# DataFrame에 새로운 열 데이터를 추가\n",
        "df_WH['BMI'] = bmi\n",
        "df_WH"
      ],
      "execution_count": 119,
      "outputs": [
        {
          "output_type": "execute_result",
          "data": {
            "text/html": [
              "<div>\n",
              "<style scoped>\n",
              "    .dataframe tbody tr th:only-of-type {\n",
              "        vertical-align: middle;\n",
              "    }\n",
              "\n",
              "    .dataframe tbody tr th {\n",
              "        vertical-align: top;\n",
              "    }\n",
              "\n",
              "    .dataframe thead th {\n",
              "        text-align: right;\n",
              "    }\n",
              "</style>\n",
              "<table border=\"1\" class=\"dataframe\">\n",
              "  <thead>\n",
              "    <tr style=\"text-align: right;\">\n",
              "      <th></th>\n",
              "      <th>Weight</th>\n",
              "      <th>Height</th>\n",
              "      <th>BMI</th>\n",
              "    </tr>\n",
              "    <tr>\n",
              "      <th>Users</th>\n",
              "      <th></th>\n",
              "      <th></th>\n",
              "      <th></th>\n",
              "    </tr>\n",
              "  </thead>\n",
              "  <tbody>\n",
              "    <tr>\n",
              "      <th>ID_1</th>\n",
              "      <td>62</td>\n",
              "      <td>165</td>\n",
              "      <td>22.773186</td>\n",
              "    </tr>\n",
              "    <tr>\n",
              "      <th>ID_2</th>\n",
              "      <td>67</td>\n",
              "      <td>177</td>\n",
              "      <td>21.385936</td>\n",
              "    </tr>\n",
              "    <tr>\n",
              "      <th>ID_3</th>\n",
              "      <td>55</td>\n",
              "      <td>160</td>\n",
              "      <td>21.484375</td>\n",
              "    </tr>\n",
              "    <tr>\n",
              "      <th>ID_4</th>\n",
              "      <td>74</td>\n",
              "      <td>180</td>\n",
              "      <td>22.839506</td>\n",
              "    </tr>\n",
              "  </tbody>\n",
              "</table>\n",
              "</div>"
            ],
            "text/plain": [
              "       Weight  Height        BMI\n",
              "Users                           \n",
              "ID_1       62     165  22.773186\n",
              "ID_2       67     177  21.385936\n",
              "ID_3       55     160  21.484375\n",
              "ID_4       74     180  22.839506"
            ]
          },
          "metadata": {
            "tags": []
          },
          "execution_count": 119
        }
      ]
    },
    {
      "cell_type": "code",
      "metadata": {
        "id": "HnNIbUEBUyXC"
      },
      "source": [
        "# DataFrame 데이터 df_WH를 csv 파일로 저장\n",
        "df_WH.to_csv('save_DataFrame.csv')"
      ],
      "execution_count": 120,
      "outputs": []
    },
    {
      "cell_type": "code",
      "metadata": {
        "colab": {
          "base_uri": "https://localhost:8080/"
        },
        "id": "vxGE8Bc3VIi3",
        "outputId": "178e79ed-daa4-427a-bf7a-e91c66586225"
      },
      "source": [
        "!cat save_DataFrame.csv"
      ],
      "execution_count": 121,
      "outputs": [
        {
          "output_type": "stream",
          "text": [
            "Users,Weight,Height,BMI\n",
            "ID_1,62,165,22.77318640955005\n",
            "ID_2,67,177,21.38593635289987\n",
            "ID_3,55,160,21.484374999999996\n",
            "ID_4,74,180,22.839506172839506\n"
          ],
          "name": "stdout"
        }
      ]
    },
    {
      "cell_type": "code",
      "metadata": {
        "colab": {
          "base_uri": "https://localhost:8080/",
          "height": 204
        },
        "id": "ZeKM4gMAVK28",
        "outputId": "b6e25837-232b-40b1-d642-e96f6c0deff0"
      },
      "source": [
        "#DataFrame 데이터를 파일로 저장할 때 옵션을 지정하는 예제\n",
        "df_pr = pd.DataFrame({'판매가격': [2000,3000,5000,10000],\n",
        "                      '판매량': [32,53,40,25]},\n",
        "                     index =['P1001','P1002','P1003','P1004'])\n",
        "df_pr.index.name = '제품번호'\n",
        "df_pr"
      ],
      "execution_count": 124,
      "outputs": [
        {
          "output_type": "execute_result",
          "data": {
            "text/html": [
              "<div>\n",
              "<style scoped>\n",
              "    .dataframe tbody tr th:only-of-type {\n",
              "        vertical-align: middle;\n",
              "    }\n",
              "\n",
              "    .dataframe tbody tr th {\n",
              "        vertical-align: top;\n",
              "    }\n",
              "\n",
              "    .dataframe thead th {\n",
              "        text-align: right;\n",
              "    }\n",
              "</style>\n",
              "<table border=\"1\" class=\"dataframe\">\n",
              "  <thead>\n",
              "    <tr style=\"text-align: right;\">\n",
              "      <th></th>\n",
              "      <th>판매가격</th>\n",
              "      <th>판매량</th>\n",
              "    </tr>\n",
              "    <tr>\n",
              "      <th>제품번호</th>\n",
              "      <th></th>\n",
              "      <th></th>\n",
              "    </tr>\n",
              "  </thead>\n",
              "  <tbody>\n",
              "    <tr>\n",
              "      <th>P1001</th>\n",
              "      <td>2000</td>\n",
              "      <td>32</td>\n",
              "    </tr>\n",
              "    <tr>\n",
              "      <th>P1002</th>\n",
              "      <td>3000</td>\n",
              "      <td>53</td>\n",
              "    </tr>\n",
              "    <tr>\n",
              "      <th>P1003</th>\n",
              "      <td>5000</td>\n",
              "      <td>40</td>\n",
              "    </tr>\n",
              "    <tr>\n",
              "      <th>P1004</th>\n",
              "      <td>10000</td>\n",
              "      <td>25</td>\n",
              "    </tr>\n",
              "  </tbody>\n",
              "</table>\n",
              "</div>"
            ],
            "text/plain": [
              "        판매가격  판매량\n",
              "제품번호             \n",
              "P1001   2000   32\n",
              "P1002   3000   53\n",
              "P1003   5000   40\n",
              "P1004  10000   25"
            ]
          },
          "metadata": {
            "tags": []
          },
          "execution_count": 124
        }
      ]
    },
    {
      "cell_type": "code",
      "metadata": {
        "id": "1Y34ylD7VqT1"
      },
      "source": [
        "# DataFrame 데이터 df_pr을 텍스트 파일로 저장\n",
        "file_name = 'save_DataFrame_cp949.txt'\n",
        "df_pr.to_csv(file_name, sep = \" \",encoding = 'cp949')"
      ],
      "execution_count": 125,
      "outputs": []
    },
    {
      "cell_type": "code",
      "metadata": {
        "colab": {
          "base_uri": "https://localhost:8080/"
        },
        "id": "Qt0hpU7EWIqg",
        "outputId": "b466cd95-71e3-4caa-a0d3-d800e6e4b77e"
      },
      "source": [
        "#저장된 파일을 확인\n",
        "!cat save_DataFrame_cp949.txt"
      ],
      "execution_count": 127,
      "outputs": [
        {
          "output_type": "stream",
          "text": [
            "��ǰ��ȣ �ǸŰ��� �Ǹŷ�\n",
            "P1001 2000 32\n",
            "P1002 3000 53\n",
            "P1003 5000 40\n",
            "P1004 10000 25\n"
          ],
          "name": "stdout"
        }
      ]
    },
    {
      "cell_type": "markdown",
      "metadata": {
        "id": "y8r2EPj3WOIa"
      },
      "source": [
        "## 11.3 정리\n",
        "- 데이터 분석에 아주 유용하게 활용할 수 있는 NumPy와 pandas\n",
        "- 파이썬 프로그램을 작성할 때는 파이썬의 기본 기능과 외부 패키지나 라이브러리를 함게이용\n",
        "- python Package Index 홈페이지(https://pypi.org)"
      ]
    }
  ]
}