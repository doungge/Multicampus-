{
 "cells": [
  {
   "cell_type": "markdown",
   "metadata": {},
   "source": [
    "## 목표 : 유튜브 랭킹 Site\n",
    "\n",
    " - 수집 : (카테고리별, 구독자수, 채널명, 비디오수)\n",
    " - 데이터 처리 : DF(구독자 수별, 카테고리별)\n",
    " - 저장 : 엑셀로저장\n",
    " - 시각화 : 유튜브 랭킹 데이터 pie() 함수를 사용 \n",
    "     - 엑셀에서 데이터 불러오기\n",
    "     - 카테고리별 구독자수, 채널수"
   ]
  },
  {
   "cell_type": "code",
   "execution_count": 2,
   "metadata": {},
   "outputs": [
    {
     "name": "stdout",
     "output_type": "stream",
     "text": [
      "102\n",
      "<tr>\n",
      "<th class=\"rank\"><a href=\"/board/bbs/board.php?bo_table=youtube&amp;sop=and&amp;sst=rank&amp;sod=desc&amp;sfl=&amp;stx=&amp;sca=&amp;page=1\">순위 <i aria-hidden=\"true\" class=\"fa fa-sort\"></i></a></th>\n",
      "<th class=\"td_img\">이미지</th>\n",
      "<th class=\"subject\">제목</th>\n",
      "<th class=\"subscriber_cnt\"><a href=\"/board/bbs/board.php?bo_table=youtube&amp;sop=and&amp;sst=subscriber_cnt&amp;sod=desc&amp;sfl=&amp;stx=&amp;sca=&amp;page=1\">구독자순 <i aria-hidden=\"true\" class=\"fa fa-sort\"></i></a></th>\n",
      "<th class=\"view_cnt\"><a href=\"/board/bbs/board.php?bo_table=youtube&amp;sop=and&amp;sst=view_cnt&amp;sod=desc&amp;sfl=&amp;stx=&amp;sca=&amp;page=1\">View순 <i aria-hidden=\"true\" class=\"fa fa-sort\"></i></a></th>\n",
      "<th class=\"video_cnt\"><a href=\"/board/bbs/board.php?bo_table=youtube&amp;sop=and&amp;sst=video_cnt&amp;sod=desc&amp;sfl=&amp;stx=&amp;sca=&amp;page=1\">Video순 <i aria-hidden=\"true\" class=\"fa fa-sort\"></i></a></th>\n",
      "<th class=\"hit\"><a href=\"/board/bbs/board.php?bo_table=youtube&amp;sop=and&amp;sst=wr_hit&amp;sod=desc&amp;sfl=&amp;stx=&amp;sca=&amp;page=1\">조회수 <i aria-hidden=\"true\" class=\"fa fa-sort\"></i></a></th>\n",
      "</tr>\n"
     ]
    }
   ],
   "source": [
    "from selenium import webdriver\n",
    "from bs4 import BeautifulSoup\n",
    "import time\n",
    "import pandas as pd\n",
    "\n",
    "browser = webdriver.Chrome('C:/myexam/chromedrive/chromedriver.exe')\n",
    "url = 'https://youtube-rank.com/board/bbs/board.php?bo_table=youtube'\n",
    "browser.get(url)\n",
    "\n",
    "#페이지 정보 가져오기\n",
    "html = browser.page_source\n",
    "soup = BeautifulSoup(html, 'html.parser')\n",
    "\n",
    "#beautifulSoup로 tr태크 추출하기\n",
    "\n",
    "channel_list = soup.select('tr')\n",
    "print(len(channel_list))\n",
    "print(channel_list[0])"
   ]
  },
  {
   "cell_type": "code",
   "execution_count": 5,
   "metadata": {},
   "outputs": [
    {
     "name": "stdout",
     "output_type": "stream",
     "text": [
      "100\n"
     ]
    }
   ],
   "source": [
    "# tr 태크 확인하기\n",
    "channel_list = soup.select('form > table > tbody > tr')\n",
    "print(len(channel_list))"
   ]
  },
  {
   "cell_type": "code",
   "execution_count": 7,
   "metadata": {},
   "outputs": [
    {
     "name": "stdout",
     "output_type": "stream",
     "text": [
      "<tr class=\"aos-init aos-animate\" data-aos=\"fade-up\" data-aos-duration=\"800\">\n",
      "<td class=\"rank\">\n",
      "                        1                    </td>\n",
      "<td class=\"td_img\">\n",
      "<div class=\"info_img\"><a href=\"https://youtube-rank.com/board/bbs/board.php?bo_table=youtube&amp;wr_id=3203\"><img class=\"lazyload\" data-src=\"https://yt3.ggpht.com/ytc/AKedOLTat8_vr7h2i29n67lvNLMp1F-9Ch2ejFRlRzt0zQ=s88-c-k-c0x00ffffff-no-rj-mo\" height=\"88\" src=\"https://yt3.ggpht.com/ytc/AKedOLTat8_vr7h2i29n67lvNLMp1F-9Ch2ejFRlRzt0zQ=s88-c-k-c0x00ffffff-no-rj-mo\" width=\"88\"/></a></div>\n",
      "<p class=\"info_rank\">1</p>\n",
      "</td>\n",
      "<td class=\"subject\">\n",
      "<h1>\n",
      "<p <a=\"\" class=\"category\" href=\"https://youtube-rank.com/board/bbs/board.php?bo_table=youtube&amp;sca=%EC%9D%8C%EC%95%85%2F%EB%8C%84%EC%8A%A4%2F%EA%B0%80%EC%88%98\">[음악/댄스/가수]\n",
      "                                \n",
      "                                </p>\n",
      "<a href=\"https://youtube-rank.com/board/bbs/board.php?bo_table=youtube&amp;wr_id=3203\">\n",
      "\t\t\t\t\t\t\t\t\n",
      "\t\t\t\t\t\t\t\tBLACKPINK\t\t\t\t\t\t\t</a>\n",
      "<span>\n",
      "<i class=\"fa fa-comment\"></i>\n",
      "\t\t\t\t\t\t\t\t1\t\t\t\t\t\t\t</span>\n",
      "<i aria-hidden=\"true\" class=\"fa fa-heart\"></i> </h1>\n",
      "<h2><span><a href=\"https://youtube-rank.com/board/bbs/board.php?bo_table=youtube&amp;wr_id=3203\">\"YG Entertainment\" YG 와이지 K-pop BLACKPINK 블랙핑크 블핑 제니 로제 리사 지수 Lisa Jisoo Jennie ...</a></span></h2>\n",
      "<h3>\n",
      "<i class=\"fa fa-user\"></i>\n",
      "                            6410만<i class=\"fa fa-play\"></i>190억1809만                            <i class=\"fa fa-video-camera\"></i>\n",
      "                            371                            <i class=\"fa fa-eye\"></i>\n",
      "                            14,595                        </h3>\n",
      "</td>\n",
      "<td class=\"subscriber_cnt\">6410만</td>\n",
      "<td class=\"view_cnt\">190억1809만</td>\n",
      "<td class=\"video_cnt\">371개</td>\n",
      "<td class=\"hit\">\n",
      "<strong>14,595</strong>\n",
      "<span>HIT</span>\n",
      "</td>\n",
      "</tr>\n"
     ]
    }
   ],
   "source": [
    "channel = channel_list[0]\n",
    "print(channel)"
   ]
  },
  {
   "cell_type": "code",
   "execution_count": 10,
   "metadata": {},
   "outputs": [
    {
     "name": "stdout",
     "output_type": "stream",
     "text": [
      "[음악/댄스/가수]\n"
     ]
    }
   ],
   "source": [
    "#카테고리 가져오기\n",
    "category = channel.select('p.category')[0].text.strip()\n",
    "print(category)"
   ]
  },
  {
   "cell_type": "code",
   "execution_count": 11,
   "metadata": {},
   "outputs": [
    {
     "name": "stdout",
     "output_type": "stream",
     "text": [
      "BLACKPINK\n"
     ]
    }
   ],
   "source": [
    "#채널명\n",
    "title = channel.select('h1 > a')[0].text.strip()\n",
    "print(title)"
   ]
  },
  {
   "cell_type": "code",
   "execution_count": 17,
   "metadata": {},
   "outputs": [
    {
     "name": "stdout",
     "output_type": "stream",
     "text": [
      "6410만\n",
      "190억1809만\n",
      "371개\n"
     ]
    }
   ],
   "source": [
    "# 구독자 수 , View 수, 동영상 수 추출하기\n",
    "subscribe = channel.select('td.subscriber_cnt')[0].text\n",
    "view = channel.select('td.view_cnt')[0].text\n",
    "video = channel.select('td.video_cnt')[0].text\n",
    "\n",
    "print(subscribe)\n",
    "print(view)\n",
    "print(video)"
   ]
  },
  {
   "cell_type": "code",
   "execution_count": 18,
   "metadata": {},
   "outputs": [
    {
     "name": "stdout",
     "output_type": "stream",
     "text": [
      "BLACKPINK [음악/댄스/가수] 190억1809만 371개\n",
      "HYBE LABELS [음악/댄스/가수] 187억5681만 655개\n",
      "BANGTANTV [음악/댄스/가수] 122억1297만 1,580개\n",
      "SMTOWN [음악/댄스/가수] 219억1233만 3,729개\n",
      "Boram Tube Vlog [보람튜브 브이로그] [키즈/어린이] 110억5288만 223개\n",
      "1MILLION Dance Studio [음악/댄스/가수] 66억9899만 2,909개\n",
      "1theK (원더케이) [음악/댄스/가수] 206억1414만 14,992개\n",
      "JYP Entertainment [음악/댄스/가수] 137억4230만 1,330개\n",
      "Coldplay [미분류] 127억7603만 280개\n",
      "Mnet K-POP [음악/댄스/가수] 129억7041만 25,462개\n",
      "JFlaMusic [음악/댄스/가수] 34억2183만 279개\n",
      "KBS WORLD TV [TV/방송] 123억6867만 52,401개\n",
      "officialpsy [음악/댄스/가수] 86억2675만 90개\n",
      "Jane ASMR 제인 [음식/요리/레시피] 49억2091만 1,191개\n",
      "BIGBANG [음악/댄스/가수] 66억7998만 773개\n",
      "TWICE [음악/댄스/가수] 22억0692만 592개\n",
      "Nao FunFun [키즈/어린이] 389만 34개\n",
      "Stone Music Entertainment [음악/댄스/가수] 78억6926만 7,930개\n",
      "DuDuPopTOY [키즈/어린이] 43억7356만 1,747개\n",
      "Hongyu ASMR 홍유 [음식/요리/레시피] 26억9793만 386개\n",
      "핑크퐁 (인기 동요・동화) [키즈/어린이] 57억1502만 2,228개\n",
      "MBCkpop [TV/방송] 73억6619만 40,660개\n",
      "서은이야기[SeoeunStory] [키즈/어린이] 39억9835만 1,002개\n",
      "Larva TUBA [키즈/어린이] 40억5236만 2,878개\n",
      "Toymong tv 토이몽TV [키즈/어린이] 38억2556만 1,834개\n",
      "The Late Show with Stephen Colbert [미분류] 78억3313만 8,358개\n",
      "MBCentertainment [뉴스/정치/사회] 143억2995만 85,433개\n",
      "Mnet Official [음악/댄스/가수] 90억6521만 18,130개\n",
      "iKON [음악/댄스/가수] 20억9231만 468개\n",
      "EXO [음악/댄스/가수] 4억6530만 201개\n",
      "WIRED [미분류] 26억1278만 3,222개\n",
      "Nintendo [미분류] 27억2792만 5,144개\n",
      "BBC Radio 1 [미분류] 31억9462만 4,414개\n",
      "M2 [TV/방송] 55억3487만 14,282개\n",
      "MariAndKids [키즈/어린이] 22억8884만 808개\n",
      "[햄지]Hamzy [음식/요리/레시피] 21억5223만 331개\n",
      "TOMORROW X TOGETHER OFFICIAL [음악/댄스/가수] 4억4513만 743개\n",
      "SonicToy소닉토이 [키즈/어린이] 29억3478만 164개\n",
      "Stray Kids [음악/댄스/가수] 10억1216만 464개\n",
      "Travel Thirsty [음식/요리/레시피] 28억9776만 676개\n",
      "JTBC Entertainment [뉴스/정치/사회] 97억3042만 64,028개\n",
      "Serie A [해외] 23억8736만 20,486개\n",
      "SEVENTEEN [음악/댄스/가수] 21억2033만 871개\n",
      "Sungha Jung [음악/댄스/가수] 18억7139만 1,263개\n",
      "이지금 [IU Official] [음악/댄스/가수] 9억2940만 125개\n",
      "문복희 Eat with Boki [음식/요리/레시피] 14억4812만 424개\n",
      "ALL THE K-POP [음악/댄스/가수] 38억8505만 19,505개\n",
      "쏘영 Ssoyoung [음식/요리/레시피] 9억3690만 568개\n",
      "YG ENTERTAINMENT [음악/댄스/가수] 16억3182만 389개\n",
      "KBS Kpop [TV/방송] 47억2150만 29,019개\n",
      "GOT7 [음악/댄스/가수] 7억5464만 579개\n",
      "MAMAMOO [음악/댄스/가수] 16억1545만 601개\n",
      "PONY Syndrome [패션/미용] 3억5479만 188개\n",
      "스브스케이팝 / SBS KPOP [TV/방송] 38억6510만 25,852개\n",
      "Samsung [회사/오피셜] 10억1211만 1,554개\n",
      "tvN DRAMA [TV/방송] 55억0344만 34,935개\n",
      "SBS Entertainment [TV/방송] 66억7774만 216,786개\n",
      "스위트티비 SweetTV [키즈/어린이] 26억5552만 503개\n",
      "ITZY [음악/댄스/가수] 9억6245만 423개\n",
      "PSG - Paris Saint-Germain [미분류] 5억7302만 4,069개\n",
      "SBS Drama [TV/방송] 57억5775만 340,880개\n",
      "[장난감티비]TOYTV [키즈/어린이] 26억3597만 1,466개\n",
      "미니특공대TV [키즈/어린이] 30억2287만 1,107개\n",
      "2NE1 [음악/댄스/가수] 19억4756만 321개\n",
      "콩순이 • 시크릿 쥬쥬 [Kongsuni • Secret Jouju] [키즈/어린이] 44억8442만 1,237개\n",
      "[Awesome Haeun]어썸하은 [BJ/인물/연예인] 7억9772만 487개\n",
      "백종원의 요리비책 Paik's Cuisine [음식/요리/레시피] 5억2403만 335개\n",
      "ToyMart TV [키즈/어린이] 21억4853만 651개\n",
      "야미보이 Yummyboy [음식/요리/레시피] 17억2245만 849개\n",
      "starshipTV [음악/댄스/가수] 27억7047만 1,960개\n",
      "베이비버스 -인기 동요・동화 [키즈/어린이] 31억6887만 1,282개\n",
      "BT21 [음악/댄스/가수] 3억6311만 193개\n",
      "SBS NOW / SBS 공식 채널 [뉴스/정치/사회] 45억4123만 19,861개\n",
      "TOY GUMA [키즈/어린이] 15억1643만 306개\n",
      "KBS Entertain [TV/방송] 70억6117만 99,977개\n",
      "떵개떵 [음식/요리/레시피] 25억0821만 4,333개\n",
      "ASTRO 아스트로 [음악/댄스/가수] 4억1311만 434개\n",
      "Red Velvet [음악/댄스/가수] 5억9464만 140개\n",
      "뽀로로(Pororo) [키즈/어린이] 58억7787만 3,597개\n",
      "MBCdrama [TV/방송] 49억0330만 53,974개\n",
      "하루한끼 one meal a day [음식/요리/레시피] 4억1059만 162개\n",
      "TREASURE (트레저) [음악/댄스/가수] 8억2923만 253개\n",
      "푸메Fume [음식/요리/레시피] 8억5891만 464개\n",
      "슈슈토이 Shushu ToysReview [키즈/어린이] 15억5498만 581개\n",
      "채널 NCT DAILY [TV/방송] 7억2412만 467개\n",
      "Raon Lee [음악/댄스/가수] 9억1695만 295개\n",
      "EA SPORTS FIFA [미분류] 7억9367만 792개\n",
      "With Kids Playground [위드키즈 놀이터] [키즈/어린이] 15억7093만 399개\n",
      "Cooking tree 쿠킹트리 [음식/요리/레시피] 3억7895만 1,134개\n",
      "[Dorothy]도로시 [음식/요리/레시피] 9억8684만 905개\n",
      "JTBC Drama [TV/방송] 42억1267만 22,563개\n",
      "SBS TV동물농장x애니멀봐 [애완/반려동물] 37억4911만 3,002개\n",
      "tzuyang쯔양 [음식/요리/레시피] 5억1113만 237개\n",
      "NCT [음악/댄스/가수] 2억7111만 219개\n",
      "영국남자 Korean Englishman [BJ/인물/연예인] 13억3708만 432개\n",
      "까니짱 [ G-NI ] [음식/요리/레시피] 10억3471만 482개\n",
      "로미유 스토리[Romiyu Story] [키즈/어린이] 10억6656만 433개\n",
      "NCT DREAM [음악/댄스/가수] 3억7615만 229개\n",
      "JaeYeol ASMR 재열 [취미/라이프] 10억1679만 971개\n",
      "허팝Heopop [BJ/인물/연예인] 31억4525만 1,850개\n"
     ]
    },
    {
     "ename": "IndexError",
     "evalue": "list index out of range",
     "output_type": "error",
     "traceback": [
      "\u001b[1;31m---------------------------------------------------------------------------\u001b[0m",
      "\u001b[1;31mIndexError\u001b[0m                                Traceback (most recent call last)",
      "\u001b[1;32m<ipython-input-18-6258a8377df1>\u001b[0m in \u001b[0;36m<module>\u001b[1;34m\u001b[0m\n\u001b[0;32m      1\u001b[0m \u001b[0mchannel_list\u001b[0m \u001b[1;33m=\u001b[0m \u001b[0msoup\u001b[0m\u001b[1;33m.\u001b[0m\u001b[0mselect\u001b[0m\u001b[1;33m(\u001b[0m\u001b[1;34m'tbody>tr'\u001b[0m\u001b[1;33m)\u001b[0m\u001b[1;33m\u001b[0m\u001b[1;33m\u001b[0m\u001b[0m\n\u001b[0;32m      2\u001b[0m \u001b[1;32mfor\u001b[0m \u001b[0mchannel\u001b[0m \u001b[1;32min\u001b[0m \u001b[0mchannel_list\u001b[0m\u001b[1;33m:\u001b[0m\u001b[1;33m\u001b[0m\u001b[1;33m\u001b[0m\u001b[0m\n\u001b[1;32m----> 3\u001b[1;33m     \u001b[0mtitle\u001b[0m \u001b[1;33m=\u001b[0m \u001b[0mchannel\u001b[0m\u001b[1;33m.\u001b[0m\u001b[0mselect\u001b[0m\u001b[1;33m(\u001b[0m\u001b[1;34m'h1 > a'\u001b[0m\u001b[1;33m)\u001b[0m\u001b[1;33m[\u001b[0m\u001b[1;36m0\u001b[0m\u001b[1;33m]\u001b[0m\u001b[1;33m.\u001b[0m\u001b[0mtext\u001b[0m\u001b[1;33m.\u001b[0m\u001b[0mstrip\u001b[0m\u001b[1;33m(\u001b[0m\u001b[1;33m)\u001b[0m\u001b[1;33m\u001b[0m\u001b[1;33m\u001b[0m\u001b[0m\n\u001b[0m\u001b[0;32m      4\u001b[0m     \u001b[0mcategory\u001b[0m \u001b[1;33m=\u001b[0m \u001b[0mchannel\u001b[0m\u001b[1;33m.\u001b[0m\u001b[0mselect\u001b[0m\u001b[1;33m(\u001b[0m\u001b[1;34m'p.category'\u001b[0m\u001b[1;33m)\u001b[0m\u001b[1;33m[\u001b[0m\u001b[1;36m0\u001b[0m\u001b[1;33m]\u001b[0m\u001b[1;33m.\u001b[0m\u001b[0mtext\u001b[0m\u001b[1;33m.\u001b[0m\u001b[0mstrip\u001b[0m\u001b[1;33m(\u001b[0m\u001b[1;33m)\u001b[0m\u001b[1;33m\u001b[0m\u001b[1;33m\u001b[0m\u001b[0m\n\u001b[0;32m      5\u001b[0m     \u001b[0msubscribe\u001b[0m \u001b[1;33m=\u001b[0m \u001b[0mchannel\u001b[0m\u001b[1;33m.\u001b[0m\u001b[0mselect\u001b[0m\u001b[1;33m(\u001b[0m\u001b[1;34m'td.subscriber_cnt'\u001b[0m\u001b[1;33m)\u001b[0m\u001b[1;33m[\u001b[0m\u001b[1;36m0\u001b[0m\u001b[1;33m]\u001b[0m\u001b[1;33m.\u001b[0m\u001b[0mtext\u001b[0m\u001b[1;33m\u001b[0m\u001b[1;33m\u001b[0m\u001b[0m\n",
      "\u001b[1;31mIndexError\u001b[0m: list index out of range"
     ]
    }
   ],
   "source": [
    "channel_list = soup.select('tbody>tr')\n",
    "for channel in channel_list:\n",
    "    title = channel.select('h1 > a')[0].text.strip()\n",
    "    category = channel.select('p.category')[0].text.strip()\n",
    "    subscribe = channel.select('td.subscriber_cnt')[0].text\n",
    "    view = channel.select('td.view_cnt')[0].text\n",
    "    video = channel.select('td.video_cnt')[0].text\n",
    "    print(title, category, view, video)\n"
   ]
  },
  {
   "cell_type": "code",
   "execution_count": 19,
   "metadata": {},
   "outputs": [
    {
     "name": "stdout",
     "output_type": "stream",
     "text": [
      "https://youtube-rank.com/board/bbs/board.php?bo_table=youtube&page=1\n"
     ]
    }
   ],
   "source": [
    "#페이지별 URL 만들기\n",
    "page = 1\n",
    "url = 'https://youtube-rank.com/board/bbs/board.php?bo_table=youtube&page={}'.format(page)\n",
    "print(url)\n"
   ]
  },
  {
   "cell_type": "code",
   "execution_count": 20,
   "metadata": {},
   "outputs": [],
   "source": [
    "results =[]\n",
    "for page in range(1,11):\n",
    "    url ='https://youtube-rank.com/board/bbs/board.php?bo_table=youtube&page={page}'\n",
    "    browser.get(url)\n",
    "    time.sleep(2)\n",
    "    html = browser.page_source\n",
    "    soup = BeautifulSoup(html, 'html.parser')\n",
    "    channel_list = soup.select('form > table > tbody > tr')\n",
    "    for channel in channel_list:\n",
    "        title = channel.select('h1 > a')[0].text.strip()\n",
    "        category = channel.select('p.category')[0].text.strip()\n",
    "        subscribe = channel.select('td.subscriber_cnt')[0].text\n",
    "        view = channel.select('td.view_cnt')[0].text\n",
    "        video = channel.select('td.video_cnt')[0].text\n",
    "        data = [title, category, subscribe, view, video]\n",
    "        results.append(data)\n",
    "        "
   ]
  },
  {
   "cell_type": "code",
   "execution_count": 26,
   "metadata": {},
   "outputs": [
    {
     "data": {
      "text/html": [
       "<div>\n",
       "<style scoped>\n",
       "    .dataframe tbody tr th:only-of-type {\n",
       "        vertical-align: middle;\n",
       "    }\n",
       "\n",
       "    .dataframe tbody tr th {\n",
       "        vertical-align: top;\n",
       "    }\n",
       "\n",
       "    .dataframe thead th {\n",
       "        text-align: right;\n",
       "    }\n",
       "</style>\n",
       "<table border=\"1\" class=\"dataframe\">\n",
       "  <thead>\n",
       "    <tr style=\"text-align: right;\">\n",
       "      <th></th>\n",
       "      <th>타이틀</th>\n",
       "      <th>분류</th>\n",
       "      <th>구독자수</th>\n",
       "      <th>재생 수</th>\n",
       "      <th>동영상 수</th>\n",
       "    </tr>\n",
       "  </thead>\n",
       "  <tbody>\n",
       "    <tr>\n",
       "      <th>0</th>\n",
       "      <td>BLACKPINK</td>\n",
       "      <td>[음악/댄스/가수]</td>\n",
       "      <td>6410만</td>\n",
       "      <td>190억1809만</td>\n",
       "      <td>371개</td>\n",
       "    </tr>\n",
       "    <tr>\n",
       "      <th>1</th>\n",
       "      <td>HYBE LABELS</td>\n",
       "      <td>[음악/댄스/가수]</td>\n",
       "      <td>6040만</td>\n",
       "      <td>187억5681만</td>\n",
       "      <td>655개</td>\n",
       "    </tr>\n",
       "    <tr>\n",
       "      <th>2</th>\n",
       "      <td>BANGTANTV</td>\n",
       "      <td>[음악/댄스/가수]</td>\n",
       "      <td>5650만</td>\n",
       "      <td>122억1297만</td>\n",
       "      <td>1,580개</td>\n",
       "    </tr>\n",
       "    <tr>\n",
       "      <th>3</th>\n",
       "      <td>SMTOWN</td>\n",
       "      <td>[음악/댄스/가수]</td>\n",
       "      <td>2850만</td>\n",
       "      <td>219억1233만</td>\n",
       "      <td>3,729개</td>\n",
       "    </tr>\n",
       "    <tr>\n",
       "      <th>4</th>\n",
       "      <td>Boram Tube Vlog [보람튜브 브이로그]</td>\n",
       "      <td>[키즈/어린이]</td>\n",
       "      <td>2650만</td>\n",
       "      <td>110억5288만</td>\n",
       "      <td>223개</td>\n",
       "    </tr>\n",
       "  </tbody>\n",
       "</table>\n",
       "</div>"
      ],
      "text/plain": [
       "                           타이틀          분류   구독자수       재생 수   동영상 수\n",
       "0                    BLACKPINK  [음악/댄스/가수]  6410만  190억1809만    371개\n",
       "1                  HYBE LABELS  [음악/댄스/가수]  6040만  187억5681만    655개\n",
       "2                    BANGTANTV  [음악/댄스/가수]  5650만  122억1297만  1,580개\n",
       "3                       SMTOWN  [음악/댄스/가수]  2850만  219억1233만  3,729개\n",
       "4  Boram Tube Vlog [보람튜브 브이로그]    [키즈/어린이]  2650만  110억5288만    223개"
      ]
     },
     "execution_count": 26,
     "metadata": {},
     "output_type": "execute_result"
    }
   ],
   "source": [
    "column = ['타이틀', '분류', '구독자수', '재생 수', '동영상 수']\n",
    "df = pd.DataFrame(results, columns=column)\n",
    "df.head()"
   ]
  },
  {
   "cell_type": "code",
   "execution_count": 27,
   "metadata": {},
   "outputs": [],
   "source": [
    "df.to_excel('youtube_rank.xlsx', index = False)"
   ]
  },
  {
   "cell_type": "markdown",
   "metadata": {},
   "source": [
    "## 유튜브 랭킹 데이터 시각화하기"
   ]
  },
  {
   "cell_type": "code",
   "execution_count": 28,
   "metadata": {},
   "outputs": [],
   "source": [
    "import pandas as pd\n",
    "import matplotlib.pyplot as plt\n",
    "\n",
    "#그래프에서 한글을 표기하기 위한 글꼴 변경\n",
    "from matplotlib import font_manager, rc\n",
    "import platform\n",
    "\n",
    "if platform.system() == 'Windows':\n",
    "    path = 'c:/Windows/Fonts/malgun.ttf'\n",
    "    font_name = font_manager.FontProperties(fname = path).get_name()\n",
    "    rc('font', family = 'AppleGothic')\n",
    "elif platform.system() == 'Darwin':\n",
    "    rc('font', fmaily = 'AppleGothic')\n",
    "else:\n",
    "    print('Check your OS system')\n",
    "    "
   ]
  },
  {
   "cell_type": "code",
   "execution_count": 30,
   "metadata": {},
   "outputs": [
    {
     "data": {
      "text/html": [
       "<div>\n",
       "<style scoped>\n",
       "    .dataframe tbody tr th:only-of-type {\n",
       "        vertical-align: middle;\n",
       "    }\n",
       "\n",
       "    .dataframe tbody tr th {\n",
       "        vertical-align: top;\n",
       "    }\n",
       "\n",
       "    .dataframe thead th {\n",
       "        text-align: right;\n",
       "    }\n",
       "</style>\n",
       "<table border=\"1\" class=\"dataframe\">\n",
       "  <thead>\n",
       "    <tr style=\"text-align: right;\">\n",
       "      <th></th>\n",
       "      <th>타이틀</th>\n",
       "      <th>분류</th>\n",
       "      <th>구독자수</th>\n",
       "      <th>재생 수</th>\n",
       "      <th>동영상 수</th>\n",
       "    </tr>\n",
       "  </thead>\n",
       "  <tbody>\n",
       "    <tr>\n",
       "      <th>0</th>\n",
       "      <td>BLACKPINK</td>\n",
       "      <td>[음악/댄스/가수]</td>\n",
       "      <td>6410만</td>\n",
       "      <td>190억1809만</td>\n",
       "      <td>371개</td>\n",
       "    </tr>\n",
       "    <tr>\n",
       "      <th>1</th>\n",
       "      <td>HYBE LABELS</td>\n",
       "      <td>[음악/댄스/가수]</td>\n",
       "      <td>6040만</td>\n",
       "      <td>187억5681만</td>\n",
       "      <td>655개</td>\n",
       "    </tr>\n",
       "    <tr>\n",
       "      <th>2</th>\n",
       "      <td>BANGTANTV</td>\n",
       "      <td>[음악/댄스/가수]</td>\n",
       "      <td>5650만</td>\n",
       "      <td>122억1297만</td>\n",
       "      <td>1,580개</td>\n",
       "    </tr>\n",
       "    <tr>\n",
       "      <th>3</th>\n",
       "      <td>SMTOWN</td>\n",
       "      <td>[음악/댄스/가수]</td>\n",
       "      <td>2850만</td>\n",
       "      <td>219억1233만</td>\n",
       "      <td>3,729개</td>\n",
       "    </tr>\n",
       "    <tr>\n",
       "      <th>4</th>\n",
       "      <td>Boram Tube Vlog [보람튜브 브이로그]</td>\n",
       "      <td>[키즈/어린이]</td>\n",
       "      <td>2650만</td>\n",
       "      <td>110억5288만</td>\n",
       "      <td>223개</td>\n",
       "    </tr>\n",
       "  </tbody>\n",
       "</table>\n",
       "</div>"
      ],
      "text/plain": [
       "                           타이틀          분류   구독자수       재생 수   동영상 수\n",
       "0                    BLACKPINK  [음악/댄스/가수]  6410만  190억1809만    371개\n",
       "1                  HYBE LABELS  [음악/댄스/가수]  6040만  187억5681만    655개\n",
       "2                    BANGTANTV  [음악/댄스/가수]  5650만  122억1297만  1,580개\n",
       "3                       SMTOWN  [음악/댄스/가수]  2850만  219억1233만  3,729개\n",
       "4  Boram Tube Vlog [보람튜브 브이로그]    [키즈/어린이]  2650만  110억5288만    223개"
      ]
     },
     "execution_count": 30,
     "metadata": {},
     "output_type": "execute_result"
    }
   ],
   "source": [
    "#데이터 살펴보기\n",
    "df=pd.read_excel('youtube_rank.xlsx')\n",
    "df.head()"
   ]
  },
  {
   "cell_type": "code",
   "execution_count": 31,
   "metadata": {},
   "outputs": [
    {
     "data": {
      "text/html": [
       "<div>\n",
       "<style scoped>\n",
       "    .dataframe tbody tr th:only-of-type {\n",
       "        vertical-align: middle;\n",
       "    }\n",
       "\n",
       "    .dataframe tbody tr th {\n",
       "        vertical-align: top;\n",
       "    }\n",
       "\n",
       "    .dataframe thead th {\n",
       "        text-align: right;\n",
       "    }\n",
       "</style>\n",
       "<table border=\"1\" class=\"dataframe\">\n",
       "  <thead>\n",
       "    <tr style=\"text-align: right;\">\n",
       "      <th></th>\n",
       "      <th>타이틀</th>\n",
       "      <th>분류</th>\n",
       "      <th>구독자수</th>\n",
       "      <th>재생 수</th>\n",
       "      <th>동영상 수</th>\n",
       "      <th>replaced_subscriber</th>\n",
       "    </tr>\n",
       "  </thead>\n",
       "  <tbody>\n",
       "    <tr>\n",
       "      <th>0</th>\n",
       "      <td>BLACKPINK</td>\n",
       "      <td>[음악/댄스/가수]</td>\n",
       "      <td>6410만</td>\n",
       "      <td>190억1809만</td>\n",
       "      <td>371개</td>\n",
       "      <td>64100000</td>\n",
       "    </tr>\n",
       "    <tr>\n",
       "      <th>1</th>\n",
       "      <td>HYBE LABELS</td>\n",
       "      <td>[음악/댄스/가수]</td>\n",
       "      <td>6040만</td>\n",
       "      <td>187억5681만</td>\n",
       "      <td>655개</td>\n",
       "      <td>60400000</td>\n",
       "    </tr>\n",
       "    <tr>\n",
       "      <th>2</th>\n",
       "      <td>BANGTANTV</td>\n",
       "      <td>[음악/댄스/가수]</td>\n",
       "      <td>5650만</td>\n",
       "      <td>122억1297만</td>\n",
       "      <td>1,580개</td>\n",
       "      <td>56500000</td>\n",
       "    </tr>\n",
       "    <tr>\n",
       "      <th>3</th>\n",
       "      <td>SMTOWN</td>\n",
       "      <td>[음악/댄스/가수]</td>\n",
       "      <td>2850만</td>\n",
       "      <td>219억1233만</td>\n",
       "      <td>3,729개</td>\n",
       "      <td>28500000</td>\n",
       "    </tr>\n",
       "    <tr>\n",
       "      <th>4</th>\n",
       "      <td>Boram Tube Vlog [보람튜브 브이로그]</td>\n",
       "      <td>[키즈/어린이]</td>\n",
       "      <td>2650만</td>\n",
       "      <td>110억5288만</td>\n",
       "      <td>223개</td>\n",
       "      <td>26500000</td>\n",
       "    </tr>\n",
       "  </tbody>\n",
       "</table>\n",
       "</div>"
      ],
      "text/plain": [
       "                           타이틀          분류   구독자수       재생 수   동영상 수  \\\n",
       "0                    BLACKPINK  [음악/댄스/가수]  6410만  190억1809만    371개   \n",
       "1                  HYBE LABELS  [음악/댄스/가수]  6040만  187억5681만    655개   \n",
       "2                    BANGTANTV  [음악/댄스/가수]  5650만  122억1297만  1,580개   \n",
       "3                       SMTOWN  [음악/댄스/가수]  2850만  219억1233만  3,729개   \n",
       "4  Boram Tube Vlog [보람튜브 브이로그]    [키즈/어린이]  2650만  110억5288만    223개   \n",
       "\n",
       "  replaced_subscriber  \n",
       "0            64100000  \n",
       "1            60400000  \n",
       "2            56500000  \n",
       "3            28500000  \n",
       "4            26500000  "
      ]
     },
     "execution_count": 31,
     "metadata": {},
     "output_type": "execute_result"
    }
   ],
   "source": [
    "df['replaced_subscriber'] = df['구독자수'].str.replace('만', '0000')\n",
    "df.head()"
   ]
  },
  {
   "cell_type": "code",
   "execution_count": 32,
   "metadata": {},
   "outputs": [
    {
     "name": "stdout",
     "output_type": "stream",
     "text": [
      "<class 'pandas.core.frame.DataFrame'>\n",
      "RangeIndex: 1000 entries, 0 to 999\n",
      "Data columns (total 6 columns):\n",
      " #   Column               Non-Null Count  Dtype \n",
      "---  ------               --------------  ----- \n",
      " 0   타이틀                  1000 non-null   object\n",
      " 1   분류                   1000 non-null   object\n",
      " 2   구독자수                 1000 non-null   object\n",
      " 3   재생 수                 1000 non-null   object\n",
      " 4   동영상 수                1000 non-null   object\n",
      " 5   replaced_subscriber  1000 non-null   object\n",
      "dtypes: object(6)\n",
      "memory usage: 47.0+ KB\n"
     ]
    }
   ],
   "source": [
    "df.info()"
   ]
  },
  {
   "cell_type": "code",
   "execution_count": 33,
   "metadata": {},
   "outputs": [],
   "source": [
    "#Series 데이터 타입 변환하기\n",
    "df['replaced_subscriber'] = df['replaced_subscriber'].astype('int')"
   ]
  },
  {
   "cell_type": "code",
   "execution_count": 34,
   "metadata": {},
   "outputs": [
    {
     "data": {
      "text/html": [
       "<div>\n",
       "<style scoped>\n",
       "    .dataframe tbody tr th:only-of-type {\n",
       "        vertical-align: middle;\n",
       "    }\n",
       "\n",
       "    .dataframe tbody tr th {\n",
       "        vertical-align: top;\n",
       "    }\n",
       "\n",
       "    .dataframe thead tr th {\n",
       "        text-align: left;\n",
       "    }\n",
       "\n",
       "    .dataframe thead tr:last-of-type th {\n",
       "        text-align: right;\n",
       "    }\n",
       "</style>\n",
       "<table border=\"1\" class=\"dataframe\">\n",
       "  <thead>\n",
       "    <tr>\n",
       "      <th></th>\n",
       "      <th>sum</th>\n",
       "      <th>count</th>\n",
       "    </tr>\n",
       "    <tr>\n",
       "      <th></th>\n",
       "      <th>replaced_subscriber</th>\n",
       "      <th>replaced_subscriber</th>\n",
       "    </tr>\n",
       "    <tr>\n",
       "      <th>분류</th>\n",
       "      <th></th>\n",
       "      <th></th>\n",
       "    </tr>\n",
       "  </thead>\n",
       "  <tbody>\n",
       "    <tr>\n",
       "      <th>[BJ/인물/연예인]</th>\n",
       "      <td>130600000.0</td>\n",
       "      <td>30</td>\n",
       "    </tr>\n",
       "    <tr>\n",
       "      <th>[TV/방송]</th>\n",
       "      <td>797000000.0</td>\n",
       "      <td>120</td>\n",
       "    </tr>\n",
       "    <tr>\n",
       "      <th>[뉴스/정치/사회]</th>\n",
       "      <td>198100000.0</td>\n",
       "      <td>30</td>\n",
       "    </tr>\n",
       "    <tr>\n",
       "      <th>[미분류]</th>\n",
       "      <td>613100000.0</td>\n",
       "      <td>70</td>\n",
       "    </tr>\n",
       "    <tr>\n",
       "      <th>[애완/반려동물]</th>\n",
       "      <td>41200000.0</td>\n",
       "      <td>10</td>\n",
       "    </tr>\n",
       "  </tbody>\n",
       "</table>\n",
       "</div>"
      ],
      "text/plain": [
       "                            sum               count\n",
       "            replaced_subscriber replaced_subscriber\n",
       "분류                                                 \n",
       "[BJ/인물/연예인]         130600000.0                  30\n",
       "[TV/방송]             797000000.0                 120\n",
       "[뉴스/정치/사회]          198100000.0                  30\n",
       "[미분류]               613100000.0                  70\n",
       "[애완/반려동물]            41200000.0                  10"
      ]
     },
     "execution_count": 34,
     "metadata": {},
     "output_type": "execute_result"
    }
   ],
   "source": [
    "#카테고리별 구독자 수 , 채널 수 피봇 테이블 생성하기\n",
    "pivot_df = df.pivot_table(index = '분류', values = 'replaced_subscriber',  aggfunc = ['sum','count'])\n",
    "pivot_df.head()"
   ]
  },
  {
   "cell_type": "code",
   "execution_count": 35,
   "metadata": {},
   "outputs": [
    {
     "data": {
      "text/html": [
       "<div>\n",
       "<style scoped>\n",
       "    .dataframe tbody tr th:only-of-type {\n",
       "        vertical-align: middle;\n",
       "    }\n",
       "\n",
       "    .dataframe tbody tr th {\n",
       "        vertical-align: top;\n",
       "    }\n",
       "\n",
       "    .dataframe thead th {\n",
       "        text-align: right;\n",
       "    }\n",
       "</style>\n",
       "<table border=\"1\" class=\"dataframe\">\n",
       "  <thead>\n",
       "    <tr style=\"text-align: right;\">\n",
       "      <th></th>\n",
       "      <th>subscriber_sum</th>\n",
       "      <th>category_count</th>\n",
       "    </tr>\n",
       "    <tr>\n",
       "      <th>분류</th>\n",
       "      <th></th>\n",
       "      <th></th>\n",
       "    </tr>\n",
       "  </thead>\n",
       "  <tbody>\n",
       "    <tr>\n",
       "      <th>[BJ/인물/연예인]</th>\n",
       "      <td>130600000.0</td>\n",
       "      <td>30</td>\n",
       "    </tr>\n",
       "    <tr>\n",
       "      <th>[TV/방송]</th>\n",
       "      <td>797000000.0</td>\n",
       "      <td>120</td>\n",
       "    </tr>\n",
       "    <tr>\n",
       "      <th>[뉴스/정치/사회]</th>\n",
       "      <td>198100000.0</td>\n",
       "      <td>30</td>\n",
       "    </tr>\n",
       "    <tr>\n",
       "      <th>[미분류]</th>\n",
       "      <td>613100000.0</td>\n",
       "      <td>70</td>\n",
       "    </tr>\n",
       "    <tr>\n",
       "      <th>[애완/반려동물]</th>\n",
       "      <td>41200000.0</td>\n",
       "      <td>10</td>\n",
       "    </tr>\n",
       "  </tbody>\n",
       "</table>\n",
       "</div>"
      ],
      "text/plain": [
       "             subscriber_sum  category_count\n",
       "분류                                         \n",
       "[BJ/인물/연예인]     130600000.0              30\n",
       "[TV/방송]         797000000.0             120\n",
       "[뉴스/정치/사회]      198100000.0              30\n",
       "[미분류]           613100000.0              70\n",
       "[애완/반려동물]        41200000.0              10"
      ]
     },
     "execution_count": 35,
     "metadata": {},
     "output_type": "execute_result"
    }
   ],
   "source": [
    "#데이터 프레임의 칼럼명 변경하기\n",
    "pivot_df.columns = ['subscriber_sum', 'category_count']\n",
    "pivot_df.head()"
   ]
  },
  {
   "cell_type": "code",
   "execution_count": 36,
   "metadata": {},
   "outputs": [
    {
     "data": {
      "text/html": [
       "<div>\n",
       "<style scoped>\n",
       "    .dataframe tbody tr th:only-of-type {\n",
       "        vertical-align: middle;\n",
       "    }\n",
       "\n",
       "    .dataframe tbody tr th {\n",
       "        vertical-align: top;\n",
       "    }\n",
       "\n",
       "    .dataframe thead th {\n",
       "        text-align: right;\n",
       "    }\n",
       "</style>\n",
       "<table border=\"1\" class=\"dataframe\">\n",
       "  <thead>\n",
       "    <tr style=\"text-align: right;\">\n",
       "      <th></th>\n",
       "      <th>분류</th>\n",
       "      <th>subscriber_sum</th>\n",
       "      <th>category_count</th>\n",
       "    </tr>\n",
       "  </thead>\n",
       "  <tbody>\n",
       "    <tr>\n",
       "      <th>0</th>\n",
       "      <td>[BJ/인물/연예인]</td>\n",
       "      <td>130600000.0</td>\n",
       "      <td>30</td>\n",
       "    </tr>\n",
       "    <tr>\n",
       "      <th>1</th>\n",
       "      <td>[TV/방송]</td>\n",
       "      <td>797000000.0</td>\n",
       "      <td>120</td>\n",
       "    </tr>\n",
       "    <tr>\n",
       "      <th>2</th>\n",
       "      <td>[뉴스/정치/사회]</td>\n",
       "      <td>198100000.0</td>\n",
       "      <td>30</td>\n",
       "    </tr>\n",
       "    <tr>\n",
       "      <th>3</th>\n",
       "      <td>[미분류]</td>\n",
       "      <td>613100000.0</td>\n",
       "      <td>70</td>\n",
       "    </tr>\n",
       "    <tr>\n",
       "      <th>4</th>\n",
       "      <td>[애완/반려동물]</td>\n",
       "      <td>41200000.0</td>\n",
       "      <td>10</td>\n",
       "    </tr>\n",
       "  </tbody>\n",
       "</table>\n",
       "</div>"
      ],
      "text/plain": [
       "            분류  subscriber_sum  category_count\n",
       "0  [BJ/인물/연예인]     130600000.0              30\n",
       "1      [TV/방송]     797000000.0             120\n",
       "2   [뉴스/정치/사회]     198100000.0              30\n",
       "3        [미분류]     613100000.0              70\n",
       "4    [애완/반려동물]      41200000.0              10"
      ]
     },
     "execution_count": 36,
     "metadata": {},
     "output_type": "execute_result"
    }
   ],
   "source": [
    "#데이터 프레임의 인덱스 초기화하기\n",
    "pivot_df = pivot_df.reset_index()\n",
    "pivot_df.head()"
   ]
  },
  {
   "cell_type": "code",
   "execution_count": 37,
   "metadata": {},
   "outputs": [
    {
     "data": {
      "text/html": [
       "<div>\n",
       "<style scoped>\n",
       "    .dataframe tbody tr th:only-of-type {\n",
       "        vertical-align: middle;\n",
       "    }\n",
       "\n",
       "    .dataframe tbody tr th {\n",
       "        vertical-align: top;\n",
       "    }\n",
       "\n",
       "    .dataframe thead th {\n",
       "        text-align: right;\n",
       "    }\n",
       "</style>\n",
       "<table border=\"1\" class=\"dataframe\">\n",
       "  <thead>\n",
       "    <tr style=\"text-align: right;\">\n",
       "      <th></th>\n",
       "      <th>분류</th>\n",
       "      <th>subscriber_sum</th>\n",
       "      <th>category_count</th>\n",
       "    </tr>\n",
       "  </thead>\n",
       "  <tbody>\n",
       "    <tr>\n",
       "      <th>6</th>\n",
       "      <td>[음악/댄스/가수]</td>\n",
       "      <td>4.942700e+09</td>\n",
       "      <td>350</td>\n",
       "    </tr>\n",
       "    <tr>\n",
       "      <th>8</th>\n",
       "      <td>[키즈/어린이]</td>\n",
       "      <td>1.518500e+09</td>\n",
       "      <td>200</td>\n",
       "    </tr>\n",
       "    <tr>\n",
       "      <th>5</th>\n",
       "      <td>[음식/요리/레시피]</td>\n",
       "      <td>9.070000e+08</td>\n",
       "      <td>150</td>\n",
       "    </tr>\n",
       "    <tr>\n",
       "      <th>1</th>\n",
       "      <td>[TV/방송]</td>\n",
       "      <td>7.970000e+08</td>\n",
       "      <td>120</td>\n",
       "    </tr>\n",
       "    <tr>\n",
       "      <th>3</th>\n",
       "      <td>[미분류]</td>\n",
       "      <td>6.131000e+08</td>\n",
       "      <td>70</td>\n",
       "    </tr>\n",
       "  </tbody>\n",
       "</table>\n",
       "</div>"
      ],
      "text/plain": [
       "            분류  subscriber_sum  category_count\n",
       "6   [음악/댄스/가수]    4.942700e+09             350\n",
       "8     [키즈/어린이]    1.518500e+09             200\n",
       "5  [음식/요리/레시피]    9.070000e+08             150\n",
       "1      [TV/방송]    7.970000e+08             120\n",
       "3        [미분류]    6.131000e+08              70"
      ]
     },
     "execution_count": 37,
     "metadata": {},
     "output_type": "execute_result"
    }
   ],
   "source": [
    "#데이터프레임을 내림차순정렬하기\n",
    "pivot_df = pivot_df.sort_values(by ='subscriber_sum', ascending=False)\n",
    "pivot_df.head()"
   ]
  },
  {
   "cell_type": "code",
   "execution_count": 39,
   "metadata": {},
   "outputs": [
    {
     "data": {
      "image/png": "[encoded data removed]",
      "text/plain": [
       "<Figure size 2160x720 with 1 Axes>"
      ]
     },
     "metadata": {},
     "output_type": "display_data"
    }
   ],
   "source": [
    "#카테고리별 구독자수 시각화하기 \n",
    "plt.figure(figsize = (30,10))\n",
    "plt.pie(pivot_df['subscriber_sum'], labels=pivot_df['분류'], autopct = '%1.1f%%')\n",
    "plt.show()"
   ]
  },
  {
   "cell_type": "code",
   "execution_count": 40,
   "metadata": {},
   "outputs": [
    {
     "data": {
      "text/html": [
       "<div>\n",
       "<style scoped>\n",
       "    .dataframe tbody tr th:only-of-type {\n",
       "        vertical-align: middle;\n",
       "    }\n",
       "\n",
       "    .dataframe tbody tr th {\n",
       "        vertical-align: top;\n",
       "    }\n",
       "\n",
       "    .dataframe thead th {\n",
       "        text-align: right;\n",
       "    }\n",
       "</style>\n",
       "<table border=\"1\" class=\"dataframe\">\n",
       "  <thead>\n",
       "    <tr style=\"text-align: right;\">\n",
       "      <th></th>\n",
       "      <th>분류</th>\n",
       "      <th>subscriber_sum</th>\n",
       "      <th>category_count</th>\n",
       "    </tr>\n",
       "  </thead>\n",
       "  <tbody>\n",
       "    <tr>\n",
       "      <th>6</th>\n",
       "      <td>[음악/댄스/가수]</td>\n",
       "      <td>4.942700e+09</td>\n",
       "      <td>350</td>\n",
       "    </tr>\n",
       "    <tr>\n",
       "      <th>8</th>\n",
       "      <td>[키즈/어린이]</td>\n",
       "      <td>1.518500e+09</td>\n",
       "      <td>200</td>\n",
       "    </tr>\n",
       "    <tr>\n",
       "      <th>5</th>\n",
       "      <td>[음식/요리/레시피]</td>\n",
       "      <td>9.070000e+08</td>\n",
       "      <td>150</td>\n",
       "    </tr>\n",
       "    <tr>\n",
       "      <th>1</th>\n",
       "      <td>[TV/방송]</td>\n",
       "      <td>7.970000e+08</td>\n",
       "      <td>120</td>\n",
       "    </tr>\n",
       "    <tr>\n",
       "      <th>3</th>\n",
       "      <td>[미분류]</td>\n",
       "      <td>6.131000e+08</td>\n",
       "      <td>70</td>\n",
       "    </tr>\n",
       "  </tbody>\n",
       "</table>\n",
       "</div>"
      ],
      "text/plain": [
       "            분류  subscriber_sum  category_count\n",
       "6   [음악/댄스/가수]    4.942700e+09             350\n",
       "8     [키즈/어린이]    1.518500e+09             200\n",
       "5  [음식/요리/레시피]    9.070000e+08             150\n",
       "1      [TV/방송]    7.970000e+08             120\n",
       "3        [미분류]    6.131000e+08              70"
      ]
     },
     "execution_count": 40,
     "metadata": {},
     "output_type": "execute_result"
    }
   ],
   "source": [
    "# 카테고리별 채널 수 시각화 하기\n",
    "pivot_df = pivot_df.sort_values(by ='category_count', ascending=False)\n",
    "pivot_df.head()"
   ]
  },
  {
   "cell_type": "code",
   "execution_count": 42,
   "metadata": {},
   "outputs": [
    {
     "data": {
      "image/png": "[encoded data removed]",
      "text/plain": [
       "<Figure size 2160x720 with 1 Axes>"
      ]
     },
     "metadata": {},
     "output_type": "display_data"
    }
   ],
   "source": [
    "plt.figure(figsize = (30,10))\n",
    "plt.pie(pivot_df['category_count'], labels=pivot_df['분류'], autopct = '%1.1f%%')\n",
    "plt.show()"
   ]
  },
  {
   "cell_type": "code",
   "execution_count": null,
   "metadata": {},
   "outputs": [],
   "source": []
  }
 ],
 "metadata": {
  "kernelspec": {
   "display_name": "Python 3",
   "language": "python",
   "name": "python3"
  },
  "language_info": {
   "codemirror_mode": {
    "name": "ipython",
    "version": 3
   },
   "file_extension": ".py",
   "mimetype": "text/x-python",
   "name": "python",
   "nbconvert_exporter": "python",
   "pygments_lexer": "ipython3",
   "version": "3.8.5"
  }
 },
 "nbformat": 4,
 "nbformat_minor": 4
}
