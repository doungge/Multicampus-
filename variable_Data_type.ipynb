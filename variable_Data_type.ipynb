{
  "nbformat": 4,
  "nbformat_minor": 0,
  "metadata": {
    "colab": {
      "name": "variable_Data type.ipynb",
      "provenance": [],
      "collapsed_sections": [],
      "authorship_tag": "ABX9TyMuaitbZt/hTKLxUC7D+Hqq",
      "include_colab_link": true
    },
    "kernelspec": {
      "name": "python3",
      "display_name": "Python 3"
    },
    "language_info": {
      "name": "python"
    }
  },
  "cells": [
    {
      "cell_type": "markdown",
      "metadata": {
        "id": "view-in-github",
        "colab_type": "text"
      },
      "source": [
        "<a href=\"https://colab.research.google.com/github/doungge/Multicampus-/blob/master/variable_Data_type.ipynb\" target=\"_parent\"><img src=\"https://colab.research.google.com/assets/colab-badge.svg\" alt=\"Open In Colab\"/></a>"
      ]
    },
    {
      "cell_type": "markdown",
      "metadata": {
        "id": "_CqsblNFOt9Z"
      },
      "source": [
        "# 4장 변수와 자료형\n",
        "\n",
        "## 4.1 변수\n",
        "\n",
        "- 자료를 넣을 수 있는 상자인 변수와 파이썬에서 지원하는 자료형(데이터 타입)\n",
        "\n",
        "``` \n",
        "12340 *1/2\n",
        "12340 *1/4\n",
        "12340 *1/5\n",
        "```\n",
        "- 매번 연산할 때마다 12340을 반복적으로 썻음\n",
        "- 간단한 연산에서도 숫자를 반복해서 입력해야 할 경우 매번 같은 숫자를 입력하는 것 \n",
        "- 숫자 12340을 어떤 상자에 넣고 이름을 붙인 후 이 이름을 부를때마다 상자에 넣은 숫자가 나온다면 편리 \n",
        "\n",
        "**#숫자와 같은자료(data)를 넣을 수 있는 상자를 변수(variavle)라 하고 상자에 붙인 이름을 변숳명(혹은 변수이름)**\n",
        "- 실제로 변수는 컴퓨터의 임시 저장 공간(메모리)에 저장\n",
        "- 파이썬에서는 등호(=)를 이용해 변수에 자료를 넣음(할당)\n",
        "- 변수명 = 'data'같은 형태로 사용\n",
        "- 자료가 숫자라면 data에 숫자를 쓰면되고 문자열 이라면 문자열을 씀녀됨\n",
        "- 변수명과 등호, 등호와 data사이의 공백은 무시(즉, 공백은 있뜬 없든 상관없음)\n",
        "\n",
        "\n"
      ]
    },
    {
      "cell_type": "code",
      "metadata": {
        "colab": {
          "base_uri": "https://localhost:8080/"
        },
        "id": "qdr1glFpPgwg",
        "outputId": "ef8b0427-237c-472c-ef4f-3a51450f0d31"
      },
      "source": [
        "abc = 123240\n",
        "print(abc)"
      ],
      "execution_count": null,
      "outputs": [
        {
          "output_type": "stream",
          "text": [
            "123240\n"
          ],
          "name": "stdout"
        }
      ]
    },
    {
      "cell_type": "markdown",
      "metadata": {
        "id": "ZnI6B4T0QHbn"
      },
      "source": [
        " - 변수에 자료형을 할당한 경우 print(변수명)으로 변수명에 할당한 값을 출력할 수 있음\n",
        " - print(변수명)을 이용하지 않더라도 변수명을 실행해 변수에 할당도니 값을 출력할 수도 있음\n",
        " "
      ]
    },
    {
      "cell_type": "code",
      "metadata": {
        "colab": {
          "base_uri": "https://localhost:8080/"
        },
        "id": "BRM6uwewQaw3",
        "outputId": "d2f861fa-4e25-4acc-bc9f-5f5a72f63832"
      },
      "source": [
        "abc"
      ],
      "execution_count": null,
      "outputs": [
        {
          "output_type": "execute_result",
          "data": {
            "text/plain": [
              "123240"
            ]
          },
          "metadata": {
            "tags": []
          },
          "execution_count": 2
        }
      ]
    },
    {
      "cell_type": "markdown",
      "metadata": {
        "id": "Is3tnNWxQbaY"
      },
      "source": [
        "- 숫자 12340을 쓰는 대신 변수 abc를 이용해 연산하고 출력"
      ]
    },
    {
      "cell_type": "code",
      "metadata": {
        "colab": {
          "base_uri": "https://localhost:8080/"
        },
        "id": "yxluAPHRQhOE",
        "outputId": "ff54372b-456b-46a0-883d-6d1c48a28d1c"
      },
      "source": [
        "print(abc *1/2)\n",
        "print(abc *1/4)\n",
        "print(abc *1/5)\n"
      ],
      "execution_count": null,
      "outputs": [
        {
          "output_type": "stream",
          "text": [
            "61620.0\n",
            "30810.0\n",
            "24648.0\n"
          ],
          "name": "stdout"
        }
      ]
    },
    {
      "cell_type": "markdown",
      "metadata": {
        "id": "-3wat5SvQtp5"
      },
      "source": [
        "**#규칙을 지키면서 변수명을 작성**\n",
        "- 변수명을 문자, 숫자, 밑줄 기호(_)를 이용해서 만듬\n",
        "- 숫자로 시작하는 변수명을 만들수 없음\n",
        "- 대소문자를 구분\n",
        "공백을 포함할 수 없음\n",
        "- 밑줄 이외의 기호는 변수로 사용할 수 없음\n",
        "- 예약어(Reserved word)는 변수명으로 이용할 수 없음\n",
        "\n",
        "**# 상수**\n",
        " - 프로그래밍 언어에서 어떤 숫자를 변수에 할당한 후에 프로그램이 끝날 때까지 그 변수의 값을 변경하지 ㅇ낳고 사용하는 경우\n",
        "- 한 번 지정한 후 그 값이 변하지 않는 변수를 상수(constant variable)라고 함\n",
        "\n",
        "## 4.2 문자열\n",
        "\n",
        "### 문자열 만들기\n",
        "- 문자열은 문자의 나열을 의미하는데, 파이썬에서는 따옴표로 둘러싸인 문자의 집합\n",
        "- 문자열을 표시하기 위해 문자열 시작과 끝에 큰따옴표나 작은따옴표를 지정\n",
        "- 둘 중 어떤 것을 사용해도 되지만 양쪽에는 같은 기호를 이용\n",
        "\n",
        "\n"
      ]
    },
    {
      "cell_type": "code",
      "metadata": {
        "colab": {
          "base_uri": "https://localhost:8080/"
        },
        "id": "0eWYzB8QRusL",
        "outputId": "b83c3abb-d5f2-4c5f-810d-199d36bd88ed"
      },
      "source": [
        "print(\"String Test\")\n",
        "print(\"String Test\")"
      ],
      "execution_count": null,
      "outputs": [
        {
          "output_type": "stream",
          "text": [
            "String Test\n",
            "String Test\n"
          ],
          "name": "stdout"
        }
      ]
    },
    {
      "cell_type": "markdown",
      "metadata": {
        "id": "xbL4zrJyRz9_"
      },
      "source": [
        "- 문자열을 변수에 저장한 후 print() 함수로 출력\n"
      ]
    },
    {
      "cell_type": "code",
      "metadata": {
        "colab": {
          "base_uri": "https://localhost:8080/"
        },
        "id": "bq0hDKjHR46n",
        "outputId": "d2eee972-eef9-43f5-f067-19359d57970f"
      },
      "source": [
        "string1 = 'String Test 1'\n",
        "string2 = 'String Test 2'\n",
        "print(string1)\n",
        "print(string2)"
      ],
      "execution_count": null,
      "outputs": [
        {
          "output_type": "stream",
          "text": [
            "String Test 1\n",
            "String Test 2\n"
          ],
          "name": "stdout"
        }
      ]
    },
    {
      "cell_type": "markdown",
      "metadata": {
        "id": "MAoUdYVJSBqT"
      },
      "source": [
        " - 변수에 할당한 문자열의 타입(type)은?"
      ]
    },
    {
      "cell_type": "code",
      "metadata": {
        "id": "xp6P4J2sSID3"
      },
      "source": [
        "type(string1)\n",
        "\n",
        "type(string2)"
      ],
      "execution_count": null,
      "outputs": []
    },
    {
      "cell_type": "markdown",
      "metadata": {
        "id": "JCsrHB8iSMd0"
      },
      "source": [
        "- 출력 결과는 str\n",
        "- 변수 string1과 string2에 할당한 데이터의 타입이 문자열(string)인 것을 의미\n",
        "- 문자열 안에 큰 따옴표나 작은따옴표도 포함하려면 어떻게 해야 할까요?\n"
      ]
    },
    {
      "cell_type": "code",
      "metadata": {
        "colab": {
          "base_uri": "https://localhost:8080/"
        },
        "id": "5KPN4_cgSl9F",
        "outputId": "6ac95f09-7d8c-41dc-fd09-ec2d6aea5004"
      },
      "source": [
        "string3 = 'This is a \"double\" quatation test'\n",
        "string4 = 'This is a \"single\" quatation test'\n",
        "print(string3)\n",
        "print(string4)"
      ],
      "execution_count": null,
      "outputs": [
        {
          "output_type": "stream",
          "text": [
            "This is a \"double\" quatation test\n",
            "This is a \"single\" quatation test\n"
          ],
          "name": "stdout"
        }
      ]
    },
    {
      "cell_type": "markdown",
      "metadata": {
        "id": "flNpJW6-S7dj"
      },
      "source": [
        "- 문자열에 큰따옴표를 포함하려면 문자열을 작은 따옴표로 감싸고 작은 따옴표를 포함하려면 큰따옴표로 감싸면 됨\n",
        "- 문자열에 큰따옴표와 작은따옴표를 모두 포함하고 싶거나 문장을 여러행 넣고 싶거나 입력한 그대로 출력하고 싶을 때는?"
      ]
    },
    {
      "cell_type": "code",
      "metadata": {
        "colab": {
          "base_uri": "https://localhost:8080/"
        },
        "id": "hW0q81W1TMMo",
        "outputId": "02432237-0c10-4188-eb09-a75aeade5174"
      },
      "source": [
        "long_string1 = '''[삼중 작은따옴표를 사용한 예]\n",
        "파이썬에는 삼중 따옴표로 여러 행의 문자열을 입력할 수 있습니다.\n",
        "큰따옴표(\")와 작은따옴표(')도 입력할수 있습니다. '''\n",
        "\n",
        "long_string2 = \"\"\"[삼중 큰따옴표를 사용한 예]\n",
        "파이썬에는 삼중 따옴표로 여러 행의 문자열을 입력할 수 있습니다.\n",
        "큰 따옴표(\")와 작은따옴표(')도 입력할 수 있습니다.\"\"\"\n",
        "\n",
        "print(long_string1)\n",
        "print(long_string2)"
      ],
      "execution_count": null,
      "outputs": [
        {
          "output_type": "stream",
          "text": [
            "[삼중 작은따옴표를 사용한 예]\n",
            "파이썬에는 삼중 따옴표로 여러 행의 문자열을 입력할 수 있습니다.\n",
            "큰따옴표(\")와 작은따옴표(')도 입력할수 있습니다. \n",
            "[삼중 큰따옴표를 사용한 예]\n",
            "파이썬에는 삼중 따옴표로 여러 행의 문자열을 입력할 수 있습니다.\n",
            "큰 따옴표(\")와 작은따옴표(')도 입력할 수 있습니다.\n"
          ],
          "name": "stdout"
        }
      ]
    },
    {
      "cell_type": "markdown",
      "metadata": {
        "id": "kVqrF6jDT7qn"
      },
      "source": [
        "- 문자열 전체를 삼중 큰따옴표(\"\"\")나 삼중 작은따옴표(''') 로 감싸면 된다.\n",
        "\n",
        "- 파이썬 3.x에서는 한글도 문자열에 이용할 수 있음\n",
        "- 파이썬3.x이 유니코드(Unicode)를 지원해 기본적으로 문자열이 유니코드로 처리되기 때문\n",
        "\n",
        "### 문자열 다루기\n",
        "\n",
        "**문자열에는 더하기 연산자(+)와 곱하기 연산자(*)를 이용할 수 있음\n",
        "- 더하기 연산자(+)는 문자열 끼리 연결(concatenation)해 문자열을 하나로 만듬\n",
        "- 곱하기 연산자(*)는 곱한 만큼 문자열을 반복함\n",
        "\n"
      ]
    },
    {
      "cell_type": "code",
      "metadata": {
        "colab": {
          "base_uri": "https://localhost:8080/"
        },
        "id": "VVq_lu_DUy8A",
        "outputId": "3017eb38-8ff1-4594-da07-bfcab10560bc"
      },
      "source": [
        "a = 'Enjoy'\n",
        "b = 'Python!'\n",
        "c = a+b\n",
        "print(c)\n",
        "print(a*3)"
      ],
      "execution_count": null,
      "outputs": [
        {
          "output_type": "stream",
          "text": [
            "EnjoyPython!\n",
            "EnjoyEnjoyEnjoy\n"
          ],
          "name": "stdout"
        }
      ]
    },
    {
      "cell_type": "markdown",
      "metadata": {
        "id": "GLF--7zkVQGu"
      },
      "source": [
        "\n",
        "## 4.3 리스트\n",
        "\n",
        "- 숫자, 문자열, 불 데이터 타입(이런 데이터 타입은 데이터를 하나씩만 처리할 수 있음)\n",
        "\n",
        "- 데이터를 묶어 놓으면 처리하기가 필요할때가 있음\n",
        "- 예를 들면, 학교에서 학생의 과목별(국어, 영어, 수학, 과학 등)시험 점수를 처리한다거나 학급별로 학생의 이름을 지정할 때 데이터를 묶어서 관리하면 편리함\n",
        "\n",
        "- 이렇게 할 수 있는 것이 바로 리스트(List)이다.\n",
        "\n",
        "\n",
        "### 리스트 만들기\n",
        "\n",
        "- 리스트는 대괄호([])를 이용해 만듬\n",
        "- 대괄호 안에 올 수 있는 항목(혹은 요소)의 데이터 타입은 다양함\n",
        "-  숫자, 문자열, 불, 리스트 등을 넣을 수 있음, 또한 튜플 세트,딕셔너리도 넣을 수 있음\n",
        "\n",
        "- 리스트를 만들 때 각 항목의 데이터 타입은 같지 않아도 됨\n",
        "- 데이터는 입력한 순서대로 지정되며 항목은 콤마(,)로 구분\n",
        "- 대괄호 안에 아무것도 쓰지 않으면 빈 리스트가 만들어짐\n",
        "- 빈 리스트에는 데이터는 없지만 데이터 형태는 리스트임"
      ]
    },
    {
      "cell_type": "code",
      "metadata": {
        "colab": {
          "base_uri": "https://localhost:8080/"
        },
        "id": "VxZDN7twk8qG",
        "outputId": "c75a4969-10fe-4b96-9a1c-22f7484d4a5f"
      },
      "source": [
        "# 1번 학생의 국어, 영어, 수학, 과학 점수가 각각 90,95,85,80\n",
        "student1 = [90,95,85,80]\n",
        "student1"
      ],
      "execution_count": null,
      "outputs": [
        {
          "output_type": "execute_result",
          "data": {
            "text/plain": [
              "[90, 95, 85, 80]"
            ]
          },
          "metadata": {
            "tags": []
          },
          "execution_count": 16
        }
      ]
    },
    {
      "cell_type": "markdown",
      "metadata": {
        "id": "MZIK9hC0lG6z"
      },
      "source": [
        "- type() 함수를 이용 해 변수 student1 의 데이터 타입을 확인"
      ]
    },
    {
      "cell_type": "code",
      "metadata": {
        "colab": {
          "base_uri": "https://localhost:8080/"
        },
        "id": "wzv9Y79zleFE",
        "outputId": "1a7cc960-5f9d-49ff-8770-8915a59fec57"
      },
      "source": [
        "type(student1)"
      ],
      "execution_count": null,
      "outputs": [
        {
          "output_type": "execute_result",
          "data": {
            "text/plain": [
              "list"
            ]
          },
          "metadata": {
            "tags": []
          },
          "execution_count": 18
        }
      ]
    },
    {
      "cell_type": "markdown",
      "metadata": {
        "id": "36r4gco5lQmh"
      },
      "source": [
        "**리스트 타입의 데이터가 할당된 변수(리스트 변수)의 구조\n",
        "\n",
        "-리스트에서 각 항목은, 변수명[i]로 지정 할 수 있음\n",
        "- 여기서 i를 리스트 변수의 인덱스(index)라고 함 \n",
        "- 만약 N개의 항목이 있는 리스트 타입의 데이터가 있따면 인덱스 i의 범위는 0부터 'N-1'까지 임\n",
        "- 첫 번째 요소는 '변수명[0]', 두번째 요소는 '변수명[1]', 세번째 요소는 변수명[2]이 된다.\n",
        "- 인덱스의 숫자가 증가하다가 마지막 요소는 '변수명[N-1]이 됨\n",
        "- 마지막 항목은 '변수명[-1]'로도 지정할 수 있음"
      ]
    },
    {
      "cell_type": "code",
      "metadata": {
        "colab": {
          "base_uri": "https://localhost:8080/"
        },
        "id": "kHvAGK5lmrUs",
        "outputId": "e2aa07e2-fd96-4623-e4e3-304268649c4e"
      },
      "source": [
        "student1[0]"
      ],
      "execution_count": null,
      "outputs": [
        {
          "output_type": "execute_result",
          "data": {
            "text/plain": [
              "90"
            ]
          },
          "metadata": {
            "tags": []
          },
          "execution_count": 19
        }
      ]
    },
    {
      "cell_type": "code",
      "metadata": {
        "colab": {
          "base_uri": "https://localhost:8080/"
        },
        "id": "hXpfMUqemtHi",
        "outputId": "25786185-2d5e-42de-8bb4-df4f7bd14c8b"
      },
      "source": [
        "student1[1]"
      ],
      "execution_count": null,
      "outputs": [
        {
          "output_type": "execute_result",
          "data": {
            "text/plain": [
              "95"
            ]
          },
          "metadata": {
            "tags": []
          },
          "execution_count": 20
        }
      ]
    },
    {
      "cell_type": "code",
      "metadata": {
        "colab": {
          "base_uri": "https://localhost:8080/"
        },
        "id": "ZLSpDI6NmveZ",
        "outputId": "2569d72e-40e6-4226-e7f3-818a1dfae63a"
      },
      "source": [
        "student1[2]"
      ],
      "execution_count": null,
      "outputs": [
        {
          "output_type": "execute_result",
          "data": {
            "text/plain": [
              "85"
            ]
          },
          "metadata": {
            "tags": []
          },
          "execution_count": 21
        }
      ]
    },
    {
      "cell_type": "code",
      "metadata": {
        "colab": {
          "base_uri": "https://localhost:8080/"
        },
        "id": "1LxfA0uhmw_Y",
        "outputId": "49afe6ad-90ed-4384-ff88-77f10df35a4c"
      },
      "source": [
        "student1[-1]"
      ],
      "execution_count": null,
      "outputs": [
        {
          "output_type": "execute_result",
          "data": {
            "text/plain": [
              "80"
            ]
          },
          "metadata": {
            "tags": []
          },
          "execution_count": 22
        }
      ]
    },
    {
      "cell_type": "markdown",
      "metadata": {
        "id": "EXCI-51Umyvg"
      },
      "source": [
        "**리스트의 특정 항목을 변경하려면 '변수명[i] = new_data'를 이용해 리스트 변수에서 인덱스 i항목을 new_data로 변경 할 수 있음**\n",
        "\n",
        "- 리스트 변수 student1 에서 두번째 항목을 새로운 데이터로 할당하고 리스트 변수를 출력"
      ]
    },
    {
      "cell_type": "code",
      "metadata": {
        "colab": {
          "base_uri": "https://localhost:8080/"
        },
        "id": "XhT-N2WPnH-r",
        "outputId": "ca5ca9ee-3106-449c-a4b9-14d76e971253"
      },
      "source": [
        "student1[1] = 100\n",
        "student1[1]"
      ],
      "execution_count": null,
      "outputs": [
        {
          "output_type": "execute_result",
          "data": {
            "text/plain": [
              "100"
            ]
          },
          "metadata": {
            "tags": []
          },
          "execution_count": 23
        }
      ]
    },
    {
      "cell_type": "markdown",
      "metadata": {
        "id": "ZCUfORb7nLoc"
      },
      "source": [
        "**리스트에 문자열을 입력**"
      ]
    },
    {
      "cell_type": "code",
      "metadata": {
        "colab": {
          "base_uri": "https://localhost:8080/"
        },
        "id": "Zkt1v5MOni5o",
        "outputId": "4f0844d2-631f-4304-977f-9a1e8de0d6d9"
      },
      "source": [
        "myFreinds = ['James','Robert','Lisa','Mary']\n",
        "myFreinds"
      ],
      "execution_count": null,
      "outputs": [
        {
          "output_type": "execute_result",
          "data": {
            "text/plain": [
              "['James', 'Robert', 'Lisa', 'Mary']"
            ]
          },
          "metadata": {
            "tags": []
          },
          "execution_count": 24
        }
      ]
    },
    {
      "cell_type": "markdown",
      "metadata": {
        "id": "ndZXUB_Cnp8X"
      },
      "source": [
        "**리스트 변수 myFreinds에서 세번째,네번째 마지막 항목을 지정**"
      ]
    },
    {
      "cell_type": "code",
      "metadata": {
        "colab": {
          "base_uri": "https://localhost:8080/",
          "height": 35
        },
        "id": "cQTYsst6nuvP",
        "outputId": "29464223-93cf-45c2-8fff-cc53609a22be"
      },
      "source": [
        "myFreinds[2]"
      ],
      "execution_count": null,
      "outputs": [
        {
          "output_type": "execute_result",
          "data": {
            "application/vnd.google.colaboratory.intrinsic+json": {
              "type": "string"
            },
            "text/plain": [
              "'Lisa'"
            ]
          },
          "metadata": {
            "tags": []
          },
          "execution_count": 26
        }
      ]
    },
    {
      "cell_type": "code",
      "metadata": {
        "colab": {
          "base_uri": "https://localhost:8080/",
          "height": 35
        },
        "id": "DUTFGGQVny5Y",
        "outputId": "c367873f-b462-45b5-e0a3-1a73f712d87e"
      },
      "source": [
        "myFreinds[3]"
      ],
      "execution_count": null,
      "outputs": [
        {
          "output_type": "execute_result",
          "data": {
            "application/vnd.google.colaboratory.intrinsic+json": {
              "type": "string"
            },
            "text/plain": [
              "'Mary'"
            ]
          },
          "metadata": {
            "tags": []
          },
          "execution_count": 27
        }
      ]
    },
    {
      "cell_type": "code",
      "metadata": {
        "colab": {
          "base_uri": "https://localhost:8080/",
          "height": 35
        },
        "id": "vxK2EpB2n1VH",
        "outputId": "5d68e10c-ea0a-463b-da22-c8d20b694461"
      },
      "source": [
        "myFreinds[-1]"
      ],
      "execution_count": null,
      "outputs": [
        {
          "output_type": "execute_result",
          "data": {
            "application/vnd.google.colaboratory.intrinsic+json": {
              "type": "string"
            },
            "text/plain": [
              "'Mary'"
            ]
          },
          "metadata": {
            "tags": []
          },
          "execution_count": 28
        }
      ]
    },
    {
      "cell_type": "markdown",
      "metadata": {
        "id": "8JPWWCBfn2pf"
      },
      "source": [
        "- 리스트 변수 myFriends의 네 번째 항목이 마지막 항목이므로  myFriends[3]과 myFriends[-1]의 출력 결과가 같음\n",
        "\n",
        "\n",
        "\n",
        "\n",
        "\n",
        "**숫자, 문자열, 불, 리스트를 혼합한 형태의 리스트**"
      ]
    },
    {
      "cell_type": "code",
      "metadata": {
        "colab": {
          "base_uri": "https://localhost:8080/"
        },
        "id": "UdpJE7l-oEEW",
        "outputId": "95dfb316-014a-4519-c492-0c9bb9016c50"
      },
      "source": [
        "mixedList = [0,2,3,14,'python','program',True, myFreinds]\n",
        "mixedList"
      ],
      "execution_count": null,
      "outputs": [
        {
          "output_type": "execute_result",
          "data": {
            "text/plain": [
              "[0, 2, 3, 14, 'python', 'program', True, ['James', 'Robert', 'Lisa', 'Mary']]"
            ]
          },
          "metadata": {
            "tags": []
          },
          "execution_count": 29
        }
      ]
    },
    {
      "cell_type": "markdown",
      "metadata": {
        "id": "_Eh3oddUoUUp"
      },
      "source": [
        "### 리스트 다루기\n",
        "리스트 더하기와 곱하기\n",
        "- 문자열과 마찬가지로 리스트도 더하기와 곱하기를 할 수 있음\n",
        "- 더하기는 두 리스트를 연결하고 곱하기는 리스트를 곱한 수 만큼 반복함\n"
      ]
    },
    {
      "cell_type": "code",
      "metadata": {
        "colab": {
          "base_uri": "https://localhost:8080/"
        },
        "id": "lsyIkEh-omLk",
        "outputId": "acf6d430-b8cc-48fd-e034-e3ec31f56479"
      },
      "source": [
        "#더하기\n",
        "list_con1=[1,2,3,4]\n",
        "list_con2=[5,6,7,8]\n",
        "list_con = list_con1+list_con2\n",
        "\n",
        "print(list_con)"
      ],
      "execution_count": null,
      "outputs": [
        {
          "output_type": "stream",
          "text": [
            "[1, 2, 3, 4, 5, 6, 7, 8]\n"
          ],
          "name": "stdout"
        }
      ]
    },
    {
      "cell_type": "code",
      "metadata": {
        "colab": {
          "base_uri": "https://localhost:8080/"
        },
        "id": "0ISDcX6Xoyvl",
        "outputId": "a6894ff3-58a3-4186-d112-758acbb00471"
      },
      "source": [
        "##곱하기\n",
        "list_con1=[1,2,3,4]\n",
        "list_con = list_con1*3\n",
        "\n",
        "print(list_con)"
      ],
      "execution_count": null,
      "outputs": [
        {
          "output_type": "stream",
          "text": [
            "[1, 2, 3, 4, 1, 2, 3, 4, 1, 2, 3, 4]\n"
          ],
          "name": "stdout"
        }
      ]
    },
    {
      "cell_type": "markdown",
      "metadata": {
        "id": "gxvm5Krao-A-"
      },
      "source": [
        "### 리스트 중 일부 항목 가져오기\n",
        "\n",
        "- 인덱스의 범위를 지정해 리스트 중 일부 항목을 가져 올수 있음\n",
        "\n",
        "- 리스트[i_start : i_end]\n",
        "- 리스트[i_start : i_end:i_step]\n",
        "\n",
        "- i_start,i_end,i_step은 각각 인덱스의 시작, 끝, 스템(증가 단계)\n",
        "- 인덱스의 범위를 지정하면 'i_start'에서 'i_end-1'까지의 리스트를 반환\n",
        "- i_start를 생략하면 인덱스는 0으로 간주하고 i_end를 생략하면 인덱스는 마지막이라고 간주\n",
        "\n"
      ]
    },
    {
      "cell_type": "code",
      "metadata": {
        "colab": {
          "base_uri": "https://localhost:8080/"
        },
        "id": "cb_XRcQ0p5Rm",
        "outputId": "95952bd8-2a26-41c3-bf45-8b1c26fcc693"
      },
      "source": [
        "list_data = [0,1,2,3,4,5,6,7,8,9]\n",
        "print(list_data)\n",
        "print(list_data[0:3])\n",
        "print(list_data[4:8])\n",
        "print(list_data[:3])\n",
        "print(list_data[7:])\n",
        "print(list_data[::2])"
      ],
      "execution_count": null,
      "outputs": [
        {
          "output_type": "stream",
          "text": [
            "[0, 1, 2, 3, 4, 5, 6, 7, 8, 9]\n",
            "[0, 1, 2]\n",
            "[4, 5, 6, 7]\n",
            "[0, 1, 2]\n",
            "[7, 8, 9]\n",
            "[0, 2, 4, 6, 8]\n"
          ],
          "name": "stdout"
        }
      ]
    },
    {
      "cell_type": "markdown",
      "metadata": {
        "id": "Ypo6d52eqjbm"
      },
      "source": [
        "### 리스트에서 항목 삭제하기\n",
        "- 리스트에서 인덱스가 i인 항목을 삭제하려먼 'del리스트[i]'를 이용\n",
        "\n"
      ]
    },
    {
      "cell_type": "code",
      "metadata": {
        "colab": {
          "base_uri": "https://localhost:8080/"
        },
        "id": "dIBqfEYZqzOP",
        "outputId": "d6545e3b-ec92-4ad7-dda0-bf3702fe3d38"
      },
      "source": [
        "# `del list_data[6]`을 실행해 인덱스 6의 위치에 있는 항목삭제\n",
        "print(list_data)\n",
        "del list_data[6]\n",
        "print(list_data)"
      ],
      "execution_count": 35,
      "outputs": [
        {
          "output_type": "stream",
          "text": [
            "[0, 1, 2, 3, 4, 5, 7, 8, 9]\n",
            "[0, 1, 2, 3, 4, 5, 8, 9]\n"
          ],
          "name": "stdout"
        }
      ]
    },
    {
      "cell_type": "markdown",
      "metadata": {
        "id": "VYF-T3xitoM9"
      },
      "source": [
        "### 리스트 항목의 존재 여부 확인하기\n",
        "- 리스트에 어떤 항목이 있는지 확인하려면 '항목 in 리스트'를 이용\n",
        "- 리스트에 항목이 있으면 True 없으면 False를 반환"
      ]
    },
    {
      "cell_type": "code",
      "metadata": {
        "colab": {
          "base_uri": "https://localhost:8080/"
        },
        "id": "XCTpDsGiuC0E",
        "outputId": "54352252-1b45-4ee8-cf08-1da6b507576b"
      },
      "source": [
        "# 결과에서 항목 5는 list_data1의 요소이므로 True 이고 항목 6은 아니므로 False를 반환\n",
        "list_data1 =[1,2,3,4,5]\n",
        "print(5 in list_data1)\n",
        "print(6 in list_data1)"
      ],
      "execution_count": 36,
      "outputs": [
        {
          "output_type": "stream",
          "text": [
            "True\n",
            "False\n"
          ],
          "name": "stdout"
        }
      ]
    },
    {
      "cell_type": "markdown",
      "metadata": {
        "id": "pNt9vix5uPS3"
      },
      "source": [
        "### 리스트 메서드 활용하기\n",
        "- 파이썬에서는 데이터 타입(자료형)별로 이용할 수 있는 다양한 함수를 제공하는데 이를 메서드라고 함\n",
        "- 메서드는 다음과 같은 형식으로 사용할 수 있음\n",
        "\n",
        "\n",
        "\n",
        "- 자료형.메서드이름()\n",
        "- 데이터를 변수에 할당했다면 다음과 같이 변수명을 이용할 수도 있음\n",
        "- 변수명.메서드이름()\n",
        "\n",
        "- 리스트에서는 데이터의 추가, 삽입, 삭제 등의 작업을 메서드로 수행"
      ]
    },
    {
      "cell_type": "code",
      "metadata": {
        "colab": {
          "base_uri": "https://localhost:8080/"
        },
        "id": "zWfNEvudvJX-",
        "outputId": "dbe6c4ea-322f-4179-862c-2a3351410b66"
      },
      "source": [
        "#append()는 리스트의 맨 끝에 새로운 항목을 추가하는 것이다.\n",
        "myFreinds = ['James', 'Robert', 'Lisa', 'Mary']\n",
        "print(myFreinds)\n",
        "myFreinds.append('Thomas')\n",
        "print(myFreinds)"
      ],
      "execution_count": 37,
      "outputs": [
        {
          "output_type": "stream",
          "text": [
            "['James', 'Robert', 'Lisa', 'Mary']\n",
            "['James', 'Robert', 'Lisa', 'Mary', 'Thomas']\n"
          ],
          "name": "stdout"
        }
      ]
    },
    {
      "cell_type": "markdown",
      "metadata": {
        "id": "a4kNmb7aveHh"
      },
      "source": [
        "**insert()**\n",
        "\n",
        "- insert() 메서드는 리스트의 원한는 위치에 데이터를 삽입하는데 이용\n",
        "- 자료형.insert(i,data)\n",
        "- 항목의 위치를 나타내는 인덱스 i에 data가 삽입\n",
        "- 이때 기존의 인덱스가 i이상인 항목은 인덱스가 1씩 증가하면서 이동\n"
      ]
    },
    {
      "cell_type": "code",
      "metadata": {
        "colab": {
          "base_uri": "https://localhost:8080/"
        },
        "id": "_SqoCeZxyNaz",
        "outputId": "8c865a5f-baad-4b20-c2aa-6d03a79f3a30"
      },
      "source": [
        "myFreinds = ['James', 'Robert', 'Lisa', 'Mary']\n",
        "print(myFreinds)\n",
        "myFreinds.insert(1,'Paul')\n",
        "print(myFreinds)"
      ],
      "execution_count": 38,
      "outputs": [
        {
          "output_type": "stream",
          "text": [
            "['James', 'Robert', 'Lisa', 'Mary']\n",
            "['James', 'Paul', 'Robert', 'Lisa', 'Mary']\n"
          ],
          "name": "stdout"
        }
      ]
    },
    {
      "cell_type": "markdown",
      "metadata": {
        "id": "JGidSsnAyYu5"
      },
      "source": [
        "extend()\n",
        "- extend() 메서드는 리스트의 맨 끝에 여러 개의 항목을 추가하는데 이용"
      ]
    },
    {
      "cell_type": "code",
      "metadata": {
        "colab": {
          "base_uri": "https://localhost:8080/"
        },
        "id": "cGXFEGbFyqJT",
        "outputId": "4cf23d3c-814e-4339-c6d5-df445393765d"
      },
      "source": [
        "myFreinds = ['James', 'Robert', 'Lisa', 'Mary']\n",
        "print(myFreinds)\n",
        "myFreinds.extend(['Laura','Betty'])\n",
        "print(myFreinds)"
      ],
      "execution_count": 40,
      "outputs": [
        {
          "output_type": "stream",
          "text": [
            "['James', 'Robert', 'Lisa', 'Mary']\n",
            "['James', 'Robert', 'Lisa', 'Mary', 'Laura', 'Betty']\n"
          ],
          "name": "stdout"
        }
      ]
    },
    {
      "cell_type": "markdown",
      "metadata": {
        "id": "hyHj7KkWy3cH"
      },
      "source": [
        "## 4.4 튜플\n",
        "- 튜플(Tuple)은 리스트와 유사하게 데이터 여러 개를 하나로 묶는 데 이용\n",
        "-튜플의 항목은 숫자, 문자열,불, 리스트,튜플,세트, 딕셔너리 등으로 만들 수 있음\n",
        "- 튜플의 속성은 리스트와 유사\n",
        "- 튜플 데이터는 한 번 입력(혹은 생성)하면 그 이후에는 항목을 변경할 수가 없음\n",
        "\n",
        "### 튜플 만들기\n",
        "- 튜플은 대괄호 대신 소괄호(())를 사용하거나 괄호를 사용하지 않고 데이터를 입력\n",
        "-  항목은 리스트와 마찬가지로 콤마(,)로 구분\n"
      ]
    },
    {
      "cell_type": "code",
      "metadata": {
        "colab": {
          "base_uri": "https://localhost:8080/"
        },
        "id": "tCQMs7EJXNdN",
        "outputId": "51d76f7b-8486-4692-fd44-bee568486437"
      },
      "source": [
        "tuple1 = (1,2,3,4)\n",
        "tuple1"
      ],
      "execution_count": 1,
      "outputs": [
        {
          "output_type": "execute_result",
          "data": {
            "text/plain": [
              "(1, 2, 3, 4)"
            ]
          },
          "metadata": {
            "tags": []
          },
          "execution_count": 1
        }
      ]
    },
    {
      "cell_type": "code",
      "metadata": {
        "colab": {
          "base_uri": "https://localhost:8080/"
        },
        "id": "Kqv2ejJSXQsw",
        "outputId": "2bc34219-b08f-455c-fcfc-3993d2c7b9da"
      },
      "source": [
        "#type()을 이용하여 앞에서 생성한 tuple1의 데이터 타입확인\n",
        "type(tuple1)"
      ],
      "execution_count": 2,
      "outputs": [
        {
          "output_type": "execute_result",
          "data": {
            "text/plain": [
              "tuple"
            ]
          },
          "metadata": {
            "tags": []
          },
          "execution_count": 2
        }
      ]
    },
    {
      "cell_type": "code",
      "metadata": {
        "colab": {
          "base_uri": "https://localhost:8080/"
        },
        "id": "S0PyOHQbXY7X",
        "outputId": "dc92da8c-5df4-405d-870f-86279a1e12af"
      },
      "source": [
        "#리스트처럼 튜플도 '변수명[i]'로 튜플의 각 요소를 지정\n",
        "tuple1[1]"
      ],
      "execution_count": 4,
      "outputs": [
        {
          "output_type": "execute_result",
          "data": {
            "text/plain": [
              "2"
            ]
          },
          "metadata": {
            "tags": []
          },
          "execution_count": 4
        }
      ]
    },
    {
      "cell_type": "code",
      "metadata": {
        "colab": {
          "base_uri": "https://localhost:8080/"
        },
        "id": "7gCu40jmXiXV",
        "outputId": "343fe022-5fca-46d8-e4aa-9a700775ecbb"
      },
      "source": [
        "#소괄호를 사용하지 않고 튜플을 생성\n",
        "tuple2 = 5,6,7,8\n",
        "print(tuple2)"
      ],
      "execution_count": 5,
      "outputs": [
        {
          "output_type": "stream",
          "text": [
            "(5, 6, 7, 8)\n"
          ],
          "name": "stdout"
        }
      ]
    },
    {
      "cell_type": "code",
      "metadata": {
        "colab": {
          "base_uri": "https://localhost:8080/"
        },
        "id": "oIanp6XnfgTa",
        "outputId": "9825cd4a-1b7a-462b-9bcc-23e985883298"
      },
      "source": [
        "type(tuple2)"
      ],
      "execution_count": 6,
      "outputs": [
        {
          "output_type": "execute_result",
          "data": {
            "text/plain": [
              "tuple"
            ]
          },
          "metadata": {
            "tags": []
          },
          "execution_count": 6
        }
      ]
    },
    {
      "cell_type": "markdown",
      "metadata": {
        "id": "r-OI-ElZfiLQ"
      },
      "source": [
        "- 항목을 하나만 갖는 튜플을 생성할 때는 항목을 입력한 후에 반드시 콤마(,)를 입력\n",
        "- 소괄호가 있거나 없거나 모두 콤마를 반드시 입력\n"
      ]
    },
    {
      "cell_type": "code",
      "metadata": {
        "colab": {
          "base_uri": "https://localhost:8080/"
        },
        "id": "z4kqXUvCkpcW",
        "outputId": "759b63c7-d901-4fe9-e0d3-0f72859bb812"
      },
      "source": [
        "tuple3 = (9,) #반드시 쉼표(,)가 필요하다.\n",
        "tuple4= 10,\n",
        "print(tuple3)\n",
        "print(tuple4)"
      ],
      "execution_count": 8,
      "outputs": [
        {
          "output_type": "stream",
          "text": [
            "(9,)\n",
            "(10,)\n"
          ],
          "name": "stdout"
        }
      ]
    },
    {
      "cell_type": "markdown",
      "metadata": {
        "id": "EaWQPUl0k1cQ"
      },
      "source": [
        "### 튜플다루기"
      ]
    },
    {
      "cell_type": "markdown",
      "metadata": {
        "id": "LGC68zJZlPsn"
      },
      "source": [
        "- 한번 생성된 튜플은 요소를 변경하거나 삭제할 수 없음\n",
        "- 튜플의 이런 특성으로 튜플은 한 번 생성한 후에 요소를 변경할 필요가 없거나 변경할 수 없도록 하고 싶을 떄 주로 이용\n"
      ]
    },
    {
      "cell_type": "code",
      "metadata": {
        "colab": {
          "base_uri": "https://localhost:8080/",
          "height": 181
        },
        "id": "3YR-nj4xlaMG",
        "outputId": "3ae07842-25e8-4dce-969a-974543ac7d46"
      },
      "source": [
        "tuple5= (1,2,3,4)\n",
        "tuple5[1] = 5 #한번 생성된 튜플 요 소는 삭제되지 않음\n"
      ],
      "execution_count": 9,
      "outputs": [
        {
          "output_type": "error",
          "ename": "TypeError",
          "evalue": "ignored",
          "traceback": [
            "\u001b[0;31m---------------------------------------------------------------------------\u001b[0m",
            "\u001b[0;31mTypeError\u001b[0m                                 Traceback (most recent call last)",
            "\u001b[0;32m<ipython-input-9-04b37af80198>\u001b[0m in \u001b[0;36m<module>\u001b[0;34m()\u001b[0m\n\u001b[1;32m      1\u001b[0m \u001b[0mtuple5\u001b[0m\u001b[0;34m=\u001b[0m \u001b[0;34m(\u001b[0m\u001b[0;36m1\u001b[0m\u001b[0;34m,\u001b[0m\u001b[0;36m2\u001b[0m\u001b[0;34m,\u001b[0m\u001b[0;36m3\u001b[0m\u001b[0;34m,\u001b[0m\u001b[0;36m4\u001b[0m\u001b[0;34m)\u001b[0m\u001b[0;34m\u001b[0m\u001b[0;34m\u001b[0m\u001b[0m\n\u001b[0;32m----> 2\u001b[0;31m \u001b[0mtuple5\u001b[0m\u001b[0;34m[\u001b[0m\u001b[0;36m1\u001b[0m\u001b[0;34m]\u001b[0m \u001b[0;34m=\u001b[0m \u001b[0;36m5\u001b[0m \u001b[0;31m#한번 생성된 튜플 요 소는 삭제되지 않음\u001b[0m\u001b[0;34m\u001b[0m\u001b[0;34m\u001b[0m\u001b[0m\n\u001b[0m",
            "\u001b[0;31mTypeError\u001b[0m: 'tuple' object does not support item assignment"
          ]
        }
      ]
    },
    {
      "cell_type": "markdown",
      "metadata": {
        "id": "X2wZt2qGljIq"
      },
      "source": [
        "- 튜플의 요소를 변경하거나 삭제하는 메서드는 튜플에서 이용할 수 없지만 index()메서드나 count()메서드 처럼 요소를 변경하지 않는 메서드는 튜플에서도 사용할 수 있음\n",
        "- index()메서드는 인자와 일치하는 첫 번째 항목의 위치를 반환한다.\n",
        "- count()메서드는 인자와 일치하는 항목의 개수를 반환한다."
      ]
    },
    {
      "cell_type": "code",
      "metadata": {
        "colab": {
          "base_uri": "https://localhost:8080/"
        },
        "id": "r0glmx-1l39j",
        "outputId": "9c6a0204-c8bb-43a2-b679-bf5a0738eece"
      },
      "source": [
        "tuple6=('a','b','c','d','e','f')\n",
        "tuple6.index('c')"
      ],
      "execution_count": 11,
      "outputs": [
        {
          "output_type": "execute_result",
          "data": {
            "text/plain": [
              "2"
            ]
          },
          "metadata": {
            "tags": []
          },
          "execution_count": 11
        }
      ]
    },
    {
      "cell_type": "markdown",
      "metadata": {
        "id": "t37HcMytl_uf"
      },
      "source": [
        "- index() 메서드의 인자 c와 일치하는 튜플의 위치는 세번째이므로 2를 반환했음\n",
        "- 특정 인자와 일치하는 항목의 개수를 알고 싶을 때는 count() 메서드를 이용\n"
      ]
    },
    {
      "cell_type": "code",
      "metadata": {
        "colab": {
          "base_uri": "https://localhost:8080/"
        },
        "id": "OW7a-cxxmX6Q",
        "outputId": "4cd89824-c889-428a-c1b1-d1f0a31ad9aa"
      },
      "source": [
        "# count() 메서드의 인자 'a'와 일치하는 튜플 항목으 ㅣ개수는 3개이므로 3을 반환\n",
        "tuple7 = ('a','a','a','b','b','c','d')\n",
        "tuple7.count('a')"
      ],
      "execution_count": 14,
      "outputs": [
        {
          "output_type": "execute_result",
          "data": {
            "text/plain": [
              "3"
            ]
          },
          "metadata": {
            "tags": []
          },
          "execution_count": 14
        }
      ]
    },
    {
      "cell_type": "markdown",
      "metadata": {
        "id": "lmirCO51mjO3"
      },
      "source": [
        "## 4.5 세트\n",
        "- 세트는 수학의 집합 개념을 파이썬에서 이용할 수 있도록 만든 데이터 타입\n",
        "- 세트가 리스트와 튜플과 다른 점은 데이터의 순서가 없고 데이터를 중복해서 쓸 수 없다는 것\n",
        "- 세트는 리스트에서 사용했던 메서드 외에 집합의 기본이 되는 교집합, 합집합, 차집합을 구하는 메서드를 사용할 수 있음\n",
        "\n"
      ]
    },
    {
      "cell_type": "markdown",
      "metadata": {
        "id": "jpD_w8xOnE1S"
      },
      "source": [
        "### 세트만들기"
      ]
    },
    {
      "cell_type": "markdown",
      "metadata": {
        "id": "sEGkhM0enJBk"
      },
      "source": [
        "- 세트를 생성할 때는 중괄호({})로 데이터를 감싸면됨\n",
        "- 항목과 항목 사이에는 리스트나 튜플과 마찬가지로 콤마(,)가 들어감"
      ]
    },
    {
      "cell_type": "code",
      "metadata": {
        "colab": {
          "base_uri": "https://localhost:8080/"
        },
        "id": "Tpf-Fs0InThG",
        "outputId": "a1a50e6b-4de6-4f36-a038-43b545a22c78"
      },
      "source": [
        "set1= {1,2,3,}\n",
        "set1a={1,2,3,3}\n",
        "print(set1)\n",
        "print(set1a)"
      ],
      "execution_count": 15,
      "outputs": [
        {
          "output_type": "stream",
          "text": [
            "{1, 2, 3}\n",
            "{1, 2, 3}\n"
          ],
          "name": "stdout"
        }
      ]
    },
    {
      "cell_type": "markdown",
      "metadata": {
        "id": "bdbz0LCzncbp"
      },
      "source": [
        "- 두개의 변수(set1, set1a)에 각각 세트를 생성해 대입\n",
        "- 변수 set1a에는 3을 중복해서 대입했지만 출력된 결과를 보면 set1a에는 중복된 데이터는 하나만 입력된 것을 볼수 있음\n",
        "\n",
        "- 세트의 데이터 타입을 확인하기 위해서는 type()함수를 이용"
      ]
    },
    {
      "cell_type": "code",
      "metadata": {
        "colab": {
          "base_uri": "https://localhost:8080/"
        },
        "id": "sjhIIMLfn17D",
        "outputId": "46f40685-c076-4bd8-acbc-ed754fc34109"
      },
      "source": [
        "type(set1)"
      ],
      "execution_count": 16,
      "outputs": [
        {
          "output_type": "execute_result",
          "data": {
            "text/plain": [
              "set"
            ]
          },
          "metadata": {
            "tags": []
          },
          "execution_count": 16
        }
      ]
    },
    {
      "cell_type": "markdown",
      "metadata": {
        "id": "iC7fyMF0n4DS"
      },
      "source": [
        "### 세트의 교집합 합집합 차집합 구하기"
      ]
    },
    {
      "cell_type": "markdown",
      "metadata": {
        "id": "EbPt8P3-n7hJ"
      },
      "source": [
        "- 세트에서 사용할 수 있는 교집합, 합집합, 차집합 메서드를 이용\n",
        "\n",
        "- 교집합(intersection): 두 집합 A와 B가 있을 때 집합 A에도 속하고 집합B에도 속하는 원소로 이뤄진 집합\n",
        "- 합집합(union):두 집합 A와 B가 있을 때 집합 A에 속하거나 집합 B에 속하는 워소로 이뤄진 집합\n",
        "- 차집합(difference):두 집합 A와 B가 있을 때 집합A에는 속하고 집합 B에는 속하지 않은 워소로 이뤄진 집합\n",
        "\n",
        "- 교집합, 합집합, 차집합을 위한 메서드는 각각 intersection(), union(), difference()"
      ]
    },
    {
      "cell_type": "code",
      "metadata": {
        "colab": {
          "base_uri": "https://localhost:8080/"
        },
        "id": "gx-12mhypJYN",
        "outputId": "2c88504e-df4c-45f6-c0b6-ac8036b000ca"
      },
      "source": [
        "A = {1,2,3,4,5}\n",
        "B ={4,5,6,7,8,9,10}\n",
        "A.intersection(B)"
      ],
      "execution_count": 18,
      "outputs": [
        {
          "output_type": "execute_result",
          "data": {
            "text/plain": [
              "{4, 5}"
            ]
          },
          "metadata": {
            "tags": []
          },
          "execution_count": 18
        }
      ]
    },
    {
      "cell_type": "code",
      "metadata": {
        "colab": {
          "base_uri": "https://localhost:8080/"
        },
        "id": "h6vipF4wpocn",
        "outputId": "5bfafd46-bbfa-4105-9ae2-ef612d6360e5"
      },
      "source": [
        "A.union(B)"
      ],
      "execution_count": 19,
      "outputs": [
        {
          "output_type": "execute_result",
          "data": {
            "text/plain": [
              "{1, 2, 3, 4, 5, 6, 7, 8, 9, 10}"
            ]
          },
          "metadata": {
            "tags": []
          },
          "execution_count": 19
        }
      ]
    },
    {
      "cell_type": "code",
      "metadata": {
        "colab": {
          "base_uri": "https://localhost:8080/"
        },
        "id": "59z1cyYLprwl",
        "outputId": "b3c2cb0a-74b6-4978-9da1-a9b22a663b12"
      },
      "source": [
        "A.difference(B)"
      ],
      "execution_count": 20,
      "outputs": [
        {
          "output_type": "execute_result",
          "data": {
            "text/plain": [
              "{1, 2, 3}"
            ]
          },
          "metadata": {
            "tags": []
          },
          "execution_count": 20
        }
      ]
    },
    {
      "cell_type": "markdown",
      "metadata": {
        "id": "pIo5ihzcptTu"
      },
      "source": [
        "### 리스트 튜플, 세트 간 타입 변환"
      ]
    },
    {
      "cell_type": "markdown",
      "metadata": {
        "id": "wiq51HPCp1Eh"
      },
      "source": [
        "- 여러 데이터를 다루다 보면 연산이나 처리를 할 때 데이터의 타입을 변환해야 할 필요가 있다.\n",
        "- 데이터 타입은 list(), tuple(), set()을 이용해서 서로 변환"
      ]
    },
    {
      "cell_type": "code",
      "metadata": {
        "id": "cF5P5R-0qIYU"
      },
      "source": [
        "a=[1,2,3,4,5]"
      ],
      "execution_count": 32,
      "outputs": []
    },
    {
      "cell_type": "code",
      "metadata": {
        "colab": {
          "base_uri": "https://localhost:8080/"
        },
        "id": "EyShTbZdqZ5j",
        "outputId": "edd18e36-205f-422e-9a58-939de69fe150"
      },
      "source": [
        "type(a)"
      ],
      "execution_count": 33,
      "outputs": [
        {
          "output_type": "execute_result",
          "data": {
            "text/plain": [
              "list"
            ]
          },
          "metadata": {
            "tags": []
          },
          "execution_count": 33
        }
      ]
    },
    {
      "cell_type": "code",
      "metadata": {
        "colab": {
          "base_uri": "https://localhost:8080/"
        },
        "id": "fG350pN6qa-_",
        "outputId": "7237c451-02c7-42c1-f056-d5e7cac29459"
      },
      "source": [
        "#리스트를 세트로 변환\n",
        "b = set(g)\n",
        "b"
      ],
      "execution_count": 36,
      "outputs": [
        {
          "output_type": "execute_result",
          "data": {
            "text/plain": [
              "{1, 2, 3, 4, 5}"
            ]
          },
          "metadata": {
            "tags": []
          },
          "execution_count": 36
        }
      ]
    },
    {
      "cell_type": "code",
      "metadata": {
        "colab": {
          "base_uri": "https://localhost:8080/"
        },
        "id": "fML2dKVqqfXM",
        "outputId": "6df412c7-3cf8-43d5-89aa-a56010f57bd0"
      },
      "source": [
        "type(b)"
      ],
      "execution_count": 37,
      "outputs": [
        {
          "output_type": "execute_result",
          "data": {
            "text/plain": [
              "set"
            ]
          },
          "metadata": {
            "tags": []
          },
          "execution_count": 37
        }
      ]
    },
    {
      "cell_type": "code",
      "metadata": {
        "colab": {
          "base_uri": "https://localhost:8080/"
        },
        "id": "UYvS7UDar4Kk",
        "outputId": "eed95bae-1c1a-4169-9d64-7ad1e9065478"
      },
      "source": [
        "c=list(b)\n",
        "c"
      ],
      "execution_count": 45,
      "outputs": [
        {
          "output_type": "execute_result",
          "data": {
            "text/plain": [
              "[1, 2, 3, 4]"
            ]
          },
          "metadata": {
            "tags": []
          },
          "execution_count": 45
        }
      ]
    },
    {
      "cell_type": "markdown",
      "metadata": {
        "id": "EpYm-pQgxwxO"
      },
      "source": [
        "## 4.6 딕셔너리\n",
        "- 파이썬의 딕셔너리도 사전과 유사하게 구성\n",
        "- 사전의 표제어와 설명은 파이썬에서 각각 키(key)와 값(value)\n",
        "- 딕셔너리는 키와 값이 항상 쌍으로 구성\n",
        "- 리스타나 튜플은 인덱스를 이용해 항목을 다퉛지만 딕셔너리는 인덱스 대신 키를 이용해 값을 다룸\n",
        "- 리스트나 튜플에서 인덱스는 0부터 시작하는 숫자였지만 딕셔너리의 키는 임의로 지정한 숫자나 문자열이 될 수 있음 \n",
        "-값으로는 어떤 데이터 타입도 사용할 수 있음\n",
        "\n",
        "### 딕셔너리 만들기\n",
        "\n",
        "- 딕셔너리를 만들려면 딕셔너리 데이터 전체를 중괄호({})로 감싸면됨\n",
        "\n",
        "- 키와 값의 구분은 콜론(:)으로 함\n",
        "- 키와 값으로 이뤄진 각 쌍은 콤마(,)로 구분\n"
      ]
    },
    {
      "cell_type": "code",
      "metadata": {
        "colab": {
          "base_uri": "https://localhost:8080/"
        },
        "id": "rA1mMU1eydwV",
        "outputId": "1e9a08de-7dc0-4391-f35b-d157cd0df305"
      },
      "source": [
        "country_capital = {\"영국\":\"런던\", \"프랑스\":\"파리\", \"스위스\":\"베른\", \"호주\":\"멜버른\", \"덴마크\":\"코펜하겐\"}\n",
        "country_capital"
      ],
      "execution_count": 50,
      "outputs": [
        {
          "output_type": "execute_result",
          "data": {
            "text/plain": [
              "{'덴마크': '코펜하겐', '스위스': '베른', '영국': '런던', '프랑스': '파리', '호주': '멜버른'}"
            ]
          },
          "metadata": {
            "tags": []
          },
          "execution_count": 50
        }
      ]
    },
    {
      "cell_type": "markdown",
      "metadata": {
        "id": "ZwbQcKWBypR0"
      },
      "source": [
        "- 코드와 출력도니 결과를 비교해 보면 딕셔너리의 경우 입력한 순서대로 출력되지 않는 것을 알 수 있음\n",
        "- 딕셔너리의 순서보다 키와 값의 쌍으로 데이터를 입력해야할 때 주로 이용\n"
      ]
    },
    {
      "cell_type": "code",
      "metadata": {
        "colab": {
          "base_uri": "https://localhost:8080/"
        },
        "id": "RT7Wya_nzT8o",
        "outputId": "6a52d124-817e-4024-8055-d485c334a260"
      },
      "source": [
        "#생성한 변수 country_capital의 타입\n",
        "type(country_capital)"
      ],
      "execution_count": 53,
      "outputs": [
        {
          "output_type": "execute_result",
          "data": {
            "text/plain": [
              "dict"
            ]
          },
          "metadata": {
            "tags": []
          },
          "execution_count": 53
        }
      ]
    },
    {
      "cell_type": "code",
      "metadata": {
        "colab": {
          "base_uri": "https://localhost:8080/",
          "height": 35
        },
        "id": "MSf8PGVQzdM0",
        "outputId": "0cb4f9b5-dc52-4a90-cb01-40b5aadecf49"
      },
      "source": [
        "#지정한 키의 값만을 얻고 싶으면 딕셔너리 변수에 원하는 \"키\"를 넣으면됨\n",
        "country_capital[\"영국\"]"
      ],
      "execution_count": 55,
      "outputs": [
        {
          "output_type": "execute_result",
          "data": {
            "application/vnd.google.colaboratory.intrinsic+json": {
              "type": "string"
            },
            "text/plain": [
              "'런던'"
            ]
          },
          "metadata": {
            "tags": []
          },
          "execution_count": 55
        }
      ]
    },
    {
      "cell_type": "markdown",
      "metadata": {
        "id": "e0UiHdCPzsOh"
      },
      "source": [
        "\n",
        "- 딕셔너리의 키는 숫자와 문자열이 될 수 있고 값은 어떤 데이터 형태도 올 수 있음\n",
        "- 우선 키는 숫자로, 값은 문자열로 입력\n",
        "\n"
      ]
    },
    {
      "cell_type": "code",
      "metadata": {
        "colab": {
          "base_uri": "https://localhost:8080/"
        },
        "id": "tryhrI7c0FCi",
        "outputId": "0f4bc811-7acf-40e6-cb6a-16fa4467de87"
      },
      "source": [
        "dict_data1 = {1:\"버스\", 3:\"비행기\",4:\"택시\",5:\"자전거\"}\n",
        "dict_data1"
      ],
      "execution_count": 58,
      "outputs": [
        {
          "output_type": "execute_result",
          "data": {
            "text/plain": [
              "{1: '버스', 3: '비행기', 4: '택시', 5: '자전거'}"
            ]
          },
          "metadata": {
            "tags": []
          },
          "execution_count": 58
        }
      ]
    },
    {
      "cell_type": "code",
      "metadata": {
        "colab": {
          "base_uri": "https://localhost:8080/",
          "height": 35
        },
        "id": "fLLWZOYG0HPh",
        "outputId": "d191857f-0ea8-4d5f-947f-2b59b2720759"
      },
      "source": [
        "# 딕셔너리에서 키를 3으로 지정해 출력\n",
        "dict_data1[3]"
      ],
      "execution_count": 59,
      "outputs": [
        {
          "output_type": "execute_result",
          "data": {
            "application/vnd.google.colaboratory.intrinsic+json": {
              "type": "string"
            },
            "text/plain": [
              "'비행기'"
            ]
          },
          "metadata": {
            "tags": []
          },
          "execution_count": 59
        }
      ]
    },
    {
      "cell_type": "markdown",
      "metadata": {
        "id": "kpoKvc3A0l31"
      },
      "source": [
        "- dict_data1[3]에서 입력된 3은 딕셔너리 카이지, 리시트의 인덱스처럼 위치를 뜻하는 3이 아님\n",
        "- 키와 값이 모두 숫자인 딕셔너리\n"
      ]
    },
    {
      "cell_type": "code",
      "metadata": {
        "colab": {
          "base_uri": "https://localhost:8080/"
        },
        "id": "WcgPI8xj0-wx",
        "outputId": "4c74e321-041e-4a1d-c1c2-cd45be9a5d25"
      },
      "source": [
        "dict_data2 = {1:10, 2:20, 3:30, 4:40, 5:50}\n",
        "print(dict_data2)\n",
        "print(dict_data2[4])"
      ],
      "execution_count": 60,
      "outputs": [
        {
          "output_type": "stream",
          "text": [
            "{1: 10, 2: 20, 3: 30, 4: 40, 5: 50}\n",
            "40\n"
          ],
          "name": "stdout"
        }
      ]
    },
    {
      "cell_type": "markdown",
      "metadata": {
        "id": "7HTbu16Y1XKd"
      },
      "source": [
        "- 키가 문자열이고 값은 리스트인 딕셔너리\n"
      ]
    },
    {
      "cell_type": "code",
      "metadata": {
        "colab": {
          "base_uri": "https://localhost:8080/"
        },
        "id": "uCgSZL491cvl",
        "outputId": "0fd58e1b-b556-46a9-d9ed-4d2e6256f000"
      },
      "source": [
        "dict_data3 = {\"list_data1\":[11,12,13],\"list_data2\":[21,22,23]}\n",
        "print(dict_data3)\n",
        "print(dict_data3[\"list_data2\"])"
      ],
      "execution_count": 63,
      "outputs": [
        {
          "output_type": "stream",
          "text": [
            "{'list_data1': [11, 12, 13], 'list_data2': [21, 22, 23]}\n",
            "[21, 22, 23]\n"
          ],
          "name": "stdout"
        }
      ]
    },
    {
      "cell_type": "markdown",
      "metadata": {
        "id": "RDlG5arY3eFt"
      },
      "source": [
        "- 다양한 형태의 키와 값을 갖는 딕셔너리\n"
      ]
    },
    {
      "cell_type": "code",
      "metadata": {
        "colab": {
          "base_uri": "https://localhost:8080/"
        },
        "id": "TDYWtPDF32CX",
        "outputId": "e5e137cd-6763-444f-89d6-81c2daf65ac7"
      },
      "source": [
        "mixed_dict = {1:10, 'dict_num':{1:10,2:20}, \"dict_list_tuple\":{\"A\":[11,12,13], \"B\":(21,22,34)}, \"dict_string\":\"이것은 책입니다.\"}\n",
        "mixed_dict"
      ],
      "execution_count": 69,
      "outputs": [
        {
          "output_type": "execute_result",
          "data": {
            "text/plain": [
              "{1: 10,\n",
              " 'dict_list_tuple': {'A': [11, 12, 13], 'B': (21, 22, 34)},\n",
              " 'dict_num': {1: 10, 2: 20},\n",
              " 'dict_string': '이것은 책입니다.'}"
            ]
          },
          "metadata": {
            "tags": []
          },
          "execution_count": 69
        }
      ]
    },
    {
      "cell_type": "markdown",
      "metadata": {
        "id": "_NpNkO2R5qG5"
      },
      "source": [
        "- 키에 사용할 수 있는 데이터 타입은 숫자나 문자열이지만 값에는 숫자, 문자열, 튜플, 리스트, 딕셔너리 등 다양한 데이터를 사용할 수 있음\n"
      ]
    }
  ]
}