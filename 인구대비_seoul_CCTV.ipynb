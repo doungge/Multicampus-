{
  "nbformat": 4,
  "nbformat_minor": 0,
  "metadata": {
    "colab": {
      "name": "인구대비 seoul CCTV.ipynb",
      "provenance": [],
      "authorship_tag": "ABX9TyPuhGxemgYFJzaZ7c99nosx",
      "include_colab_link": true
    },
    "kernelspec": {
      "name": "python3",
      "display_name": "Python 3"
    },
    "language_info": {
      "name": "python"
    }
  },
  "cells": [
    {
      "cell_type": "markdown",
      "metadata": {
        "id": "view-in-github",
        "colab_type": "text"
      },
      "source": [
        "<a href=\"https://colab.research.google.com/github/doungge/Multicampus-/blob/master/%EC%9D%B8%EA%B5%AC%EB%8C%80%EB%B9%84_seoul_CCTV.ipynb\" target=\"_parent\"><img src=\"https://colab.research.google.com/assets/colab-badge.svg\" alt=\"Open In Colab\"/></a>"
      ]
    },
    {
      "cell_type": "markdown",
      "metadata": {
        "id": "NymT-DlPCdUf"
      },
      "source": [
        "# 서울시 인구대비 Seoul CCTV 증가율에 대한 데이터 분석\n",
        "___\n",
        "두개의 데이터를 합쳐서 분석해보기"
      ]
    },
    {
      "cell_type": "code",
      "metadata": {
        "id": "BZ-Nofh4AfeI"
      },
      "source": [
        "#한글 폰트사용\n",
        "import matplotlib.pyplot as plt\n",
        "import matplotlib as mpl\n",
        "\n",
        "mpl.rcParams['axes.unicode_minus']= False\n",
        "plt.rc('font', family='NanumBarunGothic')\n",
        "#오류안보이게 하기\n",
        "import warnings\n",
        "warnings.filterwarnings('ignore')"
      ],
      "execution_count": 3,
      "outputs": []
    },
    {
      "cell_type": "code",
      "metadata": {
        "colab": {
          "base_uri": "https://localhost:8080/"
        },
        "id": "-azSlm9HBcwU",
        "outputId": "2af32dfa-7fe1-489d-ab00-c748848d504f"
      },
      "source": [
        "!ls"
      ],
      "execution_count": 4,
      "outputs": [
        {
          "output_type": "stream",
          "text": [
            "sample_data  seoulCCTV.csv  seoulPopulation.xls\n"
          ],
          "name": "stdout"
        }
      ]
    },
    {
      "cell_type": "code",
      "metadata": {
        "colab": {
          "base_uri": "https://localhost:8080/",
          "height": 203
        },
        "id": "KnEBB9_FBkdP",
        "outputId": "05c7b296-72ce-49df-e922-444ee5803165"
      },
      "source": [
        "import pandas as pd\n",
        "import numpy as np\n",
        "\n",
        "SDF = pd.read_csv('seoulCCTV.csv', encoding = 'utf-8')\n",
        "SDF.head()"
      ],
      "execution_count": 5,
      "outputs": [
        {
          "output_type": "execute_result",
          "data": {
            "text/html": [
              "<div>\n",
              "<style scoped>\n",
              "    .dataframe tbody tr th:only-of-type {\n",
              "        vertical-align: middle;\n",
              "    }\n",
              "\n",
              "    .dataframe tbody tr th {\n",
              "        vertical-align: top;\n",
              "    }\n",
              "\n",
              "    .dataframe thead th {\n",
              "        text-align: right;\n",
              "    }\n",
              "</style>\n",
              "<table border=\"1\" class=\"dataframe\">\n",
              "  <thead>\n",
              "    <tr style=\"text-align: right;\">\n",
              "      <th></th>\n",
              "      <th>기관명</th>\n",
              "      <th>소계</th>\n",
              "      <th>2013년도 이전</th>\n",
              "      <th>2014년</th>\n",
              "      <th>2015년</th>\n",
              "      <th>2016년</th>\n",
              "    </tr>\n",
              "  </thead>\n",
              "  <tbody>\n",
              "    <tr>\n",
              "      <th>0</th>\n",
              "      <td>강남구</td>\n",
              "      <td>2780</td>\n",
              "      <td>1292</td>\n",
              "      <td>430</td>\n",
              "      <td>584</td>\n",
              "      <td>932</td>\n",
              "    </tr>\n",
              "    <tr>\n",
              "      <th>1</th>\n",
              "      <td>강동구</td>\n",
              "      <td>773</td>\n",
              "      <td>379</td>\n",
              "      <td>99</td>\n",
              "      <td>155</td>\n",
              "      <td>377</td>\n",
              "    </tr>\n",
              "    <tr>\n",
              "      <th>2</th>\n",
              "      <td>강북구</td>\n",
              "      <td>748</td>\n",
              "      <td>369</td>\n",
              "      <td>120</td>\n",
              "      <td>138</td>\n",
              "      <td>204</td>\n",
              "    </tr>\n",
              "    <tr>\n",
              "      <th>3</th>\n",
              "      <td>강서구</td>\n",
              "      <td>884</td>\n",
              "      <td>388</td>\n",
              "      <td>258</td>\n",
              "      <td>184</td>\n",
              "      <td>81</td>\n",
              "    </tr>\n",
              "    <tr>\n",
              "      <th>4</th>\n",
              "      <td>관악구</td>\n",
              "      <td>1496</td>\n",
              "      <td>846</td>\n",
              "      <td>260</td>\n",
              "      <td>390</td>\n",
              "      <td>613</td>\n",
              "    </tr>\n",
              "  </tbody>\n",
              "</table>\n",
              "</div>"
            ],
            "text/plain": [
              "   기관명    소계  2013년도 이전  2014년  2015년  2016년\n",
              "0  강남구  2780       1292    430    584    932\n",
              "1  강동구   773        379     99    155    377\n",
              "2  강북구   748        369    120    138    204\n",
              "3  강서구   884        388    258    184     81\n",
              "4  관악구  1496        846    260    390    613"
            ]
          },
          "metadata": {
            "tags": []
          },
          "execution_count": 5
        }
      ]
    },
    {
      "cell_type": "code",
      "metadata": {
        "colab": {
          "base_uri": "https://localhost:8080/",
          "height": 203
        },
        "id": "JVt66xwUBxIH",
        "outputId": "dd7b1bbf-92c4-40cc-aec2-420d251f6c54"
      },
      "source": [
        "# 기관명을 구별로 바꾸기\n",
        "SDF.rename(columns={SDF.columns[0] : '구별'}, inplace= True)\n",
        "SDF.head()"
      ],
      "execution_count": 6,
      "outputs": [
        {
          "output_type": "execute_result",
          "data": {
            "text/html": [
              "<div>\n",
              "<style scoped>\n",
              "    .dataframe tbody tr th:only-of-type {\n",
              "        vertical-align: middle;\n",
              "    }\n",
              "\n",
              "    .dataframe tbody tr th {\n",
              "        vertical-align: top;\n",
              "    }\n",
              "\n",
              "    .dataframe thead th {\n",
              "        text-align: right;\n",
              "    }\n",
              "</style>\n",
              "<table border=\"1\" class=\"dataframe\">\n",
              "  <thead>\n",
              "    <tr style=\"text-align: right;\">\n",
              "      <th></th>\n",
              "      <th>구별</th>\n",
              "      <th>소계</th>\n",
              "      <th>2013년도 이전</th>\n",
              "      <th>2014년</th>\n",
              "      <th>2015년</th>\n",
              "      <th>2016년</th>\n",
              "    </tr>\n",
              "  </thead>\n",
              "  <tbody>\n",
              "    <tr>\n",
              "      <th>0</th>\n",
              "      <td>강남구</td>\n",
              "      <td>2780</td>\n",
              "      <td>1292</td>\n",
              "      <td>430</td>\n",
              "      <td>584</td>\n",
              "      <td>932</td>\n",
              "    </tr>\n",
              "    <tr>\n",
              "      <th>1</th>\n",
              "      <td>강동구</td>\n",
              "      <td>773</td>\n",
              "      <td>379</td>\n",
              "      <td>99</td>\n",
              "      <td>155</td>\n",
              "      <td>377</td>\n",
              "    </tr>\n",
              "    <tr>\n",
              "      <th>2</th>\n",
              "      <td>강북구</td>\n",
              "      <td>748</td>\n",
              "      <td>369</td>\n",
              "      <td>120</td>\n",
              "      <td>138</td>\n",
              "      <td>204</td>\n",
              "    </tr>\n",
              "    <tr>\n",
              "      <th>3</th>\n",
              "      <td>강서구</td>\n",
              "      <td>884</td>\n",
              "      <td>388</td>\n",
              "      <td>258</td>\n",
              "      <td>184</td>\n",
              "      <td>81</td>\n",
              "    </tr>\n",
              "    <tr>\n",
              "      <th>4</th>\n",
              "      <td>관악구</td>\n",
              "      <td>1496</td>\n",
              "      <td>846</td>\n",
              "      <td>260</td>\n",
              "      <td>390</td>\n",
              "      <td>613</td>\n",
              "    </tr>\n",
              "  </tbody>\n",
              "</table>\n",
              "</div>"
            ],
            "text/plain": [
              "    구별    소계  2013년도 이전  2014년  2015년  2016년\n",
              "0  강남구  2780       1292    430    584    932\n",
              "1  강동구   773        379     99    155    377\n",
              "2  강북구   748        369    120    138    204\n",
              "3  강서구   884        388    258    184     81\n",
              "4  관악구  1496        846    260    390    613"
            ]
          },
          "metadata": {
            "tags": []
          },
          "execution_count": 6
        }
      ]
    },
    {
      "cell_type": "code",
      "metadata": {
        "colab": {
          "base_uri": "https://localhost:8080/",
          "height": 203
        },
        "id": "iIJQQKsBEEDR",
        "outputId": "a9db8d0c-00fa-4546-b2a4-7644dbf6203a"
      },
      "source": [
        "SDF.sort_values(by='소계', ascending=True).head()"
      ],
      "execution_count": 7,
      "outputs": [
        {
          "output_type": "execute_result",
          "data": {
            "text/html": [
              "<div>\n",
              "<style scoped>\n",
              "    .dataframe tbody tr th:only-of-type {\n",
              "        vertical-align: middle;\n",
              "    }\n",
              "\n",
              "    .dataframe tbody tr th {\n",
              "        vertical-align: top;\n",
              "    }\n",
              "\n",
              "    .dataframe thead th {\n",
              "        text-align: right;\n",
              "    }\n",
              "</style>\n",
              "<table border=\"1\" class=\"dataframe\">\n",
              "  <thead>\n",
              "    <tr style=\"text-align: right;\">\n",
              "      <th></th>\n",
              "      <th>구별</th>\n",
              "      <th>소계</th>\n",
              "      <th>2013년도 이전</th>\n",
              "      <th>2014년</th>\n",
              "      <th>2015년</th>\n",
              "      <th>2016년</th>\n",
              "    </tr>\n",
              "  </thead>\n",
              "  <tbody>\n",
              "    <tr>\n",
              "      <th>9</th>\n",
              "      <td>도봉구</td>\n",
              "      <td>485</td>\n",
              "      <td>238</td>\n",
              "      <td>159</td>\n",
              "      <td>42</td>\n",
              "      <td>386</td>\n",
              "    </tr>\n",
              "    <tr>\n",
              "      <th>12</th>\n",
              "      <td>마포구</td>\n",
              "      <td>574</td>\n",
              "      <td>314</td>\n",
              "      <td>118</td>\n",
              "      <td>169</td>\n",
              "      <td>379</td>\n",
              "    </tr>\n",
              "    <tr>\n",
              "      <th>17</th>\n",
              "      <td>송파구</td>\n",
              "      <td>618</td>\n",
              "      <td>529</td>\n",
              "      <td>21</td>\n",
              "      <td>68</td>\n",
              "      <td>463</td>\n",
              "    </tr>\n",
              "    <tr>\n",
              "      <th>24</th>\n",
              "      <td>중랑구</td>\n",
              "      <td>660</td>\n",
              "      <td>509</td>\n",
              "      <td>121</td>\n",
              "      <td>177</td>\n",
              "      <td>109</td>\n",
              "    </tr>\n",
              "    <tr>\n",
              "      <th>23</th>\n",
              "      <td>중구</td>\n",
              "      <td>671</td>\n",
              "      <td>413</td>\n",
              "      <td>190</td>\n",
              "      <td>72</td>\n",
              "      <td>348</td>\n",
              "    </tr>\n",
              "  </tbody>\n",
              "</table>\n",
              "</div>"
            ],
            "text/plain": [
              "     구별   소계  2013년도 이전  2014년  2015년  2016년\n",
              "9   도봉구  485        238    159     42    386\n",
              "12  마포구  574        314    118    169    379\n",
              "17  송파구  618        529     21     68    463\n",
              "24  중랑구  660        509    121    177    109\n",
              "23   중구  671        413    190     72    348"
            ]
          },
          "metadata": {
            "tags": []
          },
          "execution_count": 7
        }
      ]
    },
    {
      "cell_type": "code",
      "metadata": {
        "colab": {
          "base_uri": "https://localhost:8080/",
          "height": 203
        },
        "id": "5ok1bQbQEUNZ",
        "outputId": "0e1bc07f-3eeb-4ee8-bf6e-65aec96dc3e7"
      },
      "source": [
        "SDF['최근증가율'] = ((SDF['2016년']+SDF['2015년']+SDF['2014년'])/SDF['2013년도 이전'])*100\n",
        "SDF.sort_values(by= '최근증가율', ascending=False).head()"
      ],
      "execution_count": 9,
      "outputs": [
        {
          "output_type": "execute_result",
          "data": {
            "text/html": [
              "<div>\n",
              "<style scoped>\n",
              "    .dataframe tbody tr th:only-of-type {\n",
              "        vertical-align: middle;\n",
              "    }\n",
              "\n",
              "    .dataframe tbody tr th {\n",
              "        vertical-align: top;\n",
              "    }\n",
              "\n",
              "    .dataframe thead th {\n",
              "        text-align: right;\n",
              "    }\n",
              "</style>\n",
              "<table border=\"1\" class=\"dataframe\">\n",
              "  <thead>\n",
              "    <tr style=\"text-align: right;\">\n",
              "      <th></th>\n",
              "      <th>구별</th>\n",
              "      <th>소계</th>\n",
              "      <th>2013년도 이전</th>\n",
              "      <th>2014년</th>\n",
              "      <th>2015년</th>\n",
              "      <th>2016년</th>\n",
              "      <th>최근증가율</th>\n",
              "    </tr>\n",
              "  </thead>\n",
              "  <tbody>\n",
              "    <tr>\n",
              "      <th>22</th>\n",
              "      <td>종로구</td>\n",
              "      <td>1002</td>\n",
              "      <td>464</td>\n",
              "      <td>314</td>\n",
              "      <td>211</td>\n",
              "      <td>630</td>\n",
              "      <td>248.922414</td>\n",
              "    </tr>\n",
              "    <tr>\n",
              "      <th>9</th>\n",
              "      <td>도봉구</td>\n",
              "      <td>485</td>\n",
              "      <td>238</td>\n",
              "      <td>159</td>\n",
              "      <td>42</td>\n",
              "      <td>386</td>\n",
              "      <td>246.638655</td>\n",
              "    </tr>\n",
              "    <tr>\n",
              "      <th>12</th>\n",
              "      <td>마포구</td>\n",
              "      <td>574</td>\n",
              "      <td>314</td>\n",
              "      <td>118</td>\n",
              "      <td>169</td>\n",
              "      <td>379</td>\n",
              "      <td>212.101911</td>\n",
              "    </tr>\n",
              "    <tr>\n",
              "      <th>8</th>\n",
              "      <td>노원구</td>\n",
              "      <td>1265</td>\n",
              "      <td>542</td>\n",
              "      <td>57</td>\n",
              "      <td>451</td>\n",
              "      <td>516</td>\n",
              "      <td>188.929889</td>\n",
              "    </tr>\n",
              "    <tr>\n",
              "      <th>1</th>\n",
              "      <td>강동구</td>\n",
              "      <td>773</td>\n",
              "      <td>379</td>\n",
              "      <td>99</td>\n",
              "      <td>155</td>\n",
              "      <td>377</td>\n",
              "      <td>166.490765</td>\n",
              "    </tr>\n",
              "  </tbody>\n",
              "</table>\n",
              "</div>"
            ],
            "text/plain": [
              "     구별    소계  2013년도 이전  2014년  2015년  2016년       최근증가율\n",
              "22  종로구  1002        464    314    211    630  248.922414\n",
              "9   도봉구   485        238    159     42    386  246.638655\n",
              "12  마포구   574        314    118    169    379  212.101911\n",
              "8   노원구  1265        542     57    451    516  188.929889\n",
              "1   강동구   773        379     99    155    377  166.490765"
            ]
          },
          "metadata": {
            "tags": []
          },
          "execution_count": 9
        }
      ]
    },
    {
      "cell_type": "code",
      "metadata": {
        "colab": {
          "base_uri": "https://localhost:8080/",
          "height": 203
        },
        "id": "L9IwMhDbHCti",
        "outputId": "e073e490-46fb-42de-ca68-23542725af6c"
      },
      "source": [
        "SDFP=pd.read_excel('seoulPopulation.xls',header=2, usecols='B,D,G,J,N')\n",
        "SDFP.head()"
      ],
      "execution_count": 10,
      "outputs": [
        {
          "output_type": "execute_result",
          "data": {
            "text/html": [
              "<div>\n",
              "<style scoped>\n",
              "    .dataframe tbody tr th:only-of-type {\n",
              "        vertical-align: middle;\n",
              "    }\n",
              "\n",
              "    .dataframe tbody tr th {\n",
              "        vertical-align: top;\n",
              "    }\n",
              "\n",
              "    .dataframe thead th {\n",
              "        text-align: right;\n",
              "    }\n",
              "</style>\n",
              "<table border=\"1\" class=\"dataframe\">\n",
              "  <thead>\n",
              "    <tr style=\"text-align: right;\">\n",
              "      <th></th>\n",
              "      <th>자치구</th>\n",
              "      <th>계</th>\n",
              "      <th>계.1</th>\n",
              "      <th>계.2</th>\n",
              "      <th>65세이상고령자</th>\n",
              "    </tr>\n",
              "  </thead>\n",
              "  <tbody>\n",
              "    <tr>\n",
              "      <th>0</th>\n",
              "      <td>합계</td>\n",
              "      <td>10197604.0</td>\n",
              "      <td>9926968.0</td>\n",
              "      <td>270636.0</td>\n",
              "      <td>1321458.0</td>\n",
              "    </tr>\n",
              "    <tr>\n",
              "      <th>1</th>\n",
              "      <td>종로구</td>\n",
              "      <td>162820.0</td>\n",
              "      <td>153589.0</td>\n",
              "      <td>9231.0</td>\n",
              "      <td>25425.0</td>\n",
              "    </tr>\n",
              "    <tr>\n",
              "      <th>2</th>\n",
              "      <td>중구</td>\n",
              "      <td>133240.0</td>\n",
              "      <td>124312.0</td>\n",
              "      <td>8928.0</td>\n",
              "      <td>20764.0</td>\n",
              "    </tr>\n",
              "    <tr>\n",
              "      <th>3</th>\n",
              "      <td>용산구</td>\n",
              "      <td>244203.0</td>\n",
              "      <td>229456.0</td>\n",
              "      <td>14747.0</td>\n",
              "      <td>36231.0</td>\n",
              "    </tr>\n",
              "    <tr>\n",
              "      <th>4</th>\n",
              "      <td>성동구</td>\n",
              "      <td>311244.0</td>\n",
              "      <td>303380.0</td>\n",
              "      <td>7864.0</td>\n",
              "      <td>39997.0</td>\n",
              "    </tr>\n",
              "  </tbody>\n",
              "</table>\n",
              "</div>"
            ],
            "text/plain": [
              "   자치구           계        계.1       계.2   65세이상고령자\n",
              "0   합계  10197604.0  9926968.0  270636.0  1321458.0\n",
              "1  종로구    162820.0   153589.0    9231.0    25425.0\n",
              "2   중구    133240.0   124312.0    8928.0    20764.0\n",
              "3  용산구    244203.0   229456.0   14747.0    36231.0\n",
              "4  성동구    311244.0   303380.0    7864.0    39997.0"
            ]
          },
          "metadata": {
            "tags": []
          },
          "execution_count": 10
        }
      ]
    },
    {
      "cell_type": "code",
      "metadata": {
        "colab": {
          "base_uri": "https://localhost:8080/",
          "height": 203
        },
        "id": "-CKazEaZHaUs",
        "outputId": "d700854d-4513-400c-e354-77eea0cba839"
      },
      "source": [
        "SDFP.rename(columns = {SDFP.columns[0] : '구별',\n",
        "                       SDFP.columns[1] : '인구수',\n",
        "                       SDFP.columns[2] : '한국인',\n",
        "                       SDFP.columns[3] : '외국인',\n",
        "                       SDFP.columns[4] : '고령자'}, inplace = True)\n",
        "SDFP.head()"
      ],
      "execution_count": 13,
      "outputs": [
        {
          "output_type": "execute_result",
          "data": {
            "text/html": [
              "<div>\n",
              "<style scoped>\n",
              "    .dataframe tbody tr th:only-of-type {\n",
              "        vertical-align: middle;\n",
              "    }\n",
              "\n",
              "    .dataframe tbody tr th {\n",
              "        vertical-align: top;\n",
              "    }\n",
              "\n",
              "    .dataframe thead th {\n",
              "        text-align: right;\n",
              "    }\n",
              "</style>\n",
              "<table border=\"1\" class=\"dataframe\">\n",
              "  <thead>\n",
              "    <tr style=\"text-align: right;\">\n",
              "      <th></th>\n",
              "      <th>구별</th>\n",
              "      <th>인구수</th>\n",
              "      <th>한국인</th>\n",
              "      <th>외국인</th>\n",
              "      <th>고령자</th>\n",
              "    </tr>\n",
              "  </thead>\n",
              "  <tbody>\n",
              "    <tr>\n",
              "      <th>0</th>\n",
              "      <td>합계</td>\n",
              "      <td>10197604.0</td>\n",
              "      <td>9926968.0</td>\n",
              "      <td>270636.0</td>\n",
              "      <td>1321458.0</td>\n",
              "    </tr>\n",
              "    <tr>\n",
              "      <th>1</th>\n",
              "      <td>종로구</td>\n",
              "      <td>162820.0</td>\n",
              "      <td>153589.0</td>\n",
              "      <td>9231.0</td>\n",
              "      <td>25425.0</td>\n",
              "    </tr>\n",
              "    <tr>\n",
              "      <th>2</th>\n",
              "      <td>중구</td>\n",
              "      <td>133240.0</td>\n",
              "      <td>124312.0</td>\n",
              "      <td>8928.0</td>\n",
              "      <td>20764.0</td>\n",
              "    </tr>\n",
              "    <tr>\n",
              "      <th>3</th>\n",
              "      <td>용산구</td>\n",
              "      <td>244203.0</td>\n",
              "      <td>229456.0</td>\n",
              "      <td>14747.0</td>\n",
              "      <td>36231.0</td>\n",
              "    </tr>\n",
              "    <tr>\n",
              "      <th>4</th>\n",
              "      <td>성동구</td>\n",
              "      <td>311244.0</td>\n",
              "      <td>303380.0</td>\n",
              "      <td>7864.0</td>\n",
              "      <td>39997.0</td>\n",
              "    </tr>\n",
              "  </tbody>\n",
              "</table>\n",
              "</div>"
            ],
            "text/plain": [
              "    구별         인구수        한국인       외국인        고령자\n",
              "0   합계  10197604.0  9926968.0  270636.0  1321458.0\n",
              "1  종로구    162820.0   153589.0    9231.0    25425.0\n",
              "2   중구    133240.0   124312.0    8928.0    20764.0\n",
              "3  용산구    244203.0   229456.0   14747.0    36231.0\n",
              "4  성동구    311244.0   303380.0    7864.0    39997.0"
            ]
          },
          "metadata": {
            "tags": []
          },
          "execution_count": 13
        }
      ]
    },
    {
      "cell_type": "code",
      "metadata": {
        "colab": {
          "base_uri": "https://localhost:8080/",
          "height": 203
        },
        "id": "ETgMCNqeIGg2",
        "outputId": "2aac9752-2d1b-4a7a-9d45-4553c06f6127"
      },
      "source": [
        "SDFP.drop(index=[0], inplace=True)\n",
        "\n",
        "SDFP.head()"
      ],
      "execution_count": 15,
      "outputs": [
        {
          "output_type": "execute_result",
          "data": {
            "text/html": [
              "<div>\n",
              "<style scoped>\n",
              "    .dataframe tbody tr th:only-of-type {\n",
              "        vertical-align: middle;\n",
              "    }\n",
              "\n",
              "    .dataframe tbody tr th {\n",
              "        vertical-align: top;\n",
              "    }\n",
              "\n",
              "    .dataframe thead th {\n",
              "        text-align: right;\n",
              "    }\n",
              "</style>\n",
              "<table border=\"1\" class=\"dataframe\">\n",
              "  <thead>\n",
              "    <tr style=\"text-align: right;\">\n",
              "      <th></th>\n",
              "      <th>구별</th>\n",
              "      <th>인구수</th>\n",
              "      <th>한국인</th>\n",
              "      <th>외국인</th>\n",
              "      <th>고령자</th>\n",
              "    </tr>\n",
              "  </thead>\n",
              "  <tbody>\n",
              "    <tr>\n",
              "      <th>1</th>\n",
              "      <td>종로구</td>\n",
              "      <td>162820.0</td>\n",
              "      <td>153589.0</td>\n",
              "      <td>9231.0</td>\n",
              "      <td>25425.0</td>\n",
              "    </tr>\n",
              "    <tr>\n",
              "      <th>2</th>\n",
              "      <td>중구</td>\n",
              "      <td>133240.0</td>\n",
              "      <td>124312.0</td>\n",
              "      <td>8928.0</td>\n",
              "      <td>20764.0</td>\n",
              "    </tr>\n",
              "    <tr>\n",
              "      <th>3</th>\n",
              "      <td>용산구</td>\n",
              "      <td>244203.0</td>\n",
              "      <td>229456.0</td>\n",
              "      <td>14747.0</td>\n",
              "      <td>36231.0</td>\n",
              "    </tr>\n",
              "    <tr>\n",
              "      <th>4</th>\n",
              "      <td>성동구</td>\n",
              "      <td>311244.0</td>\n",
              "      <td>303380.0</td>\n",
              "      <td>7864.0</td>\n",
              "      <td>39997.0</td>\n",
              "    </tr>\n",
              "    <tr>\n",
              "      <th>5</th>\n",
              "      <td>광진구</td>\n",
              "      <td>372164.0</td>\n",
              "      <td>357211.0</td>\n",
              "      <td>14953.0</td>\n",
              "      <td>42214.0</td>\n",
              "    </tr>\n",
              "  </tbody>\n",
              "</table>\n",
              "</div>"
            ],
            "text/plain": [
              "    구별       인구수       한국인      외국인      고령자\n",
              "1  종로구  162820.0  153589.0   9231.0  25425.0\n",
              "2   중구  133240.0  124312.0   8928.0  20764.0\n",
              "3  용산구  244203.0  229456.0  14747.0  36231.0\n",
              "4  성동구  311244.0  303380.0   7864.0  39997.0\n",
              "5  광진구  372164.0  357211.0  14953.0  42214.0"
            ]
          },
          "metadata": {
            "tags": []
          },
          "execution_count": 15
        }
      ]
    },
    {
      "cell_type": "code",
      "metadata": {
        "colab": {
          "base_uri": "https://localhost:8080/",
          "height": 80
        },
        "id": "bk1lGkKtIpX4",
        "outputId": "713044e1-8031-4b49-b195-f0fa2902e311"
      },
      "source": [
        "#NAN 정보 확인\n",
        "SDFP[SDFP['구별'].isnull()]"
      ],
      "execution_count": 17,
      "outputs": [
        {
          "output_type": "execute_result",
          "data": {
            "text/html": [
              "<div>\n",
              "<style scoped>\n",
              "    .dataframe tbody tr th:only-of-type {\n",
              "        vertical-align: middle;\n",
              "    }\n",
              "\n",
              "    .dataframe tbody tr th {\n",
              "        vertical-align: top;\n",
              "    }\n",
              "\n",
              "    .dataframe thead th {\n",
              "        text-align: right;\n",
              "    }\n",
              "</style>\n",
              "<table border=\"1\" class=\"dataframe\">\n",
              "  <thead>\n",
              "    <tr style=\"text-align: right;\">\n",
              "      <th></th>\n",
              "      <th>구별</th>\n",
              "      <th>인구수</th>\n",
              "      <th>한국인</th>\n",
              "      <th>외국인</th>\n",
              "      <th>고령자</th>\n",
              "    </tr>\n",
              "  </thead>\n",
              "  <tbody>\n",
              "    <tr>\n",
              "      <th>26</th>\n",
              "      <td>NaN</td>\n",
              "      <td>NaN</td>\n",
              "      <td>NaN</td>\n",
              "      <td>NaN</td>\n",
              "      <td>NaN</td>\n",
              "    </tr>\n",
              "  </tbody>\n",
              "</table>\n",
              "</div>"
            ],
            "text/plain": [
              "     구별  인구수  한국인  외국인  고령자\n",
              "26  NaN  NaN  NaN  NaN  NaN"
            ]
          },
          "metadata": {
            "tags": []
          },
          "execution_count": 17
        }
      ]
    },
    {
      "cell_type": "code",
      "metadata": {
        "colab": {
          "base_uri": "https://localhost:8080/",
          "height": 203
        },
        "id": "ob8BXAgTJBxW",
        "outputId": "0ffff58c-ec46-490a-90de-fb7e6b779505"
      },
      "source": [
        "SDFP.tail()"
      ],
      "execution_count": 19,
      "outputs": [
        {
          "output_type": "execute_result",
          "data": {
            "text/html": [
              "<div>\n",
              "<style scoped>\n",
              "    .dataframe tbody tr th:only-of-type {\n",
              "        vertical-align: middle;\n",
              "    }\n",
              "\n",
              "    .dataframe tbody tr th {\n",
              "        vertical-align: top;\n",
              "    }\n",
              "\n",
              "    .dataframe thead th {\n",
              "        text-align: right;\n",
              "    }\n",
              "</style>\n",
              "<table border=\"1\" class=\"dataframe\">\n",
              "  <thead>\n",
              "    <tr style=\"text-align: right;\">\n",
              "      <th></th>\n",
              "      <th>구별</th>\n",
              "      <th>인구수</th>\n",
              "      <th>한국인</th>\n",
              "      <th>외국인</th>\n",
              "      <th>고령자</th>\n",
              "    </tr>\n",
              "  </thead>\n",
              "  <tbody>\n",
              "    <tr>\n",
              "      <th>22</th>\n",
              "      <td>서초구</td>\n",
              "      <td>450310.0</td>\n",
              "      <td>445994.0</td>\n",
              "      <td>4316.0</td>\n",
              "      <td>51733.0</td>\n",
              "    </tr>\n",
              "    <tr>\n",
              "      <th>23</th>\n",
              "      <td>강남구</td>\n",
              "      <td>570500.0</td>\n",
              "      <td>565550.0</td>\n",
              "      <td>4950.0</td>\n",
              "      <td>63167.0</td>\n",
              "    </tr>\n",
              "    <tr>\n",
              "      <th>24</th>\n",
              "      <td>송파구</td>\n",
              "      <td>667483.0</td>\n",
              "      <td>660584.0</td>\n",
              "      <td>6899.0</td>\n",
              "      <td>72506.0</td>\n",
              "    </tr>\n",
              "    <tr>\n",
              "      <th>25</th>\n",
              "      <td>강동구</td>\n",
              "      <td>453233.0</td>\n",
              "      <td>449019.0</td>\n",
              "      <td>4214.0</td>\n",
              "      <td>54622.0</td>\n",
              "    </tr>\n",
              "    <tr>\n",
              "      <th>26</th>\n",
              "      <td>NaN</td>\n",
              "      <td>NaN</td>\n",
              "      <td>NaN</td>\n",
              "      <td>NaN</td>\n",
              "      <td>NaN</td>\n",
              "    </tr>\n",
              "  </tbody>\n",
              "</table>\n",
              "</div>"
            ],
            "text/plain": [
              "     구별       인구수       한국인     외국인      고령자\n",
              "22  서초구  450310.0  445994.0  4316.0  51733.0\n",
              "23  강남구  570500.0  565550.0  4950.0  63167.0\n",
              "24  송파구  667483.0  660584.0  6899.0  72506.0\n",
              "25  강동구  453233.0  449019.0  4214.0  54622.0\n",
              "26  NaN       NaN       NaN     NaN      NaN"
            ]
          },
          "metadata": {
            "tags": []
          },
          "execution_count": 19
        }
      ]
    },
    {
      "cell_type": "code",
      "metadata": {
        "id": "fH-5NCAxJMAV"
      },
      "source": [
        "SDFP.drop(index=[26], inplace=True)"
      ],
      "execution_count": 20,
      "outputs": []
    },
    {
      "cell_type": "code",
      "metadata": {
        "id": "SfzeuAszJULu"
      },
      "source": [
        "DF = pd.merge(SDF, SDFP, on = '구별')"
      ],
      "execution_count": 21,
      "outputs": []
    },
    {
      "cell_type": "code",
      "metadata": {
        "colab": {
          "base_uri": "https://localhost:8080/",
          "height": 405
        },
        "id": "LHwhh3YqJozx",
        "outputId": "2c754595-1300-465c-82d8-13ad3d304465"
      },
      "source": [
        "DF.head()"
      ],
      "execution_count": 22,
      "outputs": [
        {
          "output_type": "execute_result",
          "data": {
            "text/html": [
              "<div>\n",
              "<style scoped>\n",
              "    .dataframe tbody tr th:only-of-type {\n",
              "        vertical-align: middle;\n",
              "    }\n",
              "\n",
              "    .dataframe tbody tr th {\n",
              "        vertical-align: top;\n",
              "    }\n",
              "\n",
              "    .dataframe thead th {\n",
              "        text-align: right;\n",
              "    }\n",
              "</style>\n",
              "<table border=\"1\" class=\"dataframe\">\n",
              "  <thead>\n",
              "    <tr style=\"text-align: right;\">\n",
              "      <th></th>\n",
              "      <th>구별</th>\n",
              "      <th>소계</th>\n",
              "      <th>2013년도 이전</th>\n",
              "      <th>2014년</th>\n",
              "      <th>2015년</th>\n",
              "      <th>2016년</th>\n",
              "      <th>최근증가율</th>\n",
              "      <th>인구수</th>\n",
              "      <th>한국인</th>\n",
              "      <th>외국인</th>\n",
              "      <th>고령자</th>\n",
              "    </tr>\n",
              "  </thead>\n",
              "  <tbody>\n",
              "    <tr>\n",
              "      <th>0</th>\n",
              "      <td>강남구</td>\n",
              "      <td>2780</td>\n",
              "      <td>1292</td>\n",
              "      <td>430</td>\n",
              "      <td>584</td>\n",
              "      <td>932</td>\n",
              "      <td>150.619195</td>\n",
              "      <td>570500.0</td>\n",
              "      <td>565550.0</td>\n",
              "      <td>4950.0</td>\n",
              "      <td>63167.0</td>\n",
              "    </tr>\n",
              "    <tr>\n",
              "      <th>1</th>\n",
              "      <td>강동구</td>\n",
              "      <td>773</td>\n",
              "      <td>379</td>\n",
              "      <td>99</td>\n",
              "      <td>155</td>\n",
              "      <td>377</td>\n",
              "      <td>166.490765</td>\n",
              "      <td>453233.0</td>\n",
              "      <td>449019.0</td>\n",
              "      <td>4214.0</td>\n",
              "      <td>54622.0</td>\n",
              "    </tr>\n",
              "    <tr>\n",
              "      <th>2</th>\n",
              "      <td>강북구</td>\n",
              "      <td>748</td>\n",
              "      <td>369</td>\n",
              "      <td>120</td>\n",
              "      <td>138</td>\n",
              "      <td>204</td>\n",
              "      <td>125.203252</td>\n",
              "      <td>330192.0</td>\n",
              "      <td>326686.0</td>\n",
              "      <td>3506.0</td>\n",
              "      <td>54813.0</td>\n",
              "    </tr>\n",
              "    <tr>\n",
              "      <th>3</th>\n",
              "      <td>강서구</td>\n",
              "      <td>884</td>\n",
              "      <td>388</td>\n",
              "      <td>258</td>\n",
              "      <td>184</td>\n",
              "      <td>81</td>\n",
              "      <td>134.793814</td>\n",
              "      <td>603772.0</td>\n",
              "      <td>597248.0</td>\n",
              "      <td>6524.0</td>\n",
              "      <td>72548.0</td>\n",
              "    </tr>\n",
              "    <tr>\n",
              "      <th>4</th>\n",
              "      <td>관악구</td>\n",
              "      <td>1496</td>\n",
              "      <td>846</td>\n",
              "      <td>260</td>\n",
              "      <td>390</td>\n",
              "      <td>613</td>\n",
              "      <td>149.290780</td>\n",
              "      <td>525515.0</td>\n",
              "      <td>507203.0</td>\n",
              "      <td>18312.0</td>\n",
              "      <td>68082.0</td>\n",
              "    </tr>\n",
              "  </tbody>\n",
              "</table>\n",
              "</div>"
            ],
            "text/plain": [
              "    구별    소계  2013년도 이전  2014년  ...       인구수       한국인      외국인      고령자\n",
              "0  강남구  2780       1292    430  ...  570500.0  565550.0   4950.0  63167.0\n",
              "1  강동구   773        379     99  ...  453233.0  449019.0   4214.0  54622.0\n",
              "2  강북구   748        369    120  ...  330192.0  326686.0   3506.0  54813.0\n",
              "3  강서구   884        388    258  ...  603772.0  597248.0   6524.0  72548.0\n",
              "4  관악구  1496        846    260  ...  525515.0  507203.0  18312.0  68082.0\n",
              "\n",
              "[5 rows x 11 columns]"
            ]
          },
          "metadata": {
            "tags": []
          },
          "execution_count": 22
        }
      ]
    },
    {
      "cell_type": "code",
      "metadata": {
        "colab": {
          "base_uri": "https://localhost:8080/",
          "height": 203
        },
        "id": "IHiMGcIyJqR4",
        "outputId": "46475ddc-9ef4-49dd-f2a0-a943c6d5ef04"
      },
      "source": [
        "\n",
        "del DF['2014년']\n",
        "del DF['2015년']\n",
        "del DF['2016년']\n",
        "\n",
        "DF.head()"
      ],
      "execution_count": 27,
      "outputs": [
        {
          "output_type": "execute_result",
          "data": {
            "text/html": [
              "<div>\n",
              "<style scoped>\n",
              "    .dataframe tbody tr th:only-of-type {\n",
              "        vertical-align: middle;\n",
              "    }\n",
              "\n",
              "    .dataframe tbody tr th {\n",
              "        vertical-align: top;\n",
              "    }\n",
              "\n",
              "    .dataframe thead th {\n",
              "        text-align: right;\n",
              "    }\n",
              "</style>\n",
              "<table border=\"1\" class=\"dataframe\">\n",
              "  <thead>\n",
              "    <tr style=\"text-align: right;\">\n",
              "      <th></th>\n",
              "      <th>구별</th>\n",
              "      <th>소계</th>\n",
              "      <th>최근증가율</th>\n",
              "      <th>인구수</th>\n",
              "      <th>한국인</th>\n",
              "      <th>외국인</th>\n",
              "      <th>고령자</th>\n",
              "    </tr>\n",
              "  </thead>\n",
              "  <tbody>\n",
              "    <tr>\n",
              "      <th>0</th>\n",
              "      <td>강남구</td>\n",
              "      <td>2780</td>\n",
              "      <td>150.619195</td>\n",
              "      <td>570500.0</td>\n",
              "      <td>565550.0</td>\n",
              "      <td>4950.0</td>\n",
              "      <td>63167.0</td>\n",
              "    </tr>\n",
              "    <tr>\n",
              "      <th>1</th>\n",
              "      <td>강동구</td>\n",
              "      <td>773</td>\n",
              "      <td>166.490765</td>\n",
              "      <td>453233.0</td>\n",
              "      <td>449019.0</td>\n",
              "      <td>4214.0</td>\n",
              "      <td>54622.0</td>\n",
              "    </tr>\n",
              "    <tr>\n",
              "      <th>2</th>\n",
              "      <td>강북구</td>\n",
              "      <td>748</td>\n",
              "      <td>125.203252</td>\n",
              "      <td>330192.0</td>\n",
              "      <td>326686.0</td>\n",
              "      <td>3506.0</td>\n",
              "      <td>54813.0</td>\n",
              "    </tr>\n",
              "    <tr>\n",
              "      <th>3</th>\n",
              "      <td>강서구</td>\n",
              "      <td>884</td>\n",
              "      <td>134.793814</td>\n",
              "      <td>603772.0</td>\n",
              "      <td>597248.0</td>\n",
              "      <td>6524.0</td>\n",
              "      <td>72548.0</td>\n",
              "    </tr>\n",
              "    <tr>\n",
              "      <th>4</th>\n",
              "      <td>관악구</td>\n",
              "      <td>1496</td>\n",
              "      <td>149.290780</td>\n",
              "      <td>525515.0</td>\n",
              "      <td>507203.0</td>\n",
              "      <td>18312.0</td>\n",
              "      <td>68082.0</td>\n",
              "    </tr>\n",
              "  </tbody>\n",
              "</table>\n",
              "</div>"
            ],
            "text/plain": [
              "    구별    소계       최근증가율       인구수       한국인      외국인      고령자\n",
              "0  강남구  2780  150.619195  570500.0  565550.0   4950.0  63167.0\n",
              "1  강동구   773  166.490765  453233.0  449019.0   4214.0  54622.0\n",
              "2  강북구   748  125.203252  330192.0  326686.0   3506.0  54813.0\n",
              "3  강서구   884  134.793814  603772.0  597248.0   6524.0  72548.0\n",
              "4  관악구  1496  149.290780  525515.0  507203.0  18312.0  68082.0"
            ]
          },
          "metadata": {
            "tags": []
          },
          "execution_count": 27
        }
      ]
    },
    {
      "cell_type": "code",
      "metadata": {
        "id": "X8gZUH5AJzG6"
      },
      "source": [
        "DF.set_index('구별', inplace = True)"
      ],
      "execution_count": 28,
      "outputs": []
    },
    {
      "cell_type": "code",
      "metadata": {
        "colab": {
          "base_uri": "https://localhost:8080/",
          "height": 234
        },
        "id": "oBq5Fz2zKtfk",
        "outputId": "2d23c330-c9b1-4e6b-ea15-64601eeac405"
      },
      "source": [
        "DF.head()"
      ],
      "execution_count": 29,
      "outputs": [
        {
          "output_type": "execute_result",
          "data": {
            "text/html": [
              "<div>\n",
              "<style scoped>\n",
              "    .dataframe tbody tr th:only-of-type {\n",
              "        vertical-align: middle;\n",
              "    }\n",
              "\n",
              "    .dataframe tbody tr th {\n",
              "        vertical-align: top;\n",
              "    }\n",
              "\n",
              "    .dataframe thead th {\n",
              "        text-align: right;\n",
              "    }\n",
              "</style>\n",
              "<table border=\"1\" class=\"dataframe\">\n",
              "  <thead>\n",
              "    <tr style=\"text-align: right;\">\n",
              "      <th></th>\n",
              "      <th>소계</th>\n",
              "      <th>최근증가율</th>\n",
              "      <th>인구수</th>\n",
              "      <th>한국인</th>\n",
              "      <th>외국인</th>\n",
              "      <th>고령자</th>\n",
              "    </tr>\n",
              "    <tr>\n",
              "      <th>구별</th>\n",
              "      <th></th>\n",
              "      <th></th>\n",
              "      <th></th>\n",
              "      <th></th>\n",
              "      <th></th>\n",
              "      <th></th>\n",
              "    </tr>\n",
              "  </thead>\n",
              "  <tbody>\n",
              "    <tr>\n",
              "      <th>강남구</th>\n",
              "      <td>2780</td>\n",
              "      <td>150.619195</td>\n",
              "      <td>570500.0</td>\n",
              "      <td>565550.0</td>\n",
              "      <td>4950.0</td>\n",
              "      <td>63167.0</td>\n",
              "    </tr>\n",
              "    <tr>\n",
              "      <th>강동구</th>\n",
              "      <td>773</td>\n",
              "      <td>166.490765</td>\n",
              "      <td>453233.0</td>\n",
              "      <td>449019.0</td>\n",
              "      <td>4214.0</td>\n",
              "      <td>54622.0</td>\n",
              "    </tr>\n",
              "    <tr>\n",
              "      <th>강북구</th>\n",
              "      <td>748</td>\n",
              "      <td>125.203252</td>\n",
              "      <td>330192.0</td>\n",
              "      <td>326686.0</td>\n",
              "      <td>3506.0</td>\n",
              "      <td>54813.0</td>\n",
              "    </tr>\n",
              "    <tr>\n",
              "      <th>강서구</th>\n",
              "      <td>884</td>\n",
              "      <td>134.793814</td>\n",
              "      <td>603772.0</td>\n",
              "      <td>597248.0</td>\n",
              "      <td>6524.0</td>\n",
              "      <td>72548.0</td>\n",
              "    </tr>\n",
              "    <tr>\n",
              "      <th>관악구</th>\n",
              "      <td>1496</td>\n",
              "      <td>149.290780</td>\n",
              "      <td>525515.0</td>\n",
              "      <td>507203.0</td>\n",
              "      <td>18312.0</td>\n",
              "      <td>68082.0</td>\n",
              "    </tr>\n",
              "  </tbody>\n",
              "</table>\n",
              "</div>"
            ],
            "text/plain": [
              "       소계       최근증가율       인구수       한국인      외국인      고령자\n",
              "구별                                                         \n",
              "강남구  2780  150.619195  570500.0  565550.0   4950.0  63167.0\n",
              "강동구   773  166.490765  453233.0  449019.0   4214.0  54622.0\n",
              "강북구   748  125.203252  330192.0  326686.0   3506.0  54813.0\n",
              "강서구   884  134.793814  603772.0  597248.0   6524.0  72548.0\n",
              "관악구  1496  149.290780  525515.0  507203.0  18312.0  68082.0"
            ]
          },
          "metadata": {
            "tags": []
          },
          "execution_count": 29
        }
      ]
    },
    {
      "cell_type": "code",
      "metadata": {
        "colab": {
          "base_uri": "https://localhost:8080/",
          "height": 234
        },
        "id": "w-29pt9aKvso",
        "outputId": "4454f1be-e04b-431e-b6c7-d24473bc77a3"
      },
      "source": [
        "del DF['한국인']\n",
        "del DF['외국인']\n",
        "del DF['고령자']\n",
        "\n",
        "DF.head()"
      ],
      "execution_count": 30,
      "outputs": [
        {
          "output_type": "execute_result",
          "data": {
            "text/html": [
              "<div>\n",
              "<style scoped>\n",
              "    .dataframe tbody tr th:only-of-type {\n",
              "        vertical-align: middle;\n",
              "    }\n",
              "\n",
              "    .dataframe tbody tr th {\n",
              "        vertical-align: top;\n",
              "    }\n",
              "\n",
              "    .dataframe thead th {\n",
              "        text-align: right;\n",
              "    }\n",
              "</style>\n",
              "<table border=\"1\" class=\"dataframe\">\n",
              "  <thead>\n",
              "    <tr style=\"text-align: right;\">\n",
              "      <th></th>\n",
              "      <th>소계</th>\n",
              "      <th>최근증가율</th>\n",
              "      <th>인구수</th>\n",
              "    </tr>\n",
              "    <tr>\n",
              "      <th>구별</th>\n",
              "      <th></th>\n",
              "      <th></th>\n",
              "      <th></th>\n",
              "    </tr>\n",
              "  </thead>\n",
              "  <tbody>\n",
              "    <tr>\n",
              "      <th>강남구</th>\n",
              "      <td>2780</td>\n",
              "      <td>150.619195</td>\n",
              "      <td>570500.0</td>\n",
              "    </tr>\n",
              "    <tr>\n",
              "      <th>강동구</th>\n",
              "      <td>773</td>\n",
              "      <td>166.490765</td>\n",
              "      <td>453233.0</td>\n",
              "    </tr>\n",
              "    <tr>\n",
              "      <th>강북구</th>\n",
              "      <td>748</td>\n",
              "      <td>125.203252</td>\n",
              "      <td>330192.0</td>\n",
              "    </tr>\n",
              "    <tr>\n",
              "      <th>강서구</th>\n",
              "      <td>884</td>\n",
              "      <td>134.793814</td>\n",
              "      <td>603772.0</td>\n",
              "    </tr>\n",
              "    <tr>\n",
              "      <th>관악구</th>\n",
              "      <td>1496</td>\n",
              "      <td>149.290780</td>\n",
              "      <td>525515.0</td>\n",
              "    </tr>\n",
              "  </tbody>\n",
              "</table>\n",
              "</div>"
            ],
            "text/plain": [
              "       소계       최근증가율       인구수\n",
              "구별                             \n",
              "강남구  2780  150.619195  570500.0\n",
              "강동구   773  166.490765  453233.0\n",
              "강북구   748  125.203252  330192.0\n",
              "강서구   884  134.793814  603772.0\n",
              "관악구  1496  149.290780  525515.0"
            ]
          },
          "metadata": {
            "tags": []
          },
          "execution_count": 30
        }
      ]
    },
    {
      "cell_type": "code",
      "metadata": {
        "colab": {
          "base_uri": "https://localhost:8080/"
        },
        "id": "xsAw3CmNLGjF",
        "outputId": "dc78a70d-0f61-4063-8de0-763b6f445129"
      },
      "source": [
        "#인구수와 소계 상관계수 지정하기\n",
        "print(np.corrcoef(DF['인구수'],DF['소계'])) \n"
      ],
      "execution_count": 31,
      "outputs": [
        {
          "output_type": "stream",
          "text": [
            "[[1.         0.30634228]\n",
            " [0.30634228 1.        ]]\n"
          ],
          "name": "stdout"
        }
      ]
    },
    {
      "cell_type": "code",
      "metadata": {
        "colab": {
          "base_uri": "https://localhost:8080/",
          "height": 234
        },
        "id": "0KALEzIMLW1e",
        "outputId": "d303c3f9-fba0-4f18-db84-e8f343a19318"
      },
      "source": [
        "# CCTV개수(소계)와 인구수의 관계\n",
        "DF.sort_values(by ='소계', ascending= False).head()"
      ],
      "execution_count": 32,
      "outputs": [
        {
          "output_type": "execute_result",
          "data": {
            "text/html": [
              "<div>\n",
              "<style scoped>\n",
              "    .dataframe tbody tr th:only-of-type {\n",
              "        vertical-align: middle;\n",
              "    }\n",
              "\n",
              "    .dataframe tbody tr th {\n",
              "        vertical-align: top;\n",
              "    }\n",
              "\n",
              "    .dataframe thead th {\n",
              "        text-align: right;\n",
              "    }\n",
              "</style>\n",
              "<table border=\"1\" class=\"dataframe\">\n",
              "  <thead>\n",
              "    <tr style=\"text-align: right;\">\n",
              "      <th></th>\n",
              "      <th>소계</th>\n",
              "      <th>최근증가율</th>\n",
              "      <th>인구수</th>\n",
              "    </tr>\n",
              "    <tr>\n",
              "      <th>구별</th>\n",
              "      <th></th>\n",
              "      <th></th>\n",
              "      <th></th>\n",
              "    </tr>\n",
              "  </thead>\n",
              "  <tbody>\n",
              "    <tr>\n",
              "      <th>강남구</th>\n",
              "      <td>2780</td>\n",
              "      <td>150.619195</td>\n",
              "      <td>570500.0</td>\n",
              "    </tr>\n",
              "    <tr>\n",
              "      <th>양천구</th>\n",
              "      <td>2034</td>\n",
              "      <td>34.671731</td>\n",
              "      <td>479978.0</td>\n",
              "    </tr>\n",
              "    <tr>\n",
              "      <th>서초구</th>\n",
              "      <td>1930</td>\n",
              "      <td>63.371266</td>\n",
              "      <td>450310.0</td>\n",
              "    </tr>\n",
              "    <tr>\n",
              "      <th>은평구</th>\n",
              "      <td>1873</td>\n",
              "      <td>85.237258</td>\n",
              "      <td>494388.0</td>\n",
              "    </tr>\n",
              "    <tr>\n",
              "      <th>용산구</th>\n",
              "      <td>1624</td>\n",
              "      <td>53.216374</td>\n",
              "      <td>244203.0</td>\n",
              "    </tr>\n",
              "  </tbody>\n",
              "</table>\n",
              "</div>"
            ],
            "text/plain": [
              "       소계       최근증가율       인구수\n",
              "구별                             \n",
              "강남구  2780  150.619195  570500.0\n",
              "양천구  2034   34.671731  479978.0\n",
              "서초구  1930   63.371266  450310.0\n",
              "은평구  1873   85.237258  494388.0\n",
              "용산구  1624   53.216374  244203.0"
            ]
          },
          "metadata": {
            "tags": []
          },
          "execution_count": 32
        }
      ]
    },
    {
      "cell_type": "code",
      "metadata": {
        "colab": {
          "base_uri": "https://localhost:8080/",
          "height": 234
        },
        "id": "BXNSOE4hLkTR",
        "outputId": "05735470-df2c-4a9d-d28f-040f2a03a92a"
      },
      "source": [
        "DF.sort_values(by='인구수', ascending=False).head()\n"
      ],
      "execution_count": 35,
      "outputs": [
        {
          "output_type": "execute_result",
          "data": {
            "text/html": [
              "<div>\n",
              "<style scoped>\n",
              "    .dataframe tbody tr th:only-of-type {\n",
              "        vertical-align: middle;\n",
              "    }\n",
              "\n",
              "    .dataframe tbody tr th {\n",
              "        vertical-align: top;\n",
              "    }\n",
              "\n",
              "    .dataframe thead th {\n",
              "        text-align: right;\n",
              "    }\n",
              "</style>\n",
              "<table border=\"1\" class=\"dataframe\">\n",
              "  <thead>\n",
              "    <tr style=\"text-align: right;\">\n",
              "      <th></th>\n",
              "      <th>소계</th>\n",
              "      <th>최근증가율</th>\n",
              "      <th>인구수</th>\n",
              "    </tr>\n",
              "    <tr>\n",
              "      <th>구별</th>\n",
              "      <th></th>\n",
              "      <th></th>\n",
              "      <th></th>\n",
              "    </tr>\n",
              "  </thead>\n",
              "  <tbody>\n",
              "    <tr>\n",
              "      <th>송파구</th>\n",
              "      <td>618</td>\n",
              "      <td>104.347826</td>\n",
              "      <td>667483.0</td>\n",
              "    </tr>\n",
              "    <tr>\n",
              "      <th>강서구</th>\n",
              "      <td>884</td>\n",
              "      <td>134.793814</td>\n",
              "      <td>603772.0</td>\n",
              "    </tr>\n",
              "    <tr>\n",
              "      <th>강남구</th>\n",
              "      <td>2780</td>\n",
              "      <td>150.619195</td>\n",
              "      <td>570500.0</td>\n",
              "    </tr>\n",
              "    <tr>\n",
              "      <th>노원구</th>\n",
              "      <td>1265</td>\n",
              "      <td>188.929889</td>\n",
              "      <td>569384.0</td>\n",
              "    </tr>\n",
              "    <tr>\n",
              "      <th>관악구</th>\n",
              "      <td>1496</td>\n",
              "      <td>149.290780</td>\n",
              "      <td>525515.0</td>\n",
              "    </tr>\n",
              "  </tbody>\n",
              "</table>\n",
              "</div>"
            ],
            "text/plain": [
              "       소계       최근증가율       인구수\n",
              "구별                             \n",
              "송파구   618  104.347826  667483.0\n",
              "강서구   884  134.793814  603772.0\n",
              "강남구  2780  150.619195  570500.0\n",
              "노원구  1265  188.929889  569384.0\n",
              "관악구  1496  149.290780  525515.0"
            ]
          },
          "metadata": {
            "tags": []
          },
          "execution_count": 35
        }
      ]
    },
    {
      "cell_type": "markdown",
      "metadata": {
        "id": "Bjdv_PvGLu41"
      },
      "source": [
        "##시각화하기"
      ]
    },
    {
      "cell_type": "code",
      "metadata": {
        "colab": {
          "base_uri": "https://localhost:8080/",
          "height": 609
        },
        "id": "ftbId7lGL8BL",
        "outputId": "0d8a3b46-bd0d-4a3e-a3e6-c82e495b7899"
      },
      "source": [
        "DF['소계'].plot(kind = 'barh', grid = True, figsize=(10,10))\n",
        "plt.show()"
      ],
      "execution_count": 37,
      "outputs": [
        {
          "output_type": "stream",
          "text": [
            "findfont: Font family ['NanumBarunGothic'] not found. Falling back to DejaVu Sans.\n"
          ],
          "name": "stderr"
        },
        {
          "output_type": "display_data",
          "data": {
            "image/png": "[encoded data removed]",
            "text/plain": [
              "<Figure size 720x720 with 1 Axes>"
            ]
          },
          "metadata": {
            "tags": [],
            "needs_background": "light"
          }
        }
      ]
    },
    {
      "cell_type": "code",
      "metadata": {
        "colab": {
          "base_uri": "https://localhost:8080/",
          "height": 609
        },
        "id": "uPJkXwc2MElI",
        "outputId": "a17b8791-03b5-4364-97d6-c121e04ea307"
      },
      "source": [
        "DF['소계'].sort_values().plot(kind = 'barh', grid = True, figsize = (10,10))"
      ],
      "execution_count": 38,
      "outputs": [
        {
          "output_type": "execute_result",
          "data": {
            "text/plain": [
              "<matplotlib.axes._subplots.AxesSubplot at 0x7f75f8928d50>"
            ]
          },
          "metadata": {
            "tags": []
          },
          "execution_count": 38
        },
        {
          "output_type": "display_data",
          "data": {
            "image/png": "[encoded data removed]",
            "text/plain": [
              "<Figure size 720x720 with 1 Axes>"
            ]
          },
          "metadata": {
            "tags": [],
            "needs_background": "light"
          }
        }
      ]
    },
    {
      "cell_type": "code",
      "metadata": {
        "colab": {
          "base_uri": "https://localhost:8080/",
          "height": 592
        },
        "id": "BVWoDJW3MUqO",
        "outputId": "707b20f1-ab6e-4482-b8ed-59760a0c0a77"
      },
      "source": [
        "DF['CCTV 비율'] = DF['소계']/DF['인구수']*100\n",
        "DF['CCTV 비율'].sort_values().plot(kind = 'barh', grid=True, figsize=(10,10))\n",
        "plt.show()"
      ],
      "execution_count": 41,
      "outputs": [
        {
          "output_type": "display_data",
          "data": {
            "image/png": "[encoded data removed]",
            "text/plain": [
              "<Figure size 720x720 with 1 Axes>"
            ]
          },
          "metadata": {
            "tags": [],
            "needs_background": "light"
          }
        }
      ]
    },
    {
      "cell_type": "code",
      "metadata": {
        "colab": {
          "base_uri": "https://localhost:8080/",
          "height": 388
        },
        "id": "CZ7Rmr_rMoBl",
        "outputId": "105be036-f54c-4dbb-8316-cd9672fc8675"
      },
      "source": [
        "# 산점도 \n",
        "plt.figure(figsize=(6,6))\n",
        "plt.scatter(DF['인구수'], DF['소계'], s=50)\n",
        "plt.xlabel('인구수')\n",
        "plt.ylabel('CCTV')\n",
        "plt.grid()\n",
        "plt.show()"
      ],
      "execution_count": 42,
      "outputs": [
        {
          "output_type": "display_data",
          "data": {
            "image/png": "[encoded data removed]",
            "text/plain": [
              "<Figure size 432x432 with 1 Axes>"
            ]
          },
          "metadata": {
            "tags": [],
            "needs_background": "light"
          }
        }
      ]
    },
    {
      "cell_type": "code",
      "metadata": {
        "colab": {
          "base_uri": "https://localhost:8080/"
        },
        "id": "gz4TonbANHej",
        "outputId": "03cd2975-4dc1-45fc-bdb1-e224946542e9"
      },
      "source": [
        "# 회귀계수 계산\n",
        "import numpy as np\n",
        "np.set_printoptions(suppress = True) #과학적 표기법을 없애고 싶을때 사용\n",
        "\n",
        "fp1 = np.polyfit(DF['인구수'], DF['소계'],1) #회귀방정식 구하는법\n",
        "\n",
        "fp1"
      ],
      "execution_count": 45,
      "outputs": [
        {
          "output_type": "execute_result",
          "data": {
            "text/plain": [
              "array([  0.00130916, 645.06649658])"
            ]
          },
          "metadata": {
            "tags": []
          },
          "execution_count": 45
        }
      ]
    },
    {
      "cell_type": "code",
      "metadata": {
        "colab": {
          "base_uri": "https://localhost:8080/"
        },
        "id": "CU1ikLOYNZEj",
        "outputId": "7fbadf5c-1e79-4096-f49e-139ae4568c01"
      },
      "source": [
        "f1 = np.poly1d(fp1) #회귀식 구하는 공식\n",
        "print(f1, '\\n')\n",
        "\n",
        "fx = np.linspace(100000,700000,100)\n",
        "print(fx)"
      ],
      "execution_count": 61,
      "outputs": [
        {
          "output_type": "stream",
          "text": [
            " \n",
            "0.001309 x + 645.1 \n",
            "\n",
            "[100000.         106060.60606061 112121.21212121 118181.81818182\n",
            " 124242.42424242 130303.03030303 136363.63636364 142424.24242424\n",
            " 148484.84848485 154545.45454545 160606.06060606 166666.66666667\n",
            " 172727.27272727 178787.87878788 184848.48484848 190909.09090909\n",
            " 196969.6969697  203030.3030303  209090.90909091 215151.51515152\n",
            " 221212.12121212 227272.72727273 233333.33333333 239393.93939394\n",
            " 245454.54545455 251515.15151515 257575.75757576 263636.36363636\n",
            " 269696.96969697 275757.57575758 281818.18181818 287878.78787879\n",
            " 293939.39393939 300000.         306060.60606061 312121.21212121\n",
            " 318181.81818182 324242.42424242 330303.03030303 336363.63636364\n",
            " 342424.24242424 348484.84848485 354545.45454545 360606.06060606\n",
            " 366666.66666667 372727.27272727 378787.87878788 384848.48484848\n",
            " 390909.09090909 396969.6969697  403030.3030303  409090.90909091\n",
            " 415151.51515152 421212.12121212 427272.72727273 433333.33333333\n",
            " 439393.93939394 445454.54545455 451515.15151515 457575.75757576\n",
            " 463636.36363636 469696.96969697 475757.57575758 481818.18181818\n",
            " 487878.78787879 493939.39393939 500000.         506060.60606061\n",
            " 512121.21212121 518181.81818182 524242.42424242 530303.03030303\n",
            " 536363.63636364 542424.24242424 548484.84848485 554545.45454545\n",
            " 560606.06060606 566666.66666667 572727.27272727 578787.87878788\n",
            " 584848.48484848 590909.09090909 596969.6969697  603030.3030303\n",
            " 609090.90909091 615151.51515152 621212.12121212 627272.72727273\n",
            " 633333.33333333 639393.93939394 645454.54545455 651515.15151515\n",
            " 657575.75757576 663636.36363636 669696.96969697 675757.57575758\n",
            " 681818.18181818 687878.78787879 693939.39393939 700000.        ]\n"
          ],
          "name": "stdout"
        }
      ]
    },
    {
      "cell_type": "code",
      "metadata": {
        "colab": {
          "base_uri": "https://localhost:8080/",
          "height": 606
        },
        "id": "2PGhQAJnNvqu",
        "outputId": "2b2eb755-2e12-45ba-bf67-89bdba875129"
      },
      "source": [
        "# 회귀선 추가\n",
        "plt.figure(figsize = (10,10))\n",
        "plt.scatter(DF['인구수'],DF['소계'], s =50)\n",
        "plt.plot(fx, f1(fx), ls = 'dashed', lw=3, color = 'g')\n",
        "plt.xlabel('인구수')\n",
        "plt.ylabel('CCTV')\n",
        "plt.grid()\n",
        "plt.show()"
      ],
      "execution_count": 47,
      "outputs": [
        {
          "output_type": "display_data",
          "data": {
            "image/png": "[encoded data removed]",
            "text/plain": [
              "<Figure size 720x720 with 1 Axes>"
            ]
          },
          "metadata": {
            "tags": [],
            "needs_background": "light"
          }
        }
      ]
    },
    {
      "cell_type": "code",
      "metadata": {
        "colab": {
          "base_uri": "https://localhost:8080/",
          "height": 852
        },
        "id": "EUMgE0JCOUlF",
        "outputId": "3cbf7120-f0ba-47dc-f403-80b445d1ed27"
      },
      "source": [
        "# 오차열 추가후 시각화\n",
        "fp1 = np.polyfit(DF['인구수'], DF['소계'],1)\n",
        "\n",
        "f1 = np.poly1d(fp1)\n",
        "fx = np.linspace(100000,700000,100)\n",
        "DF['오차'] = np.abs(DF['소계']-f1(DF['인구수']))\n",
        "\n",
        "df_sort = DF.sort_values(by = '오차', ascending=False)\n",
        "\n",
        "df_sort"
      ],
      "execution_count": 50,
      "outputs": [
        {
          "output_type": "execute_result",
          "data": {
            "text/html": [
              "<div>\n",
              "<style scoped>\n",
              "    .dataframe tbody tr th:only-of-type {\n",
              "        vertical-align: middle;\n",
              "    }\n",
              "\n",
              "    .dataframe tbody tr th {\n",
              "        vertical-align: top;\n",
              "    }\n",
              "\n",
              "    .dataframe thead th {\n",
              "        text-align: right;\n",
              "    }\n",
              "</style>\n",
              "<table border=\"1\" class=\"dataframe\">\n",
              "  <thead>\n",
              "    <tr style=\"text-align: right;\">\n",
              "      <th></th>\n",
              "      <th>소계</th>\n",
              "      <th>최근증가율</th>\n",
              "      <th>인구수</th>\n",
              "      <th>CCTV 비율</th>\n",
              "      <th>오차</th>\n",
              "    </tr>\n",
              "    <tr>\n",
              "      <th>구별</th>\n",
              "      <th></th>\n",
              "      <th></th>\n",
              "      <th></th>\n",
              "      <th></th>\n",
              "      <th></th>\n",
              "    </tr>\n",
              "  </thead>\n",
              "  <tbody>\n",
              "    <tr>\n",
              "      <th>강남구</th>\n",
              "      <td>2780</td>\n",
              "      <td>150.619195</td>\n",
              "      <td>570500.0</td>\n",
              "      <td>0.487292</td>\n",
              "      <td>1388.055355</td>\n",
              "    </tr>\n",
              "    <tr>\n",
              "      <th>송파구</th>\n",
              "      <td>618</td>\n",
              "      <td>104.347826</td>\n",
              "      <td>667483.0</td>\n",
              "      <td>0.092587</td>\n",
              "      <td>900.911312</td>\n",
              "    </tr>\n",
              "    <tr>\n",
              "      <th>양천구</th>\n",
              "      <td>2034</td>\n",
              "      <td>34.671731</td>\n",
              "      <td>479978.0</td>\n",
              "      <td>0.423769</td>\n",
              "      <td>760.563512</td>\n",
              "    </tr>\n",
              "    <tr>\n",
              "      <th>서초구</th>\n",
              "      <td>1930</td>\n",
              "      <td>63.371266</td>\n",
              "      <td>450310.0</td>\n",
              "      <td>0.428594</td>\n",
              "      <td>695.403794</td>\n",
              "    </tr>\n",
              "    <tr>\n",
              "      <th>용산구</th>\n",
              "      <td>1624</td>\n",
              "      <td>53.216374</td>\n",
              "      <td>244203.0</td>\n",
              "      <td>0.665020</td>\n",
              "      <td>659.231690</td>\n",
              "    </tr>\n",
              "    <tr>\n",
              "      <th>도봉구</th>\n",
              "      <td>485</td>\n",
              "      <td>246.638655</td>\n",
              "      <td>348646.0</td>\n",
              "      <td>0.139110</td>\n",
              "      <td>616.501341</td>\n",
              "    </tr>\n",
              "    <tr>\n",
              "      <th>마포구</th>\n",
              "      <td>574</td>\n",
              "      <td>212.101911</td>\n",
              "      <td>389649.0</td>\n",
              "      <td>0.147312</td>\n",
              "      <td>581.180999</td>\n",
              "    </tr>\n",
              "    <tr>\n",
              "      <th>은평구</th>\n",
              "      <td>1873</td>\n",
              "      <td>85.237258</td>\n",
              "      <td>494388.0</td>\n",
              "      <td>0.378852</td>\n",
              "      <td>580.698457</td>\n",
              "    </tr>\n",
              "    <tr>\n",
              "      <th>강서구</th>\n",
              "      <td>884</td>\n",
              "      <td>134.793814</td>\n",
              "      <td>603772.0</td>\n",
              "      <td>0.146413</td>\n",
              "      <td>551.503155</td>\n",
              "    </tr>\n",
              "    <tr>\n",
              "      <th>중랑구</th>\n",
              "      <td>660</td>\n",
              "      <td>79.960707</td>\n",
              "      <td>414503.0</td>\n",
              "      <td>0.159227</td>\n",
              "      <td>527.718965</td>\n",
              "    </tr>\n",
              "    <tr>\n",
              "      <th>강동구</th>\n",
              "      <td>773</td>\n",
              "      <td>166.490765</td>\n",
              "      <td>453233.0</td>\n",
              "      <td>0.170552</td>\n",
              "      <td>465.422892</td>\n",
              "    </tr>\n",
              "    <tr>\n",
              "      <th>광진구</th>\n",
              "      <td>707</td>\n",
              "      <td>53.228621</td>\n",
              "      <td>372164.0</td>\n",
              "      <td>0.189970</td>\n",
              "      <td>425.290264</td>\n",
              "    </tr>\n",
              "    <tr>\n",
              "      <th>구로구</th>\n",
              "      <td>1561</td>\n",
              "      <td>64.973730</td>\n",
              "      <td>447874.0</td>\n",
              "      <td>0.348536</td>\n",
              "      <td>329.592918</td>\n",
              "    </tr>\n",
              "    <tr>\n",
              "      <th>강북구</th>\n",
              "      <td>748</td>\n",
              "      <td>125.203252</td>\n",
              "      <td>330192.0</td>\n",
              "      <td>0.226535</td>\n",
              "      <td>329.342026</td>\n",
              "    </tr>\n",
              "    <tr>\n",
              "      <th>영등포구</th>\n",
              "      <td>904</td>\n",
              "      <td>157.979798</td>\n",
              "      <td>402985.0</td>\n",
              "      <td>0.224326</td>\n",
              "      <td>268.640012</td>\n",
              "    </tr>\n",
              "    <tr>\n",
              "      <th>성북구</th>\n",
              "      <td>1464</td>\n",
              "      <td>63.627354</td>\n",
              "      <td>461260.0</td>\n",
              "      <td>0.317391</td>\n",
              "      <td>215.068447</td>\n",
              "    </tr>\n",
              "    <tr>\n",
              "      <th>동대문구</th>\n",
              "      <td>1294</td>\n",
              "      <td>74.766355</td>\n",
              "      <td>369496.0</td>\n",
              "      <td>0.350207</td>\n",
              "      <td>165.202586</td>\n",
              "    </tr>\n",
              "    <tr>\n",
              "      <th>관악구</th>\n",
              "      <td>1496</td>\n",
              "      <td>149.290780</td>\n",
              "      <td>525515.0</td>\n",
              "      <td>0.284673</td>\n",
              "      <td>162.948104</td>\n",
              "    </tr>\n",
              "    <tr>\n",
              "      <th>중구</th>\n",
              "      <td>671</td>\n",
              "      <td>147.699758</td>\n",
              "      <td>133240.0</td>\n",
              "      <td>0.503603</td>\n",
              "      <td>148.499528</td>\n",
              "    </tr>\n",
              "    <tr>\n",
              "      <th>종로구</th>\n",
              "      <td>1002</td>\n",
              "      <td>248.922414</td>\n",
              "      <td>162820.0</td>\n",
              "      <td>0.615404</td>\n",
              "      <td>143.775396</td>\n",
              "    </tr>\n",
              "    <tr>\n",
              "      <th>노원구</th>\n",
              "      <td>1265</td>\n",
              "      <td>188.929889</td>\n",
              "      <td>569384.0</td>\n",
              "      <td>0.222170</td>\n",
              "      <td>125.483618</td>\n",
              "    </tr>\n",
              "    <tr>\n",
              "      <th>서대문구</th>\n",
              "      <td>962</td>\n",
              "      <td>48.578199</td>\n",
              "      <td>327163.0</td>\n",
              "      <td>0.294043</td>\n",
              "      <td>111.376568</td>\n",
              "    </tr>\n",
              "    <tr>\n",
              "      <th>동작구</th>\n",
              "      <td>1091</td>\n",
              "      <td>139.338235</td>\n",
              "      <td>412520.0</td>\n",
              "      <td>0.264472</td>\n",
              "      <td>94.122892</td>\n",
              "    </tr>\n",
              "    <tr>\n",
              "      <th>금천구</th>\n",
              "      <td>1015</td>\n",
              "      <td>100.000000</td>\n",
              "      <td>255082.0</td>\n",
              "      <td>0.397911</td>\n",
              "      <td>35.989293</td>\n",
              "    </tr>\n",
              "    <tr>\n",
              "      <th>성동구</th>\n",
              "      <td>1062</td>\n",
              "      <td>81.780822</td>\n",
              "      <td>311244.0</td>\n",
              "      <td>0.341211</td>\n",
              "      <td>9.464016</td>\n",
              "    </tr>\n",
              "  </tbody>\n",
              "</table>\n",
              "</div>"
            ],
            "text/plain": [
              "        소계       최근증가율       인구수   CCTV 비율           오차\n",
              "구별                                                     \n",
              "강남구   2780  150.619195  570500.0  0.487292  1388.055355\n",
              "송파구    618  104.347826  667483.0  0.092587   900.911312\n",
              "양천구   2034   34.671731  479978.0  0.423769   760.563512\n",
              "서초구   1930   63.371266  450310.0  0.428594   695.403794\n",
              "용산구   1624   53.216374  244203.0  0.665020   659.231690\n",
              "도봉구    485  246.638655  348646.0  0.139110   616.501341\n",
              "마포구    574  212.101911  389649.0  0.147312   581.180999\n",
              "은평구   1873   85.237258  494388.0  0.378852   580.698457\n",
              "강서구    884  134.793814  603772.0  0.146413   551.503155\n",
              "중랑구    660   79.960707  414503.0  0.159227   527.718965\n",
              "강동구    773  166.490765  453233.0  0.170552   465.422892\n",
              "광진구    707   53.228621  372164.0  0.189970   425.290264\n",
              "구로구   1561   64.973730  447874.0  0.348536   329.592918\n",
              "강북구    748  125.203252  330192.0  0.226535   329.342026\n",
              "영등포구   904  157.979798  402985.0  0.224326   268.640012\n",
              "성북구   1464   63.627354  461260.0  0.317391   215.068447\n",
              "동대문구  1294   74.766355  369496.0  0.350207   165.202586\n",
              "관악구   1496  149.290780  525515.0  0.284673   162.948104\n",
              "중구     671  147.699758  133240.0  0.503603   148.499528\n",
              "종로구   1002  248.922414  162820.0  0.615404   143.775396\n",
              "노원구   1265  188.929889  569384.0  0.222170   125.483618\n",
              "서대문구   962   48.578199  327163.0  0.294043   111.376568\n",
              "동작구   1091  139.338235  412520.0  0.264472    94.122892\n",
              "금천구   1015  100.000000  255082.0  0.397911    35.989293\n",
              "성동구   1062   81.780822  311244.0  0.341211     9.464016"
            ]
          },
          "metadata": {
            "tags": []
          },
          "execution_count": 50
        }
      ]
    },
    {
      "cell_type": "code",
      "metadata": {
        "colab": {
          "base_uri": "https://localhost:8080/",
          "height": 388
        },
        "id": "cE1XdiEDPE_D",
        "outputId": "ef7e264a-7348-458d-b180-abc2129755b4"
      },
      "source": [
        "# 최종 시각화\n",
        "import seaborn as sns\n",
        "plt.figure(figsize= (10,6))\n",
        "plt.scatter(DF['인구수'], DF['소계'], c = DF['오차'], s= 50) #s 마커의 사이즈 c 마커의 색상\n",
        "plt.plot(fx, f1(fx), ls = 'dashed', lw =3, color= 'g') #lw 선의 굵기 ,ls 선 스타일\n",
        "#sns.regplot(x=DF['인구수'],y=DF['소계'] ,data=DF)\n",
        "for n in range(10):\n",
        "    plt.text(df_sort['인구수'][n]*1.02,\n",
        "             df_sort['소계'][n]*0.98,\n",
        "             df_sort.index[n],\n",
        "             fontsize=15)\n",
        "plt.xlabel('인구수')\n",
        "plt.ylabel('인구당비율')\n",
        "plt.colorbar()\n",
        "plt.grid()\n",
        "plt.show()"
      ],
      "execution_count": 62,
      "outputs": [
        {
          "output_type": "display_data",
          "data": {
            "image/png": "[encoded data removed]",
            "text/plain": [
              "<Figure size 720x432 with 2 Axes>"
            ]
          },
          "metadata": {
            "tags": [],
            "needs_background": "light"
          }
        }
      ]
    },
    {
      "cell_type": "code",
      "metadata": {
        "id": "Z6mpzf63P952"
      },
      "source": [
        ""
      ],
      "execution_count": 60,
      "outputs": []
    },
    {
      "cell_type": "code",
      "metadata": {
        "id": "EN6n-C92briW"
      },
      "source": [
        ""
      ],
      "execution_count": null,
      "outputs": []
    }
  ]
}